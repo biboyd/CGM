{
 "cells": [
  {
   "cell_type": "code",
   "execution_count": 1,
   "metadata": {
    "scrolled": true
   },
   "outputs": [],
   "source": [
    "import yt\n",
    "import trident\n",
    "import numpy as np\n",
    "import matplotlib.pyplot as plt\n",
    "from IPython.display import Image\n",
    "from importlib import reload"
   ]
  },
  {
   "cell_type": "code",
   "execution_count": 2,
   "metadata": {},
   "outputs": [],
   "source": [
    "import plotter\n",
    "import h5py"
   ]
  },
  {
   "cell_type": "code",
   "execution_count": 3,
   "metadata": {},
   "outputs": [],
   "source": [
    "filename = \"~/Repo/yt/doc/source/quickstart/IsolatedGalaxy/galaxy0030/galaxy0030\""
   ]
  },
  {
   "cell_type": "code",
   "execution_count": 4,
   "metadata": {
    "scrolled": true
   },
   "outputs": [
    {
     "name": "stderr",
     "output_type": "stream",
     "text": [
      "yt : [INFO     ] 2019-05-28 16:31:46,374 Parameters: current_time              = 0.0060000200028298\n",
      "yt : [INFO     ] 2019-05-28 16:31:46,375 Parameters: domain_dimensions         = [32 32 32]\n",
      "yt : [INFO     ] 2019-05-28 16:31:46,377 Parameters: domain_left_edge          = [0. 0. 0.]\n",
      "yt : [INFO     ] 2019-05-28 16:31:46,379 Parameters: domain_right_edge         = [1. 1. 1.]\n",
      "yt : [INFO     ] 2019-05-28 16:31:46,380 Parameters: cosmological_simulation   = 0.0\n"
     ]
    }
   ],
   "source": [
    "ds = yt.load(filename)"
   ]
  },
  {
   "cell_type": "markdown",
   "metadata": {},
   "source": [
    "# Testing multiplot class"
   ]
  },
  {
   "cell_type": "code",
   "execution_count": 17,
   "metadata": {
    "scrolled": false
   },
   "outputs": [
    {
     "data": {
      "text/plain": [
       "<module 'plotter' from '/home/bb/Repo/CGM/plotting_ray/plotter.py'>"
      ]
     },
     "execution_count": 17,
     "metadata": {},
     "output_type": "execute_result"
    }
   ],
   "source": [
    "reload(plotter)"
   ]
  },
  {
   "cell_type": "code",
   "execution_count": 18,
   "metadata": {},
   "outputs": [],
   "source": [
    "line_list=['O VI', 'H I']"
   ]
  },
  {
   "cell_type": "code",
   "execution_count": 19,
   "metadata": {
    "scrolled": true
   },
   "outputs": [
    {
     "name": "stderr",
     "output_type": "stream",
     "text": [
      "yt : [INFO     ] 2019-05-28 16:38:14,420 Parameters: current_time              = 0.0060000200028298\n",
      "yt : [INFO     ] 2019-05-28 16:38:14,421 Parameters: domain_dimensions         = [32 32 32]\n",
      "yt : [INFO     ] 2019-05-28 16:38:14,422 Parameters: domain_left_edge          = [0. 0. 0.]\n",
      "yt : [INFO     ] 2019-05-28 16:38:14,423 Parameters: domain_right_edge         = [1. 1. 1.]\n",
      "yt : [INFO     ] 2019-05-28 16:38:14,424 Parameters: cosmological_simulation   = 0.0\n",
      "yt : [INFO     ] 2019-05-28 16:38:14,545 Parameters: current_time              = 0.0060000200028298 code_time\n",
      "yt : [INFO     ] 2019-05-28 16:38:14,545 Parameters: domain_dimensions         = [2 2 2]\n",
      "yt : [INFO     ] 2019-05-28 16:38:14,547 Parameters: domain_left_edge          = [0. 0. 0.] code_length\n",
      "yt : [INFO     ] 2019-05-28 16:38:14,547 Parameters: domain_right_edge         = [1. 1. 1.] code_length\n",
      "yt : [INFO     ] 2019-05-28 16:38:14,549 Parameters: cosmological_simulation   = 0.0\n"
     ]
    },
    {
     "data": {
      "text/plain": [
       "<Figure size 720x720 with 0 Axes>"
      ]
     },
     "metadata": {},
     "output_type": "display_data"
    }
   ],
   "source": [
    "mp = plotter.multi_plot(filename, \"test_rays/ray0000.h5\", ion_name='C IV', absorber_fields = line_list)"
   ]
  },
  {
   "cell_type": "code",
   "execution_count": 20,
   "metadata": {},
   "outputs": [
    {
     "name": "stderr",
     "output_type": "stream",
     "text": [
      "yt : [INFO     ] 2019-05-28 16:38:14,950 Parameters: current_time              = 0.0060000200028298 code_time\n",
      "yt : [INFO     ] 2019-05-28 16:38:14,950 Parameters: domain_dimensions         = [2 2 2]\n",
      "yt : [INFO     ] 2019-05-28 16:38:14,951 Parameters: domain_left_edge          = [0. 0. 0.] code_length\n",
      "yt : [INFO     ] 2019-05-28 16:38:14,952 Parameters: domain_right_edge         = [1. 1. 1.] code_length\n",
      "yt : [INFO     ] 2019-05-28 16:38:14,953 Parameters: cosmological_simulation   = 0.0\n"
     ]
    },
    {
     "data": {
      "text/plain": [
       "(None, ray0000.h5, <HDF5 file \"ray0000.h5\" (mode r+)>)"
      ]
     },
     "execution_count": 20,
     "metadata": {},
     "output_type": "execute_result"
    }
   ],
   "source": [
    "mp.open_files(open_ds=False)"
   ]
  },
  {
   "cell_type": "code",
   "execution_count": 21,
   "metadata": {},
   "outputs": [
    {
     "data": {
      "text/plain": [
       "<HDF5 file \"ray0000.h5\" (mode r+)>"
      ]
     },
     "execution_count": 21,
     "metadata": {},
     "output_type": "execute_result"
    }
   ],
   "source": [
    "h5py.File(\"test_rays/ray0000.h5\")"
   ]
  },
  {
   "cell_type": "code",
   "execution_count": 22,
   "metadata": {
    "scrolled": true
   },
   "outputs": [
    {
     "name": "stderr",
     "output_type": "stream",
     "text": [
      "Parsing Hierarchy : 100%|██████████| 173/173 [00:00<00:00, 6070.31it/s]\n",
      "yt : [INFO     ] 2019-05-28 16:38:26,954 Gathering a field list (this may take a moment.)\n",
      "yt : [WARNING  ] 2019-05-28 16:38:28,493 Field ('gas', 'H_p0_number_density') already exists. Not clobbering.\n",
      "yt : [WARNING  ] 2019-05-28 16:38:28,493 Field ('gas', 'H_number_density') already exists. Not clobbering.\n",
      "yt : [WARNING  ] 2019-05-28 16:38:28,494 Field ('gas', 'H_p0_density') already exists. Not clobbering.\n",
      "yt : [WARNING  ] 2019-05-28 16:38:28,494 Field ('gas', 'H_density') already exists. Not clobbering.\n",
      "yt : [WARNING  ] 2019-05-28 16:38:28,495 Field ('gas', 'H_p0_mass') already exists. Not clobbering.\n",
      "yt : [WARNING  ] 2019-05-28 16:38:28,495 Field ('gas', 'H_mass') already exists. Not clobbering.\n",
      "yt : [INFO     ] 2019-05-28 16:38:28,678 xlim = -0.202598 0.202598\n",
      "yt : [INFO     ] 2019-05-28 16:38:28,678 ylim = -0.202598 0.202598\n",
      "yt : [INFO     ] 2019-05-28 16:38:28,681 Making a fixed resolution buffer of (('gas', 'C_p3_number_density')) 800 by 800\n",
      "/home/bb/anaconda3/lib/python3.7/site-packages/yt/units/yt_array.py:1394: RuntimeWarning: invalid value encountered in true_divide\n",
      "  out=out, **kwargs)\n",
      "yt : [INFO     ] 2019-05-28 16:38:29,209 Setting instrument to Custom\n",
      "yt : [INFO     ] 2019-05-28 16:38:29,266 Allocating for 6.600e+01 particles (index particle type 'all')\n",
      "yt : [INFO     ] 2019-05-28 16:38:29,270 Identified 5.700e+01 octs\n",
      "yt : [INFO     ] 2019-05-28 16:38:29,501 Creating spectrum\n",
      "yt : [INFO     ] 2019-05-28 16:38:29,529 66 out of 66 line components will be deposited as unresolved lines.\n",
      "Adding line - O VI 1038 [1037.613000 A]: : 100%|██████████| 66/66 [00:00<00:00, 3526.65it/s]\n",
      "yt : [INFO     ] 2019-05-28 16:38:29,555 66 out of 66 line components will be deposited as unresolved lines.\n",
      "Adding line - O VI 1032 [1031.912000 A]: : 100%|██████████| 66/66 [00:00<00:00, 2834.13it/s]\n",
      "yt : [INFO     ] 2019-05-28 16:38:29,588 66 out of 66 line components will be deposited as unresolved lines.\n",
      "Adding line - Ly a [1215.670000 A]: : 100%|██████████| 66/66 [00:00<00:00, 3775.77it/s]\n",
      "yt : [INFO     ] 2019-05-28 16:38:29,610 66 out of 66 line components will be deposited as unresolved lines.\n",
      "Adding line - Ly b [1025.722200 A]: : 100%|██████████| 66/66 [00:00<00:00, 2621.24it/s]\n",
      "yt : [INFO     ] 2019-05-28 16:38:29,643 66 out of 66 line components will be deposited as unresolved lines.\n",
      "Adding line - Ly c [972.536740 A]: : 100%|██████████| 66/66 [00:00<00:00, 3502.37it/s]\n",
      "yt : [INFO     ] 2019-05-28 16:38:29,668 66 out of 66 line components will be deposited as unresolved lines.\n",
      "Adding line - Ly d [949.742980 A]: : 100%|██████████| 66/66 [00:00<00:00, 2888.01it/s]\n",
      "yt : [INFO     ] 2019-05-28 16:38:29,697 66 out of 66 line components will be deposited as unresolved lines.\n",
      "Adding line - Ly e [937.803400 A]: : 100%|██████████| 66/66 [00:00<00:00, 3036.42it/s]\n",
      "yt : [INFO     ] 2019-05-28 16:38:29,725 66 out of 66 line components will be deposited as unresolved lines.\n",
      "Adding line - Ly 6 [930.748200 A]: : 100%|██████████| 66/66 [00:00<00:00, 3299.57it/s]\n",
      "yt : [INFO     ] 2019-05-28 16:38:29,751 66 out of 66 line components will be deposited as unresolved lines.\n",
      "Adding line - Ly 7 [926.225640 A]: : 100%|██████████| 66/66 [00:00<00:00, 2999.34it/s]\n",
      "yt : [INFO     ] 2019-05-28 16:38:29,778 66 out of 66 line components will be deposited as unresolved lines.\n",
      "Adding line - Ly 8 [923.150300 A]: : 100%|██████████| 66/66 [00:00<00:00, 3216.60it/s]\n",
      "yt : [INFO     ] 2019-05-28 16:38:29,805 66 out of 66 line components will be deposited as unresolved lines.\n",
      "Adding line - Ly 9 [920.963026 A]: : 100%|██████████| 66/66 [00:00<00:00, 2798.27it/s]\n",
      "yt : [INFO     ] 2019-05-28 16:38:29,834 66 out of 66 line components will be deposited as unresolved lines.\n",
      "Adding line - Ly 10 [919.351351 A]: : 100%|██████████| 66/66 [00:00<00:00, 3327.01it/s]\n",
      "yt : [INFO     ] 2019-05-28 16:38:29,859 66 out of 66 line components will be deposited as unresolved lines.\n",
      "Adding line - Ly 11 [918.129312 A]: : 100%|██████████| 66/66 [00:00<00:00, 2754.88it/s]\n",
      "yt : [INFO     ] 2019-05-28 16:38:29,891 66 out of 66 line components will be deposited as unresolved lines.\n",
      "Adding line - Ly 12 [917.180525 A]: : 100%|██████████| 66/66 [00:00<00:00, 2743.39it/s]\n",
      "yt : [INFO     ] 2019-05-28 16:38:29,921 66 out of 66 line components will be deposited as unresolved lines.\n",
      "Adding line - Ly 13 [916.429085 A]: : 100%|██████████| 66/66 [00:00<00:00, 2469.57it/s]\n",
      "yt : [INFO     ] 2019-05-28 16:38:29,953 66 out of 66 line components will be deposited as unresolved lines.\n",
      "Adding line - Ly 14 [915.823759 A]: : 100%|██████████| 66/66 [00:00<00:00, 3024.80it/s]\n",
      "yt : [INFO     ] 2019-05-28 16:38:29,980 66 out of 66 line components will be deposited as unresolved lines.\n",
      "Adding line - Ly 15 [915.328939 A]: : 100%|██████████| 66/66 [00:00<00:00, 3781.03it/s]\n",
      "yt : [INFO     ] 2019-05-28 16:38:30,004 66 out of 66 line components will be deposited as unresolved lines.\n",
      "Adding line - Ly 16 [914.919249 A]: : 100%|██████████| 66/66 [00:00<00:00, 3460.73it/s]\n",
      "yt : [INFO     ] 2019-05-28 16:38:30,028 66 out of 66 line components will be deposited as unresolved lines.\n",
      "Adding line - Ly 17 [914.576207 A]: : 100%|██████████| 66/66 [00:00<00:00, 3639.26it/s]\n",
      "yt : [INFO     ] 2019-05-28 16:38:30,054 66 out of 66 line components will be deposited as unresolved lines.\n",
      "Adding line - Ly 18 [914.286092 A]: : 100%|██████████| 66/66 [00:00<00:00, 3003.70it/s]\n",
      "yt : [INFO     ] 2019-05-28 16:38:30,081 66 out of 66 line components will be deposited as unresolved lines.\n",
      "Adding line - Ly 19 [914.038542 A]: : 100%|██████████| 66/66 [00:00<00:00, 2700.51it/s]\n",
      "yt : [INFO     ] 2019-05-28 16:38:30,111 66 out of 66 line components will be deposited as unresolved lines.\n",
      "Adding line - Ly 20 [913.825614 A]: : 100%|██████████| 66/66 [00:00<00:00, 3005.36it/s]\n",
      "yt : [INFO     ] 2019-05-28 16:38:30,138 66 out of 66 line components will be deposited as unresolved lines.\n",
      "Adding line - Ly 21 [913.641137 A]: : 100%|██████████| 66/66 [00:00<00:00, 3505.08it/s]\n",
      "yt : [INFO     ] 2019-05-28 16:38:30,165 66 out of 66 line components will be deposited as unresolved lines.\n",
      "Adding line - Ly 22 [913.480256 A]: : 100%|██████████| 66/66 [00:00<00:00, 2678.56it/s]\n",
      "yt : [INFO     ] 2019-05-28 16:38:30,196 66 out of 66 line components will be deposited as unresolved lines.\n",
      "Adding line - Ly 23 [913.339110 A]: : 100%|██████████| 66/66 [00:00<00:00, 2610.09it/s]\n",
      "yt : [INFO     ] 2019-05-28 16:38:30,230 66 out of 66 line components will be deposited as unresolved lines.\n",
      "Adding line - Ly 24 [913.214596 A]: : 100%|██████████| 66/66 [00:00<00:00, 2539.13it/s]\n",
      "yt : [INFO     ] 2019-05-28 16:38:30,274 66 out of 66 line components will be deposited as unresolved lines.\n",
      "Adding line - Ly 25 [913.104199 A]: : 100%|██████████| 66/66 [00:00<00:00, 2051.19it/s]\n",
      "yt : [INFO     ] 2019-05-28 16:38:30,315 66 out of 66 line components will be deposited as unresolved lines.\n",
      "Adding line - Ly 26 [913.005863 A]: : 100%|██████████| 66/66 [00:00<00:00, 2119.80it/s]\n",
      "yt : [INFO     ] 2019-05-28 16:38:30,354 66 out of 66 line components will be deposited as unresolved lines.\n",
      "Adding line - Ly 27 [912.917891 A]: : 100%|██████████| 66/66 [00:00<00:00, 2456.49it/s]\n",
      "yt : [INFO     ] 2019-05-28 16:38:30,387 66 out of 66 line components will be deposited as unresolved lines.\n",
      "Adding line - Ly 28 [912.838877 A]: : 100%|██████████| 66/66 [00:00<00:00, 2148.14it/s]\n",
      "yt : [INFO     ] 2019-05-28 16:38:30,427 66 out of 66 line components will be deposited as unresolved lines.\n",
      "Adding line - Ly 29 [912.767643 A]: : 100%|██████████| 66/66 [00:00<00:00, 2692.66it/s]\n",
      "yt : [INFO     ] 2019-05-28 16:38:30,457 66 out of 66 line components will be deposited as unresolved lines.\n",
      "Adding line - Ly 30 [912.703200 A]: : 100%|██████████| 66/66 [00:00<00:00, 2274.08it/s]\n",
      "yt : [INFO     ] 2019-05-28 16:38:30,492 66 out of 66 line components will be deposited as unresolved lines.\n",
      "Adding line - Ly 31 [912.644712 A]: : 100%|██████████| 66/66 [00:00<00:00, 2744.83it/s]\n",
      "yt : [INFO     ] 2019-05-28 16:38:30,525 66 out of 66 line components will be deposited as unresolved lines.\n",
      "Adding line - Ly 32 [912.591467 A]: : 100%|██████████| 66/66 [00:00<00:00, 3151.89it/s]\n",
      "yt : [INFO     ] 2019-05-28 16:38:30,554 66 out of 66 line components will be deposited as unresolved lines.\n"
     ]
    },
    {
     "name": "stderr",
     "output_type": "stream",
     "text": [
      "Adding line - Ly 33 [912.542856 A]: : 100%|██████████| 66/66 [00:00<00:00, 2628.73it/s]\n",
      "yt : [INFO     ] 2019-05-28 16:38:30,590 66 out of 66 line components will be deposited as unresolved lines.\n",
      "Adding line - Ly 34 [912.498356 A]: : 100%|██████████| 66/66 [00:00<00:00, 2990.14it/s]\n",
      "yt : [INFO     ] 2019-05-28 16:38:30,618 66 out of 66 line components will be deposited as unresolved lines.\n",
      "Adding line - Ly 35 [912.457516 A]: : 100%|██████████| 66/66 [00:00<00:00, 2612.14it/s]\n",
      "yt : [INFO     ] 2019-05-28 16:38:30,649 66 out of 66 line components will be deposited as unresolved lines.\n",
      "Adding line - Ly 36 [912.419946 A]: : 100%|██████████| 66/66 [00:00<00:00, 3019.89it/s]\n",
      "yt : [INFO     ] 2019-05-28 16:38:30,676 66 out of 66 line components will be deposited as unresolved lines.\n",
      "Adding line - Ly 37 [912.385306 A]: : 100%|██████████| 66/66 [00:00<00:00, 2403.93it/s]\n",
      "yt : [INFO     ] 2019-05-28 16:38:30,710 66 out of 66 line components will be deposited as unresolved lines.\n",
      "Adding line - Ly 38 [912.353298 A]: : 100%|██████████| 66/66 [00:00<00:00, 2227.10it/s]\n",
      "yt : [INFO     ] 2019-05-28 16:38:30,745 66 out of 66 line components will be deposited as unresolved lines.\n",
      "Adding line - Ly 39 [912.323663 A]: : 100%|██████████| 66/66 [00:00<00:00, 3158.94it/s]\n",
      "yt : [INFO     ] 2019-05-28 16:38:30,789 66 out of 66 line components will be deposited as unresolved lines.\n",
      "Adding line - C IV 1551 [1550.772000 A]: : 100%|██████████| 66/66 [00:00<00:00, 2075.41it/s]\n",
      "yt : [INFO     ] 2019-05-28 16:38:30,827 66 out of 66 line components will be deposited as unresolved lines.\n",
      "Adding line - C IV 1548 [1548.187000 A]: : 100%|██████████| 66/66 [00:00<00:00, 2157.04it/s]\n",
      "yt : [INFO     ] 2019-05-28 16:38:30,872 Not adding continuum Ly C: insufficient column density or out of range\n"
     ]
    }
   ],
   "source": [
    "mp.create_multiplot(\"class_comb.png\")"
   ]
  },
  {
   "cell_type": "code",
   "execution_count": 15,
   "metadata": {
    "scrolled": false
   },
   "outputs": [
    {
     "data": {
      "image/png": "[encoded data removed]",
      "text/plain": [
       "<IPython.core.display.Image object>"
      ]
     },
     "execution_count": 15,
     "metadata": {
      "image/png": {
       "height": 10000,
       "width": 10000
      }
     },
     "output_type": "execute_result"
    }
   ],
   "source": [
    "Image(filename='class_comb.png', width=10000, height =10000)"
   ]
  },
  {
   "cell_type": "code",
   "execution_count": 12,
   "metadata": {},
   "outputs": [],
   "source": [
    "mp.close()"
   ]
  },
  {
   "cell_type": "markdown",
   "metadata": {},
   "source": [
    "# Testing ray constructor function"
   ]
  },
  {
   "cell_type": "code",
   "execution_count": 13,
   "metadata": {
    "scrolled": true
   },
   "outputs": [
    {
     "data": {
      "text/plain": [
       "<module 'plotter' from '/home/bb/Repo/CGM/plotting_ray/plotter.py'>"
      ]
     },
     "execution_count": 13,
     "metadata": {},
     "output_type": "execute_result"
    }
   ],
   "source": [
    "reload(plotter)"
   ]
  },
  {
   "cell_type": "code",
   "execution_count": 14,
   "metadata": {},
   "outputs": [],
   "source": [
    "line_list=['H I', 'O VI', 'C IV']"
   ]
  },
  {
   "cell_type": "code",
   "execution_count": 15,
   "metadata": {
    "scrolled": true
   },
   "outputs": [
    {
     "name": "stderr",
     "output_type": "stream",
     "text": [
      "yt : [INFO     ] 2019-05-28 14:30:23,358 Parameters: current_time              = 0.0060000200028298\n",
      "yt : [INFO     ] 2019-05-28 14:30:23,359 Parameters: domain_dimensions         = [32 32 32]\n",
      "yt : [INFO     ] 2019-05-28 14:30:23,360 Parameters: domain_left_edge          = [0. 0. 0.]\n",
      "yt : [INFO     ] 2019-05-28 14:30:23,361 Parameters: domain_right_edge         = [1. 1. 1.]\n",
      "yt : [INFO     ] 2019-05-28 14:30:23,362 Parameters: cosmological_simulation   = 0.0\n",
      "Parsing Hierarchy : 100%|██████████| 173/173 [00:00<00:00, 5309.25it/s]\n",
      "yt : [INFO     ] 2019-05-28 14:30:23,408 Gathering a field list (this may take a moment.)\n",
      "yt : [WARNING  ] 2019-05-28 14:30:24,637 Field ('gas', 'H_p0_number_density') already exists. Not clobbering.\n",
      "yt : [WARNING  ] 2019-05-28 14:30:24,637 Field ('gas', 'H_number_density') already exists. Not clobbering.\n",
      "yt : [WARNING  ] 2019-05-28 14:30:24,638 Field ('gas', 'H_p0_density') already exists. Not clobbering.\n",
      "yt : [WARNING  ] 2019-05-28 14:30:24,638 Field ('gas', 'H_density') already exists. Not clobbering.\n",
      "yt : [WARNING  ] 2019-05-28 14:30:24,640 Field ('gas', 'H_p0_mass') already exists. Not clobbering.\n",
      "yt : [WARNING  ] 2019-05-28 14:30:24,640 Field ('gas', 'H_mass') already exists. Not clobbering.\n",
      "yt : [INFO     ] 2019-05-28 14:30:24,697 Getting segment at z = 0.0: [0.31208111 0.43160312 0.6999791 ] unitary to [0.68791889 0.56839688 0.6999791 ] unitary.\n",
      "yt : [INFO     ] 2019-05-28 14:30:24,698 Getting subsegment: [0.3120811112796624 unitary, 0.4316031180494143 unitary, 0.6999791044045577 unitary] to [0.6879188887203376 unitary, 0.5683968819505857 unitary, 0.6999791044045577 unitary].\n",
      "yt : [INFO     ] 2019-05-28 14:30:24,800 Saving field data to yt dataset: ./test_rays/ray0000.h5.\n",
      "yt : [INFO     ] 2019-05-28 14:30:25,013 Parameters: current_time              = 0.0060000200028298 code_time\n",
      "yt : [INFO     ] 2019-05-28 14:30:25,013 Parameters: domain_dimensions         = [2 2 2]\n",
      "yt : [INFO     ] 2019-05-28 14:30:25,014 Parameters: domain_left_edge          = [0. 0. 0.] code_length\n",
      "yt : [INFO     ] 2019-05-28 14:30:25,014 Parameters: domain_right_edge         = [1. 1. 1.] code_length\n",
      "yt : [INFO     ] 2019-05-28 14:30:25,015 Parameters: cosmological_simulation   = 0.0\n",
      "yt : [INFO     ] 2019-05-28 14:30:25,018 Getting segment at z = 0.0: [0.31208111 0.43160312 0.6555393 ] unitary to [0.68791889 0.56839688 0.6555393 ] unitary.\n",
      "yt : [INFO     ] 2019-05-28 14:30:25,022 Getting subsegment: [0.3120811112796624 unitary, 0.4316031180494143 unitary, 0.655539303425767 unitary] to [0.6879188887203376 unitary, 0.5683968819505857 unitary, 0.655539303425767 unitary].\n",
      "yt : [INFO     ] 2019-05-28 14:30:25,167 Saving field data to yt dataset: ./test_rays/ray0001.h5.\n",
      "yt : [INFO     ] 2019-05-28 14:30:25,381 Parameters: current_time              = 0.0060000200028298 code_time\n",
      "yt : [INFO     ] 2019-05-28 14:30:25,381 Parameters: domain_dimensions         = [2 2 2]\n",
      "yt : [INFO     ] 2019-05-28 14:30:25,382 Parameters: domain_left_edge          = [0. 0. 0.] code_length\n",
      "yt : [INFO     ] 2019-05-28 14:30:25,383 Parameters: domain_right_edge         = [1. 1. 1.] code_length\n",
      "yt : [INFO     ] 2019-05-28 14:30:25,384 Parameters: cosmological_simulation   = 0.0\n",
      "yt : [INFO     ] 2019-05-28 14:30:25,387 Getting segment at z = 0.0: [0.31208111 0.43160312 0.6110995 ] unitary to [0.68791889 0.56839688 0.6110995 ] unitary.\n",
      "yt : [INFO     ] 2019-05-28 14:30:25,392 Getting subsegment: [0.3120811112796624 unitary, 0.4316031180494143 unitary, 0.6110995024469765 unitary] to [0.6879188887203376 unitary, 0.5683968819505857 unitary, 0.6110995024469765 unitary].\n",
      "yt : [INFO     ] 2019-05-28 14:30:25,507 Saving field data to yt dataset: ./test_rays/ray0002.h5.\n",
      "yt : [INFO     ] 2019-05-28 14:30:25,720 Parameters: current_time              = 0.0060000200028298 code_time\n",
      "yt : [INFO     ] 2019-05-28 14:30:25,720 Parameters: domain_dimensions         = [2 2 2]\n",
      "yt : [INFO     ] 2019-05-28 14:30:25,721 Parameters: domain_left_edge          = [0. 0. 0.] code_length\n",
      "yt : [INFO     ] 2019-05-28 14:30:25,722 Parameters: domain_right_edge         = [1. 1. 1.] code_length\n",
      "yt : [INFO     ] 2019-05-28 14:30:25,723 Parameters: cosmological_simulation   = 0.0\n",
      "yt : [INFO     ] 2019-05-28 14:30:25,725 Getting segment at z = 0.0: [0.31208111 0.43160312 0.5666597 ] unitary to [0.68791889 0.56839688 0.5666597 ] unitary.\n",
      "yt : [INFO     ] 2019-05-28 14:30:25,727 Getting subsegment: [0.3120811112796624 unitary, 0.4316031180494143 unitary, 0.5666597014681859 unitary] to [0.6879188887203376 unitary, 0.5683968819505857 unitary, 0.5666597014681859 unitary].\n",
      "yt : [INFO     ] 2019-05-28 14:30:25,874 Saving field data to yt dataset: ./test_rays/ray0003.h5.\n",
      "yt : [INFO     ] 2019-05-28 14:30:26,084 Parameters: current_time              = 0.0060000200028298 code_time\n",
      "yt : [INFO     ] 2019-05-28 14:30:26,085 Parameters: domain_dimensions         = [2 2 2]\n",
      "yt : [INFO     ] 2019-05-28 14:30:26,086 Parameters: domain_left_edge          = [0. 0. 0.] code_length\n",
      "yt : [INFO     ] 2019-05-28 14:30:26,086 Parameters: domain_right_edge         = [1. 1. 1.] code_length\n",
      "yt : [INFO     ] 2019-05-28 14:30:26,087 Parameters: cosmological_simulation   = 0.0\n",
      "yt : [INFO     ] 2019-05-28 14:30:26,091 Getting segment at z = 0.0: [0.31208111 0.43160312 0.5222199 ] unitary to [0.68791889 0.56839688 0.5222199 ] unitary.\n",
      "yt : [INFO     ] 2019-05-28 14:30:26,094 Getting subsegment: [0.3120811112796624 unitary, 0.4316031180494143 unitary, 0.5222199004893953 unitary] to [0.6879188887203376 unitary, 0.5683968819505857 unitary, 0.5222199004893953 unitary].\n",
      "yt : [INFO     ] 2019-05-28 14:30:26,333 Saving field data to yt dataset: ./test_rays/ray0004.h5.\n",
      "yt : [INFO     ] 2019-05-28 14:30:26,542 Parameters: current_time              = 0.0060000200028298 code_time\n",
      "yt : [INFO     ] 2019-05-28 14:30:26,543 Parameters: domain_dimensions         = [2 2 2]\n",
      "yt : [INFO     ] 2019-05-28 14:30:26,544 Parameters: domain_left_edge          = [0. 0. 0.] code_length\n",
      "yt : [INFO     ] 2019-05-28 14:30:26,544 Parameters: domain_right_edge         = [1. 1. 1.] code_length\n",
      "yt : [INFO     ] 2019-05-28 14:30:26,545 Parameters: cosmological_simulation   = 0.0\n",
      "yt : [INFO     ] 2019-05-28 14:30:26,548 Getting segment at z = 0.0: [0.31208111 0.43160312 0.4777801 ] unitary to [0.68791889 0.56839688 0.4777801 ] unitary.\n",
      "yt : [INFO     ] 2019-05-28 14:30:26,551 Getting subsegment: [0.3120811112796624 unitary, 0.4316031180494143 unitary, 0.4777800995106047 unitary] to [0.6879188887203376 unitary, 0.5683968819505857 unitary, 0.4777800995106047 unitary].\n",
      "yt : [INFO     ] 2019-05-28 14:30:26,831 Saving field data to yt dataset: ./test_rays/ray0005.h5.\n",
      "yt : [INFO     ] 2019-05-28 14:30:27,042 Parameters: current_time              = 0.0060000200028298 code_time\n",
      "yt : [INFO     ] 2019-05-28 14:30:27,043 Parameters: domain_dimensions         = [2 2 2]\n",
      "yt : [INFO     ] 2019-05-28 14:30:27,044 Parameters: domain_left_edge          = [0. 0. 0.] code_length\n",
      "yt : [INFO     ] 2019-05-28 14:30:27,044 Parameters: domain_right_edge         = [1. 1. 1.] code_length\n",
      "yt : [INFO     ] 2019-05-28 14:30:27,045 Parameters: cosmological_simulation   = 0.0\n",
      "yt : [INFO     ] 2019-05-28 14:30:27,049 Getting segment at z = 0.0: [0.31208111 0.43160312 0.4333403 ] unitary to [0.68791889 0.56839688 0.4333403 ] unitary.\n",
      "yt : [INFO     ] 2019-05-28 14:30:27,052 Getting subsegment: [0.3120811112796624 unitary, 0.4316031180494143 unitary, 0.4333402985318141 unitary] to [0.6879188887203376 unitary, 0.5683968819505857 unitary, 0.4333402985318141 unitary].\n",
      "yt : [INFO     ] 2019-05-28 14:30:27,259 Saving field data to yt dataset: ./test_rays/ray0006.h5.\n",
      "yt : [INFO     ] 2019-05-28 14:30:27,575 Parameters: current_time              = 0.0060000200028298 code_time\n",
      "yt : [INFO     ] 2019-05-28 14:30:27,576 Parameters: domain_dimensions         = [2 2 2]\n",
      "yt : [INFO     ] 2019-05-28 14:30:27,576 Parameters: domain_left_edge          = [0. 0. 0.] code_length\n",
      "yt : [INFO     ] 2019-05-28 14:30:27,577 Parameters: domain_right_edge         = [1. 1. 1.] code_length\n",
      "yt : [INFO     ] 2019-05-28 14:30:27,579 Parameters: cosmological_simulation   = 0.0\n",
      "yt : [INFO     ] 2019-05-28 14:30:27,585 Getting segment at z = 0.0: [0.31208111 0.43160312 0.3889005 ] unitary to [0.68791889 0.56839688 0.3889005 ] unitary.\n"
     ]
    },
    {
     "name": "stderr",
     "output_type": "stream",
     "text": [
      "yt : [INFO     ] 2019-05-28 14:30:27,588 Getting subsegment: [0.3120811112796624 unitary, 0.4316031180494143 unitary, 0.38890049755302347 unitary] to [0.6879188887203376 unitary, 0.5683968819505857 unitary, 0.38890049755302347 unitary].\n",
      "yt : [INFO     ] 2019-05-28 14:30:27,724 Saving field data to yt dataset: ./test_rays/ray0007.h5.\n",
      "yt : [INFO     ] 2019-05-28 14:30:27,954 Parameters: current_time              = 0.0060000200028298 code_time\n",
      "yt : [INFO     ] 2019-05-28 14:30:27,955 Parameters: domain_dimensions         = [2 2 2]\n",
      "yt : [INFO     ] 2019-05-28 14:30:27,955 Parameters: domain_left_edge          = [0. 0. 0.] code_length\n",
      "yt : [INFO     ] 2019-05-28 14:30:27,956 Parameters: domain_right_edge         = [1. 1. 1.] code_length\n",
      "yt : [INFO     ] 2019-05-28 14:30:27,957 Parameters: cosmological_simulation   = 0.0\n",
      "yt : [INFO     ] 2019-05-28 14:30:27,960 Getting segment at z = 0.0: [0.31208111 0.43160312 0.3444607 ] unitary to [0.68791889 0.56839688 0.3444607 ] unitary.\n",
      "yt : [INFO     ] 2019-05-28 14:30:27,963 Getting subsegment: [0.3120811112796624 unitary, 0.4316031180494143 unitary, 0.3444606965742329 unitary] to [0.6879188887203376 unitary, 0.5683968819505857 unitary, 0.3444606965742329 unitary].\n",
      "yt : [INFO     ] 2019-05-28 14:30:28,152 Saving field data to yt dataset: ./test_rays/ray0008.h5.\n",
      "yt : [INFO     ] 2019-05-28 14:30:28,365 Parameters: current_time              = 0.0060000200028298 code_time\n",
      "yt : [INFO     ] 2019-05-28 14:30:28,366 Parameters: domain_dimensions         = [2 2 2]\n",
      "yt : [INFO     ] 2019-05-28 14:30:28,367 Parameters: domain_left_edge          = [0. 0. 0.] code_length\n",
      "yt : [INFO     ] 2019-05-28 14:30:28,367 Parameters: domain_right_edge         = [1. 1. 1.] code_length\n",
      "yt : [INFO     ] 2019-05-28 14:30:28,368 Parameters: cosmological_simulation   = 0.0\n",
      "yt : [INFO     ] 2019-05-28 14:30:28,371 Getting segment at z = 0.0: [0.31208111 0.43160312 0.3000209 ] unitary to [0.68791889 0.56839688 0.3000209 ] unitary.\n",
      "yt : [INFO     ] 2019-05-28 14:30:28,374 Getting subsegment: [0.3120811112796624 unitary, 0.4316031180494143 unitary, 0.3000208955954423 unitary] to [0.6879188887203376 unitary, 0.5683968819505857 unitary, 0.3000208955954423 unitary].\n",
      "yt : [INFO     ] 2019-05-28 14:30:28,452 Saving field data to yt dataset: ./test_rays/ray0009.h5.\n",
      "yt : [INFO     ] 2019-05-28 14:30:28,659 Parameters: current_time              = 0.0060000200028298 code_time\n",
      "yt : [INFO     ] 2019-05-28 14:30:28,660 Parameters: domain_dimensions         = [2 2 2]\n",
      "yt : [INFO     ] 2019-05-28 14:30:28,661 Parameters: domain_left_edge          = [0. 0. 0.] code_length\n",
      "yt : [INFO     ] 2019-05-28 14:30:28,662 Parameters: domain_right_edge         = [1. 1. 1.] code_length\n",
      "yt : [INFO     ] 2019-05-28 14:30:28,663 Parameters: cosmological_simulation   = 0.0\n"
     ]
    }
   ],
   "source": [
    "plotter.construct_rays(filename, line_list, angle=20,n_rays=10, out_dir=\"./test_rays\")"
   ]
  },
  {
   "cell_type": "code",
   "execution_count": 16,
   "metadata": {},
   "outputs": [],
   "source": [
    "import os"
   ]
  },
  {
   "cell_type": "code",
   "execution_count": 17,
   "metadata": {},
   "outputs": [
    {
     "data": {
      "text/plain": [
       "['0000ray.h5',\n",
       " '0001ray.h5',\n",
       " '0002ray.h5',\n",
       " '0003ray.h5',\n",
       " '0004ray.h5',\n",
       " '0005ray.h5',\n",
       " '0006ray.h5',\n",
       " '0007ray.h5',\n",
       " '0008ray.h5',\n",
       " '0009ray.h5',\n",
       " 'ray0000.h5',\n",
       " 'ray0001.h5',\n",
       " 'ray0002.h5',\n",
       " 'ray0003.h5',\n",
       " 'ray0004.h5',\n",
       " 'ray0005.h5',\n",
       " 'ray0006.h5',\n",
       " 'ray0007.h5',\n",
       " 'ray0008.h5',\n",
       " 'ray0009.h5',\n",
       " 'test.out']"
      ]
     },
     "execution_count": 17,
     "metadata": {},
     "output_type": "execute_result"
    }
   ],
   "source": [
    "rs = sorted(os.listdir(\"test_rays/\"))\n",
    "rs"
   ]
  },
  {
   "cell_type": "code",
   "execution_count": 18,
   "metadata": {
    "scrolled": true
   },
   "outputs": [
    {
     "name": "stderr",
     "output_type": "stream",
     "text": [
      "yt : [INFO     ] 2019-05-28 14:30:28,713 Parameters: current_time              = 0.0060000200028298\n",
      "yt : [INFO     ] 2019-05-28 14:30:28,713 Parameters: domain_dimensions         = [32 32 32]\n",
      "yt : [INFO     ] 2019-05-28 14:30:28,715 Parameters: domain_left_edge          = [0. 0. 0.]\n",
      "yt : [INFO     ] 2019-05-28 14:30:28,716 Parameters: domain_right_edge         = [1. 1. 1.]\n",
      "yt : [INFO     ] 2019-05-28 14:30:28,717 Parameters: cosmological_simulation   = 0.0\n",
      "Parsing Hierarchy : 100%|██████████| 173/173 [00:00<00:00, 5732.96it/s]\n",
      "yt : [INFO     ] 2019-05-28 14:30:28,770 Gathering a field list (this may take a moment.)\n",
      "yt : [INFO     ] 2019-05-28 14:30:30,683 Projection completed\n",
      "yt : [INFO     ] 2019-05-28 14:30:30,684 xlim = 0.000000 1.000000\n",
      "yt : [INFO     ] 2019-05-28 14:30:30,684 ylim = 0.000000 1.000000\n",
      "yt : [INFO     ] 2019-05-28 14:30:30,685 xlim = 0.000000 1.000000\n",
      "yt : [INFO     ] 2019-05-28 14:30:30,686 ylim = 0.000000 1.000000\n",
      "yt : [INFO     ] 2019-05-28 14:30:30,694 Making a fixed resolution buffer of (('gas', 'density')) 800 by 800\n",
      "yt : [INFO     ] 2019-05-28 14:30:30,922 Parameters: current_time              = 0.0060000200028298 code_time\n",
      "yt : [INFO     ] 2019-05-28 14:30:30,923 Parameters: domain_dimensions         = [2 2 2]\n",
      "yt : [INFO     ] 2019-05-28 14:30:30,923 Parameters: domain_left_edge          = [0. 0. 0.] code_length\n",
      "yt : [INFO     ] 2019-05-28 14:30:30,926 Parameters: domain_right_edge         = [1. 1. 1.] code_length\n",
      "yt : [INFO     ] 2019-05-28 14:30:30,928 Parameters: cosmological_simulation   = 0.0\n"
     ]
    },
    {
     "name": "stdout",
     "output_type": "stream",
     "text": [
      "1 0000ray.h5 2.1577890624999998e+24\n"
     ]
    },
    {
     "name": "stderr",
     "output_type": "stream",
     "text": [
      "yt : [INFO     ] 2019-05-28 14:30:31,063 Parameters: current_time              = 0.0060000200028298 code_time\n",
      "yt : [INFO     ] 2019-05-28 14:30:31,064 Parameters: domain_dimensions         = [2 2 2]\n",
      "yt : [INFO     ] 2019-05-28 14:30:31,064 Parameters: domain_left_edge          = [0. 0. 0.] code_length\n",
      "yt : [INFO     ] 2019-05-28 14:30:31,065 Parameters: domain_right_edge         = [1. 1. 1.] code_length\n",
      "yt : [INFO     ] 2019-05-28 14:30:31,066 Parameters: cosmological_simulation   = 0.0\n"
     ]
    },
    {
     "name": "stdout",
     "output_type": "stream",
     "text": [
      "2 0001ray.h5 2.0131328125e+24\n"
     ]
    },
    {
     "name": "stderr",
     "output_type": "stream",
     "text": [
      "yt : [INFO     ] 2019-05-28 14:30:31,199 Parameters: current_time              = 0.0060000200028298 code_time\n",
      "yt : [INFO     ] 2019-05-28 14:30:31,200 Parameters: domain_dimensions         = [2 2 2]\n",
      "yt : [INFO     ] 2019-05-28 14:30:31,200 Parameters: domain_left_edge          = [0. 0. 0.] code_length\n",
      "yt : [INFO     ] 2019-05-28 14:30:31,201 Parameters: domain_right_edge         = [1. 1. 1.] code_length\n",
      "yt : [INFO     ] 2019-05-28 14:30:31,202 Parameters: cosmological_simulation   = 0.0\n"
     ]
    },
    {
     "name": "stdout",
     "output_type": "stream",
     "text": [
      "3 0002ray.h5 1.8925859375e+24\n"
     ]
    },
    {
     "name": "stderr",
     "output_type": "stream",
     "text": [
      "yt : [INFO     ] 2019-05-28 14:30:31,312 Parameters: current_time              = 0.0060000200028298 code_time\n",
      "yt : [INFO     ] 2019-05-28 14:30:31,313 Parameters: domain_dimensions         = [2 2 2]\n",
      "yt : [INFO     ] 2019-05-28 14:30:31,314 Parameters: domain_left_edge          = [0. 0. 0.] code_length\n",
      "yt : [INFO     ] 2019-05-28 14:30:31,314 Parameters: domain_right_edge         = [1. 1. 1.] code_length\n",
      "yt : [INFO     ] 2019-05-28 14:30:31,315 Parameters: cosmological_simulation   = 0.0\n"
     ]
    },
    {
     "name": "stdout",
     "output_type": "stream",
     "text": [
      "4 0003ray.h5 1.7479296875e+24\n"
     ]
    },
    {
     "name": "stderr",
     "output_type": "stream",
     "text": [
      "yt : [INFO     ] 2019-05-28 14:30:31,430 Parameters: current_time              = 0.0060000200028298 code_time\n",
      "yt : [INFO     ] 2019-05-28 14:30:31,431 Parameters: domain_dimensions         = [2 2 2]\n",
      "yt : [INFO     ] 2019-05-28 14:30:31,431 Parameters: domain_left_edge          = [0. 0. 0.] code_length\n",
      "yt : [INFO     ] 2019-05-28 14:30:31,432 Parameters: domain_right_edge         = [1. 1. 1.] code_length\n",
      "yt : [INFO     ] 2019-05-28 14:30:31,433 Parameters: cosmological_simulation   = 0.0\n"
     ]
    },
    {
     "name": "stdout",
     "output_type": "stream",
     "text": [
      "5 0004ray.h5 1.6032734375e+24\n"
     ]
    },
    {
     "name": "stderr",
     "output_type": "stream",
     "text": [
      "yt : [INFO     ] 2019-05-28 14:30:31,544 Parameters: current_time              = 0.0060000200028298 code_time\n",
      "yt : [INFO     ] 2019-05-28 14:30:31,545 Parameters: domain_dimensions         = [2 2 2]\n",
      "yt : [INFO     ] 2019-05-28 14:30:31,546 Parameters: domain_left_edge          = [0. 0. 0.] code_length\n",
      "yt : [INFO     ] 2019-05-28 14:30:31,547 Parameters: domain_right_edge         = [1. 1. 1.] code_length\n",
      "yt : [INFO     ] 2019-05-28 14:30:31,548 Parameters: cosmological_simulation   = 0.0\n"
     ]
    },
    {
     "name": "stdout",
     "output_type": "stream",
     "text": [
      "6 0005ray.h5 1.4827265624999998e+24\n"
     ]
    },
    {
     "name": "stderr",
     "output_type": "stream",
     "text": [
      "yt : [INFO     ] 2019-05-28 14:30:31,666 Parameters: current_time              = 0.0060000200028298 code_time\n",
      "yt : [INFO     ] 2019-05-28 14:30:31,667 Parameters: domain_dimensions         = [2 2 2]\n",
      "yt : [INFO     ] 2019-05-28 14:30:31,667 Parameters: domain_left_edge          = [0. 0. 0.] code_length\n",
      "yt : [INFO     ] 2019-05-28 14:30:31,668 Parameters: domain_right_edge         = [1. 1. 1.] code_length\n",
      "yt : [INFO     ] 2019-05-28 14:30:31,669 Parameters: cosmological_simulation   = 0.0\n"
     ]
    },
    {
     "name": "stdout",
     "output_type": "stream",
     "text": [
      "7 0006ray.h5 1.3380703124999998e+24\n"
     ]
    },
    {
     "name": "stderr",
     "output_type": "stream",
     "text": [
      "yt : [INFO     ] 2019-05-28 14:30:31,781 Parameters: current_time              = 0.0060000200028298 code_time\n",
      "yt : [INFO     ] 2019-05-28 14:30:31,781 Parameters: domain_dimensions         = [2 2 2]\n",
      "yt : [INFO     ] 2019-05-28 14:30:31,782 Parameters: domain_left_edge          = [0. 0. 0.] code_length\n",
      "yt : [INFO     ] 2019-05-28 14:30:31,783 Parameters: domain_right_edge         = [1. 1. 1.] code_length\n",
      "yt : [INFO     ] 2019-05-28 14:30:31,784 Parameters: cosmological_simulation   = 0.0\n"
     ]
    },
    {
     "name": "stdout",
     "output_type": "stream",
     "text": [
      "8 0007ray.h5 1.1934140624999999e+24\n"
     ]
    },
    {
     "name": "stderr",
     "output_type": "stream",
     "text": [
      "yt : [INFO     ] 2019-05-28 14:30:31,897 Parameters: current_time              = 0.0060000200028298 code_time\n",
      "yt : [INFO     ] 2019-05-28 14:30:31,898 Parameters: domain_dimensions         = [2 2 2]\n",
      "yt : [INFO     ] 2019-05-28 14:30:31,899 Parameters: domain_left_edge          = [0. 0. 0.] code_length\n",
      "yt : [INFO     ] 2019-05-28 14:30:31,900 Parameters: domain_right_edge         = [1. 1. 1.] code_length\n",
      "yt : [INFO     ] 2019-05-28 14:30:31,901 Parameters: cosmological_simulation   = 0.0\n"
     ]
    },
    {
     "name": "stdout",
     "output_type": "stream",
     "text": [
      "9 0008ray.h5 1.0728671874999999e+24\n"
     ]
    },
    {
     "name": "stderr",
     "output_type": "stream",
     "text": [
      "yt : [INFO     ] 2019-05-28 14:30:32,013 Parameters: current_time              = 0.0060000200028298 code_time\n",
      "yt : [INFO     ] 2019-05-28 14:30:32,014 Parameters: domain_dimensions         = [2 2 2]\n",
      "yt : [INFO     ] 2019-05-28 14:30:32,014 Parameters: domain_left_edge          = [0. 0. 0.] code_length\n",
      "yt : [INFO     ] 2019-05-28 14:30:32,015 Parameters: domain_right_edge         = [1. 1. 1.] code_length\n",
      "yt : [INFO     ] 2019-05-28 14:30:32,016 Parameters: cosmological_simulation   = 0.0\n"
     ]
    },
    {
     "name": "stdout",
     "output_type": "stream",
     "text": [
      "10 0009ray.h5 9.282109375e+23\n"
     ]
    },
    {
     "name": "stderr",
     "output_type": "stream",
     "text": [
      "yt : [INFO     ] 2019-05-28 14:30:32,129 Parameters: current_time              = 0.0060000200028298 code_time\n",
      "yt : [INFO     ] 2019-05-28 14:30:32,129 Parameters: domain_dimensions         = [2 2 2]\n",
      "yt : [INFO     ] 2019-05-28 14:30:32,130 Parameters: domain_left_edge          = [0. 0. 0.] code_length\n",
      "yt : [INFO     ] 2019-05-28 14:30:32,131 Parameters: domain_right_edge         = [1. 1. 1.] code_length\n",
      "yt : [INFO     ] 2019-05-28 14:30:32,132 Parameters: cosmological_simulation   = 0.0\n"
     ]
    },
    {
     "name": "stdout",
     "output_type": "stream",
     "text": [
      "11 ray0000.h5 2.1577890624999998e+24\n"
     ]
    },
    {
     "name": "stderr",
     "output_type": "stream",
     "text": [
      "yt : [INFO     ] 2019-05-28 14:30:32,247 Parameters: current_time              = 0.0060000200028298 code_time\n",
      "yt : [INFO     ] 2019-05-28 14:30:32,248 Parameters: domain_dimensions         = [2 2 2]\n",
      "yt : [INFO     ] 2019-05-28 14:30:32,249 Parameters: domain_left_edge          = [0. 0. 0.] code_length\n",
      "yt : [INFO     ] 2019-05-28 14:30:32,249 Parameters: domain_right_edge         = [1. 1. 1.] code_length\n",
      "yt : [INFO     ] 2019-05-28 14:30:32,251 Parameters: cosmological_simulation   = 0.0\n"
     ]
    },
    {
     "name": "stdout",
     "output_type": "stream",
     "text": [
      "12 ray0001.h5 2.0131328125e+24\n"
     ]
    },
    {
     "name": "stderr",
     "output_type": "stream",
     "text": [
      "yt : [INFO     ] 2019-05-28 14:30:32,361 Parameters: current_time              = 0.0060000200028298 code_time\n",
      "yt : [INFO     ] 2019-05-28 14:30:32,361 Parameters: domain_dimensions         = [2 2 2]\n",
      "yt : [INFO     ] 2019-05-28 14:30:32,362 Parameters: domain_left_edge          = [0. 0. 0.] code_length\n",
      "yt : [INFO     ] 2019-05-28 14:30:32,363 Parameters: domain_right_edge         = [1. 1. 1.] code_length\n",
      "yt : [INFO     ] 2019-05-28 14:30:32,364 Parameters: cosmological_simulation   = 0.0\n"
     ]
    },
    {
     "name": "stdout",
     "output_type": "stream",
     "text": [
      "13 ray0002.h5 1.8925859375e+24\n"
     ]
    },
    {
     "name": "stderr",
     "output_type": "stream",
     "text": [
      "yt : [INFO     ] 2019-05-28 14:30:32,478 Parameters: current_time              = 0.0060000200028298 code_time\n",
      "yt : [INFO     ] 2019-05-28 14:30:32,479 Parameters: domain_dimensions         = [2 2 2]\n",
      "yt : [INFO     ] 2019-05-28 14:30:32,480 Parameters: domain_left_edge          = [0. 0. 0.] code_length\n",
      "yt : [INFO     ] 2019-05-28 14:30:32,480 Parameters: domain_right_edge         = [1. 1. 1.] code_length\n",
      "yt : [INFO     ] 2019-05-28 14:30:32,481 Parameters: cosmological_simulation   = 0.0\n"
     ]
    },
    {
     "name": "stdout",
     "output_type": "stream",
     "text": [
      "14 ray0003.h5 1.7479296875e+24\n"
     ]
    },
    {
     "name": "stderr",
     "output_type": "stream",
     "text": [
      "yt : [INFO     ] 2019-05-28 14:30:32,597 Parameters: current_time              = 0.0060000200028298 code_time\n",
      "yt : [INFO     ] 2019-05-28 14:30:32,598 Parameters: domain_dimensions         = [2 2 2]\n",
      "yt : [INFO     ] 2019-05-28 14:30:32,598 Parameters: domain_left_edge          = [0. 0. 0.] code_length\n",
      "yt : [INFO     ] 2019-05-28 14:30:32,599 Parameters: domain_right_edge         = [1. 1. 1.] code_length\n",
      "yt : [INFO     ] 2019-05-28 14:30:32,600 Parameters: cosmological_simulation   = 0.0\n"
     ]
    },
    {
     "name": "stdout",
     "output_type": "stream",
     "text": [
      "15 ray0004.h5 1.6032734375e+24\n"
     ]
    },
    {
     "name": "stderr",
     "output_type": "stream",
     "text": [
      "yt : [INFO     ] 2019-05-28 14:30:32,727 Parameters: current_time              = 0.0060000200028298 code_time\n",
      "yt : [INFO     ] 2019-05-28 14:30:32,728 Parameters: domain_dimensions         = [2 2 2]\n",
      "yt : [INFO     ] 2019-05-28 14:30:32,729 Parameters: domain_left_edge          = [0. 0. 0.] code_length\n",
      "yt : [INFO     ] 2019-05-28 14:30:32,729 Parameters: domain_right_edge         = [1. 1. 1.] code_length\n",
      "yt : [INFO     ] 2019-05-28 14:30:32,730 Parameters: cosmological_simulation   = 0.0\n"
     ]
    },
    {
     "name": "stdout",
     "output_type": "stream",
     "text": [
      "16 ray0005.h5 1.4827265624999998e+24\n"
     ]
    },
    {
     "name": "stderr",
     "output_type": "stream",
     "text": [
      "yt : [INFO     ] 2019-05-28 14:30:32,842 Parameters: current_time              = 0.0060000200028298 code_time\n",
      "yt : [INFO     ] 2019-05-28 14:30:32,842 Parameters: domain_dimensions         = [2 2 2]\n",
      "yt : [INFO     ] 2019-05-28 14:30:32,843 Parameters: domain_left_edge          = [0. 0. 0.] code_length\n",
      "yt : [INFO     ] 2019-05-28 14:30:32,844 Parameters: domain_right_edge         = [1. 1. 1.] code_length\n",
      "yt : [INFO     ] 2019-05-28 14:30:32,845 Parameters: cosmological_simulation   = 0.0\n"
     ]
    },
    {
     "name": "stdout",
     "output_type": "stream",
     "text": [
      "17 ray0006.h5 1.3380703124999998e+24\n"
     ]
    },
    {
     "name": "stderr",
     "output_type": "stream",
     "text": [
      "yt : [INFO     ] 2019-05-28 14:30:32,958 Parameters: current_time              = 0.0060000200028298 code_time\n",
      "yt : [INFO     ] 2019-05-28 14:30:32,959 Parameters: domain_dimensions         = [2 2 2]\n",
      "yt : [INFO     ] 2019-05-28 14:30:32,960 Parameters: domain_left_edge          = [0. 0. 0.] code_length\n",
      "yt : [INFO     ] 2019-05-28 14:30:32,960 Parameters: domain_right_edge         = [1. 1. 1.] code_length\n",
      "yt : [INFO     ] 2019-05-28 14:30:32,961 Parameters: cosmological_simulation   = 0.0\n"
     ]
    },
    {
     "name": "stdout",
     "output_type": "stream",
     "text": [
      "18 ray0007.h5 1.1934140624999999e+24\n"
     ]
    },
    {
     "name": "stderr",
     "output_type": "stream",
     "text": [
      "yt : [INFO     ] 2019-05-28 14:30:33,075 Parameters: current_time              = 0.0060000200028298 code_time\n",
      "yt : [INFO     ] 2019-05-28 14:30:33,076 Parameters: domain_dimensions         = [2 2 2]\n",
      "yt : [INFO     ] 2019-05-28 14:30:33,077 Parameters: domain_left_edge          = [0. 0. 0.] code_length\n",
      "yt : [INFO     ] 2019-05-28 14:30:33,078 Parameters: domain_right_edge         = [1. 1. 1.] code_length\n",
      "yt : [INFO     ] 2019-05-28 14:30:33,079 Parameters: cosmological_simulation   = 0.0\n"
     ]
    },
    {
     "name": "stdout",
     "output_type": "stream",
     "text": [
      "19 ray0008.h5 1.0728671874999999e+24\n"
     ]
    },
    {
     "name": "stderr",
     "output_type": "stream",
     "text": [
      "yt : [INFO     ] 2019-05-28 14:30:33,223 Parameters: current_time              = 0.0060000200028298 code_time\n",
      "yt : [INFO     ] 2019-05-28 14:30:33,224 Parameters: domain_dimensions         = [2 2 2]\n",
      "yt : [INFO     ] 2019-05-28 14:30:33,224 Parameters: domain_left_edge          = [0. 0. 0.] code_length\n",
      "yt : [INFO     ] 2019-05-28 14:30:33,225 Parameters: domain_right_edge         = [1. 1. 1.] code_length\n",
      "yt : [INFO     ] 2019-05-28 14:30:33,226 Parameters: cosmological_simulation   = 0.0\n"
     ]
    },
    {
     "name": "stdout",
     "output_type": "stream",
     "text": [
      "20 ray0009.h5 9.282109375e+23\n"
     ]
    },
    {
     "name": "stderr",
     "output_type": "stream",
     "text": [
      "yt : [ERROR    ] 2019-05-28 14:30:33,240 Couldn't figure out output type for test_rays/test.out\n"
     ]
    },
    {
     "ename": "YTOutputNotIdentified",
     "evalue": "Supplied ('test_rays/test.out',) {}, but could not load!",
     "output_type": "error",
     "traceback": [
      "\u001b[0;31m---------------------------------------------------------------------------\u001b[0m",
      "\u001b[0;31mYTOutputNotIdentified\u001b[0m                     Traceback (most recent call last)",
      "\u001b[0;32m<ipython-input-18-68651addc923>\u001b[0m in \u001b[0;36m<module>\u001b[0;34m\u001b[0m\n\u001b[1;32m      4\u001b[0m \u001b[0mi\u001b[0m\u001b[0;34m=\u001b[0m\u001b[0;36m0\u001b[0m\u001b[0;34m\u001b[0m\u001b[0;34m\u001b[0m\u001b[0m\n\u001b[1;32m      5\u001b[0m \u001b[0;32mfor\u001b[0m \u001b[0mr\u001b[0m \u001b[0;32min\u001b[0m \u001b[0mrs\u001b[0m\u001b[0;34m:\u001b[0m\u001b[0;34m\u001b[0m\u001b[0;34m\u001b[0m\u001b[0m\n\u001b[0;32m----> 6\u001b[0;31m     \u001b[0mray\u001b[0m \u001b[0;34m=\u001b[0m \u001b[0myt\u001b[0m\u001b[0;34m.\u001b[0m\u001b[0mload\u001b[0m\u001b[0;34m(\u001b[0m\u001b[0;34m\"test_rays/{}\"\u001b[0m\u001b[0;34m.\u001b[0m\u001b[0mformat\u001b[0m\u001b[0;34m(\u001b[0m\u001b[0mr\u001b[0m\u001b[0;34m)\u001b[0m\u001b[0;34m)\u001b[0m\u001b[0;34m\u001b[0m\u001b[0;34m\u001b[0m\u001b[0m\n\u001b[0m\u001b[1;32m      7\u001b[0m     \u001b[0mprj\u001b[0m\u001b[0;34m.\u001b[0m\u001b[0mannotate_ray\u001b[0m\u001b[0;34m(\u001b[0m\u001b[0mray\u001b[0m\u001b[0;34m)\u001b[0m\u001b[0;34m\u001b[0m\u001b[0;34m\u001b[0m\u001b[0m\n\u001b[1;32m      8\u001b[0m     \u001b[0;31m#prj.save(\"test_rays/prj{}\".format(i))\u001b[0m\u001b[0;34m\u001b[0m\u001b[0;34m\u001b[0m\u001b[0;34m\u001b[0m\u001b[0m\n",
      "\u001b[0;32m~/anaconda3/lib/python3.7/site-packages/yt/convenience.py\u001b[0m in \u001b[0;36mload\u001b[0;34m(*args, **kwargs)\u001b[0m\n\u001b[1;32m     96\u001b[0m                 \u001b[0;32mreturn\u001b[0m \u001b[0moutput_type_registry\u001b[0m\u001b[0;34m[\u001b[0m\u001b[0mn\u001b[0m\u001b[0;34m]\u001b[0m\u001b[0;34m(\u001b[0m\u001b[0mfn\u001b[0m\u001b[0;34m)\u001b[0m\u001b[0;34m\u001b[0m\u001b[0;34m\u001b[0m\u001b[0m\n\u001b[1;32m     97\u001b[0m         \u001b[0mmylog\u001b[0m\u001b[0;34m.\u001b[0m\u001b[0merror\u001b[0m\u001b[0;34m(\u001b[0m\u001b[0;34m\"Couldn't figure out output type for %s\"\u001b[0m\u001b[0;34m,\u001b[0m \u001b[0margs\u001b[0m\u001b[0;34m[\u001b[0m\u001b[0;36m0\u001b[0m\u001b[0;34m]\u001b[0m\u001b[0;34m)\u001b[0m\u001b[0;34m\u001b[0m\u001b[0;34m\u001b[0m\u001b[0m\n\u001b[0;32m---> 98\u001b[0;31m         \u001b[0;32mraise\u001b[0m \u001b[0mYTOutputNotIdentified\u001b[0m\u001b[0;34m(\u001b[0m\u001b[0margs\u001b[0m\u001b[0;34m,\u001b[0m \u001b[0mkwargs\u001b[0m\u001b[0;34m)\u001b[0m\u001b[0;34m\u001b[0m\u001b[0;34m\u001b[0m\u001b[0m\n\u001b[0m\u001b[1;32m     99\u001b[0m \u001b[0;34m\u001b[0m\u001b[0m\n\u001b[1;32m    100\u001b[0m     \u001b[0mmylog\u001b[0m\u001b[0;34m.\u001b[0m\u001b[0merror\u001b[0m\u001b[0;34m(\u001b[0m\u001b[0;34m\"Multiple output type candidates for %s:\"\u001b[0m\u001b[0;34m,\u001b[0m \u001b[0margs\u001b[0m\u001b[0;34m[\u001b[0m\u001b[0;36m0\u001b[0m\u001b[0;34m]\u001b[0m\u001b[0;34m)\u001b[0m\u001b[0;34m\u001b[0m\u001b[0;34m\u001b[0m\u001b[0m\n",
      "\u001b[0;31mYTOutputNotIdentified\u001b[0m: Supplied ('test_rays/test.out',) {}, but could not load!"
     ]
    }
   ],
   "source": [
    "ds = yt.load(filename)\n",
    "prj = yt.ProjectionPlot(ds, 'y', 'density')\n",
    "prj.zoom(3)\n",
    "i=0\n",
    "for r in rs:\n",
    "    ray = yt.load(\"test_rays/{}\".format(r))\n",
    "    prj.annotate_ray(ray)\n",
    "    #prj.save(\"test_rays/prj{}\".format(i))\n",
    "    \n",
    "    i+=1\n",
    "    \n",
    "    ra = h5py.File(\"test_rays/\"+r)\n",
    "    print(i,r, ra['grid']['z'][0])\n",
    "    ra.close()"
   ]
  },
  {
   "cell_type": "code",
   "execution_count": null,
   "metadata": {
    "scrolled": false
   },
   "outputs": [],
   "source": [
    "prj"
   ]
  },
  {
   "cell_type": "code",
   "execution_count": 19,
   "metadata": {},
   "outputs": [
    {
     "name": "stdout",
     "output_type": "stream",
     "text": [
      "9.282109375e+23 2.1577890624999998e+24\n",
      "1.5550546874999999e+24 1.5550546874999999e+24\n",
      "2.1577890624999998e+24 2.1577890624999998e+24\n"
     ]
    }
   ],
   "source": [
    "rayh5 = h5py.File(\"test_rays/0000ray.h5\")\n",
    "r2 = h5py.File(\"test_rays/0009ray.h5\")\n",
    "\n",
    "x = rayh5['grid']['x']\n",
    "print(x[0], x[-1])\n",
    "y = rayh5['grid']['y']\n",
    "print(y[0], y[-1])\n",
    "z = rayh5['grid']['z']\n",
    "print(z[0], z[-1])"
   ]
  },
  {
   "cell_type": "code",
   "execution_count": 20,
   "metadata": {},
   "outputs": [
    {
     "name": "stdout",
     "output_type": "stream",
     "text": [
      "9.282109375e+23 2.1577890624999998e+24\n",
      "1.5550546874999999e+24 1.5550546874999999e+24\n",
      "9.282109375e+23 9.282109375e+23\n"
     ]
    }
   ],
   "source": [
    "rayh5.close()\n",
    "rayh5 = r2\n",
    "x = rayh5['grid']['x']\n",
    "print(x[0], x[-1])\n",
    "y = rayh5['grid']['y']\n",
    "print(y[0], y[-1])\n",
    "z = rayh5['grid']['z']\n",
    "print(z[0], z[-1])\n",
    "rayh5.close()"
   ]
  },
  {
   "cell_type": "code",
   "execution_count": 139,
   "metadata": {},
   "outputs": [
    {
     "data": {
      "text/plain": [
       "YTArray([1.543e+24, 1.543e+24, 1.543e+24]) cm"
      ]
     },
     "execution_count": 139,
     "metadata": {},
     "output_type": "execute_result"
    }
   ],
   "source": [
    "ds.domain_center.in_units('cm')"
   ]
  },
  {
   "cell_type": "code",
   "execution_count": 16,
   "metadata": {},
   "outputs": [
    {
     "ename": "OSError",
     "evalue": "Unable to create file (unable to open file: name = 'test_rays/0000ray.h5', errno = 17, error message = 'File exists', flags = 15, o_flags = c2)",
     "output_type": "error",
     "traceback": [
      "\u001b[0;31m---------------------------------------------------------------------------\u001b[0m",
      "\u001b[0;31mOSError\u001b[0m                                   Traceback (most recent call last)",
      "\u001b[0;32m~/anaconda3/lib/python3.7/site-packages/h5py/_hl/files.py\u001b[0m in \u001b[0;36mmake_fid\u001b[0;34m(name, mode, userblock_size, fapl, fcpl, swmr)\u001b[0m\n\u001b[1;32m    189\u001b[0m         \u001b[0;32mtry\u001b[0m\u001b[0;34m:\u001b[0m\u001b[0;34m\u001b[0m\u001b[0;34m\u001b[0m\u001b[0m\n\u001b[0;32m--> 190\u001b[0;31m             \u001b[0mfid\u001b[0m \u001b[0;34m=\u001b[0m \u001b[0mh5f\u001b[0m\u001b[0;34m.\u001b[0m\u001b[0mopen\u001b[0m\u001b[0;34m(\u001b[0m\u001b[0mname\u001b[0m\u001b[0;34m,\u001b[0m \u001b[0mh5f\u001b[0m\u001b[0;34m.\u001b[0m\u001b[0mACC_RDWR\u001b[0m\u001b[0;34m,\u001b[0m \u001b[0mfapl\u001b[0m\u001b[0;34m=\u001b[0m\u001b[0mfapl\u001b[0m\u001b[0;34m)\u001b[0m\u001b[0;34m\u001b[0m\u001b[0;34m\u001b[0m\u001b[0m\n\u001b[0m\u001b[1;32m    191\u001b[0m         \u001b[0;32mexcept\u001b[0m \u001b[0mIOError\u001b[0m\u001b[0;34m:\u001b[0m\u001b[0;34m\u001b[0m\u001b[0;34m\u001b[0m\u001b[0m\n",
      "\u001b[0;32mh5py/_objects.pyx\u001b[0m in \u001b[0;36mh5py._objects.with_phil.wrapper\u001b[0;34m()\u001b[0m\n",
      "\u001b[0;32mh5py/_objects.pyx\u001b[0m in \u001b[0;36mh5py._objects.with_phil.wrapper\u001b[0;34m()\u001b[0m\n",
      "\u001b[0;32mh5py/h5f.pyx\u001b[0m in \u001b[0;36mh5py.h5f.open\u001b[0;34m()\u001b[0m\n",
      "\u001b[0;31mOSError\u001b[0m: Unable to open file (unable to lock file, errno = 11, error message = 'Resource temporarily unavailable')",
      "\nDuring handling of the above exception, another exception occurred:\n",
      "\u001b[0;31mOSError\u001b[0m                                   Traceback (most recent call last)",
      "\u001b[0;32m~/anaconda3/lib/python3.7/site-packages/h5py/_hl/files.py\u001b[0m in \u001b[0;36mmake_fid\u001b[0;34m(name, mode, userblock_size, fapl, fcpl, swmr)\u001b[0m\n\u001b[1;32m    192\u001b[0m             \u001b[0;32mtry\u001b[0m\u001b[0;34m:\u001b[0m\u001b[0;34m\u001b[0m\u001b[0;34m\u001b[0m\u001b[0m\n\u001b[0;32m--> 193\u001b[0;31m                 \u001b[0mfid\u001b[0m \u001b[0;34m=\u001b[0m \u001b[0mh5f\u001b[0m\u001b[0;34m.\u001b[0m\u001b[0mopen\u001b[0m\u001b[0;34m(\u001b[0m\u001b[0mname\u001b[0m\u001b[0;34m,\u001b[0m \u001b[0mh5f\u001b[0m\u001b[0;34m.\u001b[0m\u001b[0mACC_RDONLY\u001b[0m\u001b[0;34m,\u001b[0m \u001b[0mfapl\u001b[0m\u001b[0;34m=\u001b[0m\u001b[0mfapl\u001b[0m\u001b[0;34m)\u001b[0m\u001b[0;34m\u001b[0m\u001b[0;34m\u001b[0m\u001b[0m\n\u001b[0m\u001b[1;32m    194\u001b[0m             \u001b[0;32mexcept\u001b[0m \u001b[0mIOError\u001b[0m\u001b[0;34m:\u001b[0m\u001b[0;34m\u001b[0m\u001b[0;34m\u001b[0m\u001b[0m\n",
      "\u001b[0;32mh5py/_objects.pyx\u001b[0m in \u001b[0;36mh5py._objects.with_phil.wrapper\u001b[0;34m()\u001b[0m\n",
      "\u001b[0;32mh5py/_objects.pyx\u001b[0m in \u001b[0;36mh5py._objects.with_phil.wrapper\u001b[0;34m()\u001b[0m\n",
      "\u001b[0;32mh5py/h5f.pyx\u001b[0m in \u001b[0;36mh5py.h5f.open\u001b[0;34m()\u001b[0m\n",
      "\u001b[0;31mOSError\u001b[0m: Unable to open file (unable to lock file, errno = 11, error message = 'Resource temporarily unavailable')",
      "\nDuring handling of the above exception, another exception occurred:\n",
      "\u001b[0;31mOSError\u001b[0m                                   Traceback (most recent call last)",
      "\u001b[0;32m<ipython-input-16-aef9152be446>\u001b[0m in \u001b[0;36m<module>\u001b[0;34m\u001b[0m\n\u001b[0;32m----> 1\u001b[0;31m \u001b[0mrayh5\u001b[0m \u001b[0;34m=\u001b[0m \u001b[0mh5py\u001b[0m\u001b[0;34m.\u001b[0m\u001b[0mFile\u001b[0m\u001b[0;34m(\u001b[0m\u001b[0;34m\"test_rays/0000ray.h5\"\u001b[0m\u001b[0;34m)\u001b[0m\u001b[0;34m\u001b[0m\u001b[0;34m\u001b[0m\u001b[0m\n\u001b[0m\u001b[1;32m      2\u001b[0m \u001b[0mrayh5\u001b[0m\u001b[0;34m[\u001b[0m\u001b[0;34m'grid'\u001b[0m\u001b[0;34m]\u001b[0m\u001b[0;34m[\u001b[0m\u001b[0;34m'x'\u001b[0m\u001b[0;34m]\u001b[0m\u001b[0;34m\u001b[0m\u001b[0;34m\u001b[0m\u001b[0m\n\u001b[1;32m      3\u001b[0m \u001b[0mray2\u001b[0m \u001b[0;34m=\u001b[0m  \u001b[0mh5py\u001b[0m\u001b[0;34m.\u001b[0m\u001b[0mFile\u001b[0m\u001b[0;34m(\u001b[0m\u001b[0;34m\"test_rays/0000ray.h5\"\u001b[0m\u001b[0;34m)\u001b[0m\u001b[0;34m\u001b[0m\u001b[0;34m\u001b[0m\u001b[0m\n\u001b[1;32m      4\u001b[0m \u001b[0mray2\u001b[0m\u001b[0;34m[\u001b[0m\u001b[0;34m'grid'\u001b[0m\u001b[0;34m]\u001b[0m\u001b[0;34m[\u001b[0m\u001b[0;34m'x'\u001b[0m\u001b[0;34m]\u001b[0m\u001b[0;34m\u001b[0m\u001b[0;34m\u001b[0m\u001b[0m\n",
      "\u001b[0;32m~/anaconda3/lib/python3.7/site-packages/h5py/_hl/files.py\u001b[0m in \u001b[0;36m__init__\u001b[0;34m(self, name, mode, driver, libver, userblock_size, swmr, rdcc_nslots, rdcc_nbytes, rdcc_w0, track_order, **kwds)\u001b[0m\n\u001b[1;32m    392\u001b[0m                 fid = make_fid(name, mode, userblock_size,\n\u001b[1;32m    393\u001b[0m                                \u001b[0mfapl\u001b[0m\u001b[0;34m,\u001b[0m \u001b[0mfcpl\u001b[0m\u001b[0;34m=\u001b[0m\u001b[0mmake_fcpl\u001b[0m\u001b[0;34m(\u001b[0m\u001b[0mtrack_order\u001b[0m\u001b[0;34m=\u001b[0m\u001b[0mtrack_order\u001b[0m\u001b[0;34m)\u001b[0m\u001b[0;34m,\u001b[0m\u001b[0;34m\u001b[0m\u001b[0;34m\u001b[0m\u001b[0m\n\u001b[0;32m--> 394\u001b[0;31m                                swmr=swmr)\n\u001b[0m\u001b[1;32m    395\u001b[0m \u001b[0;34m\u001b[0m\u001b[0m\n\u001b[1;32m    396\u001b[0m             \u001b[0;32mif\u001b[0m \u001b[0mswmr_support\u001b[0m\u001b[0;34m:\u001b[0m\u001b[0;34m\u001b[0m\u001b[0;34m\u001b[0m\u001b[0m\n",
      "\u001b[0;32m~/anaconda3/lib/python3.7/site-packages/h5py/_hl/files.py\u001b[0m in \u001b[0;36mmake_fid\u001b[0;34m(name, mode, userblock_size, fapl, fcpl, swmr)\u001b[0m\n\u001b[1;32m    193\u001b[0m                 \u001b[0mfid\u001b[0m \u001b[0;34m=\u001b[0m \u001b[0mh5f\u001b[0m\u001b[0;34m.\u001b[0m\u001b[0mopen\u001b[0m\u001b[0;34m(\u001b[0m\u001b[0mname\u001b[0m\u001b[0;34m,\u001b[0m \u001b[0mh5f\u001b[0m\u001b[0;34m.\u001b[0m\u001b[0mACC_RDONLY\u001b[0m\u001b[0;34m,\u001b[0m \u001b[0mfapl\u001b[0m\u001b[0;34m=\u001b[0m\u001b[0mfapl\u001b[0m\u001b[0;34m)\u001b[0m\u001b[0;34m\u001b[0m\u001b[0;34m\u001b[0m\u001b[0m\n\u001b[1;32m    194\u001b[0m             \u001b[0;32mexcept\u001b[0m \u001b[0mIOError\u001b[0m\u001b[0;34m:\u001b[0m\u001b[0;34m\u001b[0m\u001b[0;34m\u001b[0m\u001b[0m\n\u001b[0;32m--> 195\u001b[0;31m                 \u001b[0mfid\u001b[0m \u001b[0;34m=\u001b[0m \u001b[0mh5f\u001b[0m\u001b[0;34m.\u001b[0m\u001b[0mcreate\u001b[0m\u001b[0;34m(\u001b[0m\u001b[0mname\u001b[0m\u001b[0;34m,\u001b[0m \u001b[0mh5f\u001b[0m\u001b[0;34m.\u001b[0m\u001b[0mACC_EXCL\u001b[0m\u001b[0;34m,\u001b[0m \u001b[0mfapl\u001b[0m\u001b[0;34m=\u001b[0m\u001b[0mfapl\u001b[0m\u001b[0;34m,\u001b[0m \u001b[0mfcpl\u001b[0m\u001b[0;34m=\u001b[0m\u001b[0mfcpl\u001b[0m\u001b[0;34m)\u001b[0m\u001b[0;34m\u001b[0m\u001b[0;34m\u001b[0m\u001b[0m\n\u001b[0m\u001b[1;32m    196\u001b[0m     \u001b[0;32melse\u001b[0m\u001b[0;34m:\u001b[0m\u001b[0;34m\u001b[0m\u001b[0;34m\u001b[0m\u001b[0m\n\u001b[1;32m    197\u001b[0m         \u001b[0;32mraise\u001b[0m \u001b[0mValueError\u001b[0m\u001b[0;34m(\u001b[0m\u001b[0;34m\"Invalid mode; must be one of r, r+, w, w-, x, a\"\u001b[0m\u001b[0;34m)\u001b[0m\u001b[0;34m\u001b[0m\u001b[0;34m\u001b[0m\u001b[0m\n",
      "\u001b[0;32mh5py/_objects.pyx\u001b[0m in \u001b[0;36mh5py._objects.with_phil.wrapper\u001b[0;34m()\u001b[0m\n",
      "\u001b[0;32mh5py/_objects.pyx\u001b[0m in \u001b[0;36mh5py._objects.with_phil.wrapper\u001b[0;34m()\u001b[0m\n",
      "\u001b[0;32mh5py/h5f.pyx\u001b[0m in \u001b[0;36mh5py.h5f.create\u001b[0;34m()\u001b[0m\n",
      "\u001b[0;31mOSError\u001b[0m: Unable to create file (unable to open file: name = 'test_rays/0000ray.h5', errno = 17, error message = 'File exists', flags = 15, o_flags = c2)"
     ]
    }
   ],
   "source": [
    "rayh5 = h5py.File(\"test_rays/0000ray.h5\")\n",
    "rayh5['grid']['x']\n",
    "ray2 =  h5py.File(\"test_rays/0000ray.h5\")\n",
    "ray2['grid']['x']"
   ]
  },
  {
   "cell_type": "code",
   "execution_count": 25,
   "metadata": {},
   "outputs": [],
   "source": [
    "ra = h5py.File(\"test_rays/0000ray.h5\")"
   ]
  },
  {
   "cell_type": "markdown",
   "metadata": {},
   "source": [
    "# Testing movie making class"
   ]
  },
  {
   "cell_type": "code",
   "execution_count": 155,
   "metadata": {
    "scrolled": true
   },
   "outputs": [
    {
     "data": {
      "text/plain": [
       "<module 'plotter' from 'plotter.py'>"
      ]
     },
     "execution_count": 155,
     "metadata": {},
     "output_type": "execute_result"
    }
   ],
   "source": [
    "reload(plotter)"
   ]
  },
  {
   "cell_type": "code",
   "execution_count": 152,
   "metadata": {},
   "outputs": [],
   "source": [
    "mov = plotter.movie_multi_plot(filename, \n",
    "                               \"test_rays/\", \n",
    "                               ion_name='C IV', \n",
    "                               absorber_fields=line_list,\n",
    "                               out_dir=\"test_images/\")"
   ]
  },
  {
   "cell_type": "code",
   "execution_count": null,
   "metadata": {},
   "outputs": [],
   "source": []
  },
  {
   "cell_type": "code",
   "execution_count": 153,
   "metadata": {
    "scrolled": true
   },
   "outputs": [
    {
     "name": "stderr",
     "output_type": "stream",
     "text": [
      "yt : [INFO     ] 2019-05-21 14:46:32,045 Parameters: current_time              = 0.00600002000283\n",
      "yt : [INFO     ] 2019-05-21 14:46:32,047 Parameters: domain_dimensions         = [32 32 32]\n",
      "yt : [INFO     ] 2019-05-21 14:46:32,053 Parameters: domain_left_edge          = [0. 0. 0.]\n",
      "yt : [INFO     ] 2019-05-21 14:46:32,055 Parameters: domain_right_edge         = [1. 1. 1.]\n",
      "yt : [INFO     ] 2019-05-21 14:46:32,058 Parameters: cosmological_simulation   = 0.0\n",
      "yt : [INFO     ] 2019-05-21 14:46:32,194 Parameters: current_time              = 0.0060000200028298 code_time\n",
      "yt : [INFO     ] 2019-05-21 14:46:32,196 Parameters: domain_dimensions         = [2 2 2]\n",
      "yt : [INFO     ] 2019-05-21 14:46:32,198 Parameters: domain_left_edge          = [0. 0. 0.] code_length\n",
      "yt : [INFO     ] 2019-05-21 14:46:32,200 Parameters: domain_right_edge         = [1. 1. 1.] code_length\n",
      "yt : [INFO     ] 2019-05-21 14:46:32,202 Parameters: cosmological_simulation   = 0.0\n",
      "Parsing Hierarchy : 100%|██████████| 173/173 [00:00<00:00, 520.05it/s]\n",
      "yt : [INFO     ] 2019-05-21 14:46:32,551 Gathering a field list (this may take a moment.)\n",
      "yt : [WARNING  ] 2019-05-21 14:46:34,056 Field ('gas', 'H_p0_number_density') already exists. Not clobbering.\n",
      "yt : [WARNING  ] 2019-05-21 14:46:34,058 Field ('gas', 'H_number_density') already exists. Not clobbering.\n",
      "yt : [WARNING  ] 2019-05-21 14:46:34,059 Field ('gas', 'H_p0_density') already exists. Not clobbering.\n",
      "yt : [WARNING  ] 2019-05-21 14:46:34,061 Field ('gas', 'H_density') already exists. Not clobbering.\n",
      "yt : [WARNING  ] 2019-05-21 14:46:34,063 Field ('gas', 'H_p0_mass') already exists. Not clobbering.\n",
      "yt : [WARNING  ] 2019-05-21 14:46:34,064 Field ('gas', 'H_mass') already exists. Not clobbering.\n",
      "yt : [INFO     ] 2019-05-21 14:46:34,165 xlim = -0.202598 0.202598\n",
      "yt : [INFO     ] 2019-05-21 14:46:34,167 ylim = -0.202598 0.202598\n",
      "yt : [INFO     ] 2019-05-21 14:46:34,169 Making a fixed resolution buffer of (('gas', 'H_p0_number_density')) 800 by 800\n",
      "yt : [INFO     ] 2019-05-21 14:46:34,764 Setting instrument to Custom\n",
      "yt : [INFO     ] 2019-05-21 14:46:34,804 Allocating for 6.600e+01 particles (index particle type 'all')\n",
      "yt : [INFO     ] 2019-05-21 14:46:34,809 Identified 5.700e+01 octs\n",
      "yt : [INFO     ] 2019-05-21 14:46:35,147 Creating O_p5_number_density from ray's density, temperature, metallicity.\n",
      "yt : [INFO     ] 2019-05-21 14:46:35,173 Creating C_p3_number_density from ray's density, temperature, metallicity.\n",
      "yt : [INFO     ] 2019-05-21 14:46:35,181 Creating spectrum\n",
      "yt : [INFO     ] 2019-05-21 14:46:35,224 66 out of 66 line components will be deposited as unresolved lines.\n",
      "Adding line - O VI 1038 [1037.613000 A]: : 100%|██████████| 66/66 [00:00<00:00, 3281.31it/s]\n",
      "yt : [INFO     ] 2019-05-21 14:46:35,252 66 out of 66 line components will be deposited as unresolved lines.\n",
      "Adding line - O VI 1032 [1031.912000 A]: : 100%|██████████| 66/66 [00:00<00:00, 3291.96it/s]\n",
      "yt : [INFO     ] 2019-05-21 14:46:35,283 66 out of 66 line components will be deposited as unresolved lines.\n",
      "Adding line - Ly a [1215.670000 A]: : 100%|██████████| 66/66 [00:00<00:00, 2759.52it/s]\n",
      "yt : [INFO     ] 2019-05-21 14:46:35,314 66 out of 66 line components will be deposited as unresolved lines.\n",
      "Adding line - Ly b [1025.722200 A]: : 100%|██████████| 66/66 [00:00<00:00, 3482.85it/s]\n",
      "yt : [INFO     ] 2019-05-21 14:46:35,341 66 out of 66 line components will be deposited as unresolved lines.\n",
      "Adding line - Ly c [972.536740 A]: : 100%|██████████| 66/66 [00:00<00:00, 3062.52it/s]\n",
      "yt : [INFO     ] 2019-05-21 14:46:35,369 66 out of 66 line components will be deposited as unresolved lines.\n",
      "Adding line - Ly d [949.742980 A]: : 100%|██████████| 66/66 [00:00<00:00, 2644.88it/s]\n",
      "yt : [INFO     ] 2019-05-21 14:46:35,400 66 out of 66 line components will be deposited as unresolved lines.\n",
      "Adding line - Ly e [937.803400 A]: : 100%|██████████| 66/66 [00:00<00:00, 2905.07it/s]\n",
      "yt : [INFO     ] 2019-05-21 14:46:35,430 66 out of 66 line components will be deposited as unresolved lines.\n",
      "Adding line - Ly 6 [930.748200 A]: : 100%|██████████| 66/66 [00:00<00:00, 3273.00it/s]\n",
      "yt : [INFO     ] 2019-05-21 14:46:35,460 66 out of 66 line components will be deposited as unresolved lines.\n",
      "Adding line - Ly 7 [926.225640 A]: : 100%|██████████| 66/66 [00:00<00:00, 3385.65it/s]\n",
      "yt : [INFO     ] 2019-05-21 14:46:35,490 66 out of 66 line components will be deposited as unresolved lines.\n",
      "Adding line - Ly 8 [923.150300 A]: : 100%|██████████| 66/66 [00:00<00:00, 2912.62it/s]\n",
      "yt : [INFO     ] 2019-05-21 14:46:35,519 66 out of 66 line components will be deposited as unresolved lines.\n",
      "Adding line - Ly 9 [920.963026 A]: : 100%|██████████| 66/66 [00:00<00:00, 3494.06it/s]\n",
      "yt : [INFO     ] 2019-05-21 14:46:35,544 66 out of 66 line components will be deposited as unresolved lines.\n",
      "Adding line - Ly 10 [919.351351 A]: : 100%|██████████| 66/66 [00:00<00:00, 3443.26it/s]\n",
      "yt : [INFO     ] 2019-05-21 14:46:35,571 66 out of 66 line components will be deposited as unresolved lines.\n",
      "Adding line - Ly 11 [918.129312 A]: : 100%|██████████| 66/66 [00:00<00:00, 3773.81it/s]\n",
      "yt : [INFO     ] 2019-05-21 14:46:35,596 66 out of 66 line components will be deposited as unresolved lines.\n",
      "Adding line - Ly 12 [917.180525 A]: : 100%|██████████| 66/66 [00:00<00:00, 2646.12it/s]\n",
      "yt : [INFO     ] 2019-05-21 14:46:35,627 66 out of 66 line components will be deposited as unresolved lines.\n",
      "Adding line - Ly 13 [916.429085 A]: : 100%|██████████| 66/66 [00:00<00:00, 2757.71it/s]\n",
      "yt : [INFO     ] 2019-05-21 14:46:35,659 66 out of 66 line components will be deposited as unresolved lines.\n",
      "Adding line - Ly 14 [915.823759 A]: : 100%|██████████| 66/66 [00:00<00:00, 2768.21it/s]\n",
      "yt : [INFO     ] 2019-05-21 14:46:35,689 66 out of 66 line components will be deposited as unresolved lines.\n",
      "Adding line - Ly 15 [915.328939 A]: : 100%|██████████| 66/66 [00:00<00:00, 3498.35it/s]\n",
      "yt : [INFO     ] 2019-05-21 14:46:35,715 66 out of 66 line components will be deposited as unresolved lines.\n",
      "Adding line - Ly 16 [914.919249 A]: : 100%|██████████| 66/66 [00:00<00:00, 2254.78it/s]\n",
      "yt : [INFO     ] 2019-05-21 14:46:35,752 66 out of 66 line components will be deposited as unresolved lines.\n",
      "Adding line - Ly 17 [914.576207 A]: : 100%|██████████| 66/66 [00:00<00:00, 2267.34it/s]\n",
      "yt : [INFO     ] 2019-05-21 14:46:35,787 66 out of 66 line components will be deposited as unresolved lines.\n",
      "Adding line - Ly 18 [914.286092 A]: : 100%|██████████| 66/66 [00:00<00:00, 2781.65it/s]\n",
      "yt : [INFO     ] 2019-05-21 14:46:35,817 66 out of 66 line components will be deposited as unresolved lines.\n",
      "Adding line - Ly 19 [914.038542 A]: : 100%|██████████| 66/66 [00:00<00:00, 2831.90it/s]\n",
      "yt : [INFO     ] 2019-05-21 14:46:35,848 66 out of 66 line components will be deposited as unresolved lines.\n",
      "Adding line - Ly 20 [913.825614 A]: : 100%|██████████| 66/66 [00:00<00:00, 2569.68it/s]\n",
      "yt : [INFO     ] 2019-05-21 14:46:35,881 66 out of 66 line components will be deposited as unresolved lines.\n",
      "Adding line - Ly 21 [913.641137 A]: : 100%|██████████| 66/66 [00:00<00:00, 2886.26it/s]\n",
      "yt : [INFO     ] 2019-05-21 14:46:35,910 66 out of 66 line components will be deposited as unresolved lines.\n",
      "Adding line - Ly 22 [913.480256 A]: : 100%|██████████| 66/66 [00:00<00:00, 3242.30it/s]\n",
      "yt : [INFO     ] 2019-05-21 14:46:35,937 66 out of 66 line components will be deposited as unresolved lines.\n",
      "Adding line - Ly 23 [913.339110 A]: : 100%|██████████| 66/66 [00:00<00:00, 3524.54it/s]\n",
      "yt : [INFO     ] 2019-05-21 14:46:35,962 66 out of 66 line components will be deposited as unresolved lines.\n",
      "Adding line - Ly 24 [913.214596 A]: : 100%|██████████| 66/66 [00:00<00:00, 2775.57it/s]\n",
      "yt : [INFO     ] 2019-05-21 14:46:35,992 66 out of 66 line components will be deposited as unresolved lines.\n",
      "Adding line - Ly 25 [913.104199 A]: : 100%|██████████| 66/66 [00:00<00:00, 3415.81it/s]\n",
      "yt : [INFO     ] 2019-05-21 14:46:36,018 66 out of 66 line components will be deposited as unresolved lines.\n",
      "Adding line - Ly 26 [913.005863 A]: : 100%|██████████| 66/66 [00:00<00:00, 3005.07it/s]\n",
      "yt : [INFO     ] 2019-05-21 14:46:36,047 66 out of 66 line components will be deposited as unresolved lines.\n",
      "Adding line - Ly 27 [912.917891 A]: : 100%|██████████| 66/66 [00:00<00:00, 2233.21it/s]\n",
      "yt : [INFO     ] 2019-05-21 14:46:36,087 66 out of 66 line components will be deposited as unresolved lines.\n",
      "Adding line - Ly 28 [912.838877 A]: : 100%|██████████| 66/66 [00:00<00:00, 3513.26it/s]\n",
      "yt : [INFO     ] 2019-05-21 14:46:36,112 66 out of 66 line components will be deposited as unresolved lines.\n",
      "Adding line - Ly 29 [912.767643 A]: : 100%|██████████| 66/66 [00:00<00:00, 3106.47it/s]\n",
      "yt : [INFO     ] 2019-05-21 14:46:36,140 66 out of 66 line components will be deposited as unresolved lines.\n",
      "Adding line - Ly 30 [912.703200 A]: : 100%|██████████| 66/66 [00:00<00:00, 2903.52it/s]\n",
      "yt : [INFO     ] 2019-05-21 14:46:36,168 66 out of 66 line components will be deposited as unresolved lines.\n",
      "Adding line - Ly 31 [912.644712 A]: : 100%|██████████| 66/66 [00:00<00:00, 3797.89it/s]\n",
      "yt : [INFO     ] 2019-05-21 14:46:36,192 66 out of 66 line components will be deposited as unresolved lines.\n",
      "Adding line - Ly 32 [912.591467 A]: : 100%|██████████| 66/66 [00:00<00:00, 3523.95it/s]\n",
      "yt : [INFO     ] 2019-05-21 14:46:36,218 66 out of 66 line components will be deposited as unresolved lines.\n",
      "Adding line - Ly 33 [912.542856 A]: : 100%|██████████| 66/66 [00:00<00:00, 3345.51it/s]\n",
      "yt : [INFO     ] 2019-05-21 14:46:36,244 66 out of 66 line components will be deposited as unresolved lines.\n",
      "Adding line - Ly 34 [912.498356 A]: : 100%|██████████| 66/66 [00:00<00:00, 3322.74it/s]\n",
      "yt : [INFO     ] 2019-05-21 14:46:36,270 66 out of 66 line components will be deposited as unresolved lines.\n",
      "Adding line - Ly 35 [912.457516 A]: : 100%|██████████| 66/66 [00:00<00:00, 3363.07it/s]\n",
      "yt : [INFO     ] 2019-05-21 14:46:36,295 66 out of 66 line components will be deposited as unresolved lines.\n",
      "Adding line - Ly 36 [912.419946 A]: : 100%|██████████| 66/66 [00:00<00:00, 3160.45it/s]\n",
      "yt : [INFO     ] 2019-05-21 14:46:36,323 66 out of 66 line components will be deposited as unresolved lines.\n",
      "Adding line - Ly 37 [912.385306 A]: : 100%|██████████| 66/66 [00:00<00:00, 3364.09it/s]\n",
      "yt : [INFO     ] 2019-05-21 14:46:36,350 66 out of 66 line components will be deposited as unresolved lines.\n",
      "Adding line - Ly 38 [912.353298 A]: : 100%|██████████| 66/66 [00:00<00:00, 3312.76it/s]\n",
      "yt : [INFO     ] 2019-05-21 14:46:36,378 66 out of 66 line components will be deposited as unresolved lines.\n",
      "Adding line - Ly 39 [912.323663 A]: : 100%|██████████| 66/66 [00:00<00:00, 3429.48it/s]\n",
      "yt : [INFO     ] 2019-05-21 14:46:36,423 66 out of 66 line components will be deposited as unresolved lines.\n",
      "Adding line - C IV 1551 [1550.772000 A]: : 100%|██████████| 66/66 [00:00<00:00, 2884.37it/s]\n",
      "yt : [INFO     ] 2019-05-21 14:46:36,452 66 out of 66 line components will be deposited as unresolved lines.\n",
      "Adding line - C IV 1548 [1548.187000 A]: : 100%|██████████| 66/66 [00:00<00:00, 3520.19it/s]\n",
      "yt : [INFO     ] 2019-05-21 14:46:36,477 Not adding continuum Ly C: insufficient column density or out of range\n",
      "yt : [INFO     ] 2019-05-21 14:46:36,479 Writing spectrum to hdf5 file: .temp.h5.\n",
      "yt : [INFO     ] 2019-05-21 14:46:38,047 Parameters: current_time              = 0.0060000200028298 code_time\n",
      "yt : [INFO     ] 2019-05-21 14:46:38,048 Parameters: domain_dimensions         = [2 2 2]\n",
      "yt : [INFO     ] 2019-05-21 14:46:38,050 Parameters: domain_left_edge          = [0. 0. 0.] code_length\n",
      "yt : [INFO     ] 2019-05-21 14:46:38,052 Parameters: domain_right_edge         = [1. 1. 1.] code_length\n",
      "yt : [INFO     ] 2019-05-21 14:46:38,056 Parameters: cosmological_simulation   = 0.0\n",
      "yt : [INFO     ] 2019-05-21 14:46:38,262 Setting instrument to Custom\n",
      "yt : [INFO     ] 2019-05-21 14:46:38,300 Allocating for 1.240e+02 particles (index particle type 'all')\n",
      "yt : [INFO     ] 2019-05-21 14:46:38,305 Identified 1.050e+02 octs\n",
      "yt : [INFO     ] 2019-05-21 14:46:38,623 Creating O_p5_number_density from ray's density, temperature, metallicity.\n",
      "yt : [INFO     ] 2019-05-21 14:46:38,648 Creating C_p3_number_density from ray's density, temperature, metallicity.\n",
      "yt : [INFO     ] 2019-05-21 14:46:38,657 Creating spectrum\n",
      "yt : [INFO     ] 2019-05-21 14:46:38,695 124 out of 124 line components will be deposited as unresolved lines.\n",
      "Adding line - O VI 1038 [1037.613000 A]: : 100%|██████████| 124/124 [00:00<00:00, 2917.04it/s]\n",
      "yt : [INFO     ] 2019-05-21 14:46:38,744 124 out of 124 line components will be deposited as unresolved lines.\n",
      "Adding line - O VI 1032 [1031.912000 A]: : 100%|██████████| 124/124 [00:00<00:00, 2862.69it/s]\n",
      "yt : [INFO     ] 2019-05-21 14:46:38,798 124 out of 124 line components will be deposited as unresolved lines.\n",
      "Adding line - Ly a [1215.670000 A]: : 100%|██████████| 124/124 [00:00<00:00, 2801.01it/s]\n",
      "yt : [INFO     ] 2019-05-21 14:46:38,850 124 out of 124 line components will be deposited as unresolved lines.\n",
      "Adding line - Ly b [1025.722200 A]: : 100%|██████████| 124/124 [00:00<00:00, 3429.39it/s]\n",
      "yt : [INFO     ] 2019-05-21 14:46:38,893 124 out of 124 line components will be deposited as unresolved lines.\n",
      "Adding line - Ly c [972.536740 A]: : 100%|██████████| 124/124 [00:00<00:00, 3604.33it/s]\n",
      "yt : [INFO     ] 2019-05-21 14:46:38,934 124 out of 124 line components will be deposited as unresolved lines.\n",
      "Adding line - Ly d [949.742980 A]: : 100%|██████████| 124/124 [00:00<00:00, 3882.40it/s]\n",
      "yt : [INFO     ] 2019-05-21 14:46:38,973 124 out of 124 line components will be deposited as unresolved lines.\n",
      "Adding line - Ly e [937.803400 A]: : 100%|██████████| 124/124 [00:00<00:00, 3344.20it/s]\n",
      "yt : [INFO     ] 2019-05-21 14:46:39,016 124 out of 124 line components will be deposited as unresolved lines.\n",
      "Adding line - Ly 6 [930.748200 A]: : 100%|██████████| 124/124 [00:00<00:00, 3288.88it/s]\n",
      "yt : [INFO     ] 2019-05-21 14:46:39,061 124 out of 124 line components will be deposited as unresolved lines.\n",
      "Adding line - Ly 7 [926.225640 A]: : 100%|██████████| 124/124 [00:00<00:00, 3505.50it/s]\n",
      "yt : [INFO     ] 2019-05-21 14:46:39,102 124 out of 124 line components will be deposited as unresolved lines.\n",
      "Adding line - Ly 8 [923.150300 A]: : 100%|██████████| 124/124 [00:00<00:00, 3684.56it/s]\n",
      "yt : [INFO     ] 2019-05-21 14:46:39,142 124 out of 124 line components will be deposited as unresolved lines.\n",
      "Adding line - Ly 9 [920.963026 A]: : 100%|██████████| 124/124 [00:00<00:00, 3418.05it/s]\n",
      "yt : [INFO     ] 2019-05-21 14:46:39,185 124 out of 124 line components will be deposited as unresolved lines.\n",
      "Adding line - Ly 10 [919.351351 A]: : 100%|██████████| 124/124 [00:00<00:00, 3576.69it/s]\n",
      "yt : [INFO     ] 2019-05-21 14:46:39,227 124 out of 124 line components will be deposited as unresolved lines.\n",
      "Adding line - Ly 11 [918.129312 A]: : 100%|██████████| 124/124 [00:00<00:00, 3598.69it/s]\n",
      "yt : [INFO     ] 2019-05-21 14:46:39,268 124 out of 124 line components will be deposited as unresolved lines.\n",
      "Adding line - Ly 12 [917.180525 A]: : 100%|██████████| 124/124 [00:00<00:00, 3897.41it/s]\n",
      "yt : [INFO     ] 2019-05-21 14:46:39,307 124 out of 124 line components will be deposited as unresolved lines.\n",
      "Adding line - Ly 13 [916.429085 A]: : 100%|██████████| 124/124 [00:00<00:00, 3740.55it/s]\n",
      "yt : [INFO     ] 2019-05-21 14:46:39,346 124 out of 124 line components will be deposited as unresolved lines.\n",
      "Adding line - Ly 14 [915.823759 A]: : 100%|██████████| 124/124 [00:00<00:00, 4021.26it/s]\n",
      "yt : [INFO     ] 2019-05-21 14:46:39,384 124 out of 124 line components will be deposited as unresolved lines.\n",
      "Adding line - Ly 15 [915.328939 A]: : 100%|██████████| 124/124 [00:00<00:00, 4026.49it/s]\n",
      "yt : [INFO     ] 2019-05-21 14:46:39,421 124 out of 124 line components will be deposited as unresolved lines.\n",
      "Adding line - Ly 16 [914.919249 A]: : 100%|██████████| 124/124 [00:00<00:00, 4015.67it/s]\n",
      "yt : [INFO     ] 2019-05-21 14:46:39,458 124 out of 124 line components will be deposited as unresolved lines.\n",
      "Adding line - Ly 17 [914.576207 A]: : 100%|██████████| 124/124 [00:00<00:00, 3919.59it/s]\n",
      "yt : [INFO     ] 2019-05-21 14:46:39,495 124 out of 124 line components will be deposited as unresolved lines.\n",
      "Adding line - Ly 18 [914.286092 A]: : 100%|██████████| 124/124 [00:00<00:00, 3502.72it/s]\n",
      "yt : [INFO     ] 2019-05-21 14:46:39,539 124 out of 124 line components will be deposited as unresolved lines.\n"
     ]
    },
    {
     "name": "stderr",
     "output_type": "stream",
     "text": [
      "Adding line - Ly 19 [914.038542 A]: : 100%|██████████| 124/124 [00:00<00:00, 3587.55it/s]\n",
      "yt : [INFO     ] 2019-05-21 14:46:39,580 124 out of 124 line components will be deposited as unresolved lines.\n",
      "Adding line - Ly 20 [913.825614 A]: : 100%|██████████| 124/124 [00:00<00:00, 4114.83it/s]\n",
      "yt : [INFO     ] 2019-05-21 14:46:39,617 124 out of 124 line components will be deposited as unresolved lines.\n",
      "Adding line - Ly 21 [913.641137 A]: : 100%|██████████| 124/124 [00:00<00:00, 3747.91it/s]\n",
      "yt : [INFO     ] 2019-05-21 14:46:39,656 124 out of 124 line components will be deposited as unresolved lines.\n",
      "Adding line - Ly 22 [913.480256 A]: : 100%|██████████| 124/124 [00:00<00:00, 4023.75it/s]\n",
      "yt : [INFO     ] 2019-05-21 14:46:39,694 124 out of 124 line components will be deposited as unresolved lines.\n",
      "Adding line - Ly 23 [913.339110 A]: : 100%|██████████| 124/124 [00:00<00:00, 3833.66it/s]\n",
      "yt : [INFO     ] 2019-05-21 14:46:39,733 124 out of 124 line components will be deposited as unresolved lines.\n",
      "Adding line - Ly 24 [913.214596 A]: : 100%|██████████| 124/124 [00:00<00:00, 3662.04it/s]\n",
      "yt : [INFO     ] 2019-05-21 14:46:39,774 124 out of 124 line components will be deposited as unresolved lines.\n",
      "Adding line - Ly 25 [913.104199 A]: : 100%|██████████| 124/124 [00:00<00:00, 3952.08it/s]\n",
      "yt : [INFO     ] 2019-05-21 14:46:39,811 124 out of 124 line components will be deposited as unresolved lines.\n",
      "Adding line - Ly 26 [913.005863 A]: : 100%|██████████| 124/124 [00:00<00:00, 4002.72it/s]\n",
      "yt : [INFO     ] 2019-05-21 14:46:39,848 124 out of 124 line components will be deposited as unresolved lines.\n",
      "Adding line - Ly 27 [912.917891 A]: : 100%|██████████| 124/124 [00:00<00:00, 3743.16it/s]\n",
      "yt : [INFO     ] 2019-05-21 14:46:39,888 124 out of 124 line components will be deposited as unresolved lines.\n",
      "Adding line - Ly 28 [912.838877 A]: : 100%|██████████| 124/124 [00:00<00:00, 3319.76it/s]\n",
      "yt : [INFO     ] 2019-05-21 14:46:39,935 124 out of 124 line components will be deposited as unresolved lines.\n",
      "Adding line - Ly 29 [912.767643 A]: : 100%|██████████| 124/124 [00:00<00:00, 3502.13it/s]\n",
      "yt : [INFO     ] 2019-05-21 14:46:39,977 124 out of 124 line components will be deposited as unresolved lines.\n",
      "Adding line - Ly 30 [912.703200 A]: : 100%|██████████| 124/124 [00:00<00:00, 3935.01it/s]\n",
      "yt : [INFO     ] 2019-05-21 14:46:40,015 124 out of 124 line components will be deposited as unresolved lines.\n",
      "Adding line - Ly 31 [912.644712 A]: : 100%|██████████| 124/124 [00:00<00:00, 3825.03it/s]\n",
      "yt : [INFO     ] 2019-05-21 14:46:40,055 124 out of 124 line components will be deposited as unresolved lines.\n",
      "Adding line - Ly 32 [912.591467 A]: : 100%|██████████| 124/124 [00:00<00:00, 3299.19it/s]\n",
      "yt : [INFO     ] 2019-05-21 14:46:40,098 124 out of 124 line components will be deposited as unresolved lines.\n",
      "Adding line - Ly 33 [912.542856 A]: : 100%|██████████| 124/124 [00:00<00:00, 4012.82it/s]\n",
      "yt : [INFO     ] 2019-05-21 14:46:40,135 124 out of 124 line components will be deposited as unresolved lines.\n",
      "Adding line - Ly 34 [912.498356 A]: : 100%|██████████| 124/124 [00:00<00:00, 4014.37it/s]\n",
      "yt : [INFO     ] 2019-05-21 14:46:40,175 124 out of 124 line components will be deposited as unresolved lines.\n",
      "Adding line - Ly 35 [912.457516 A]: : 100%|██████████| 124/124 [00:00<00:00, 4044.09it/s]\n",
      "yt : [INFO     ] 2019-05-21 14:46:40,212 124 out of 124 line components will be deposited as unresolved lines.\n",
      "Adding line - Ly 36 [912.419946 A]: : 100%|██████████| 124/124 [00:00<00:00, 3357.44it/s]\n",
      "yt : [INFO     ] 2019-05-21 14:46:40,256 124 out of 124 line components will be deposited as unresolved lines.\n",
      "Adding line - Ly 37 [912.385306 A]: : 100%|██████████| 124/124 [00:00<00:00, 3403.69it/s]\n",
      "yt : [INFO     ] 2019-05-21 14:46:40,298 124 out of 124 line components will be deposited as unresolved lines.\n",
      "Adding line - Ly 38 [912.353298 A]: : 100%|██████████| 124/124 [00:00<00:00, 3530.44it/s]\n",
      "yt : [INFO     ] 2019-05-21 14:46:40,343 124 out of 124 line components will be deposited as unresolved lines.\n",
      "Adding line - Ly 39 [912.323663 A]: : 100%|██████████| 124/124 [00:00<00:00, 3751.21it/s]\n",
      "yt : [INFO     ] 2019-05-21 14:46:40,395 124 out of 124 line components will be deposited as unresolved lines.\n",
      "Adding line - C IV 1551 [1550.772000 A]: : 100%|██████████| 124/124 [00:00<00:00, 3669.51it/s]\n",
      "yt : [INFO     ] 2019-05-21 14:46:40,435 124 out of 124 line components will be deposited as unresolved lines.\n",
      "Adding line - C IV 1548 [1548.187000 A]: : 100%|██████████| 124/124 [00:00<00:00, 3698.60it/s]\n",
      "yt : [INFO     ] 2019-05-21 14:46:40,474 Not adding continuum Ly C: insufficient column density or out of range\n",
      "yt : [INFO     ] 2019-05-21 14:46:40,476 Writing spectrum to hdf5 file: .temp.h5.\n",
      "yt : [INFO     ] 2019-05-21 14:46:42,170 Parameters: current_time              = 0.0060000200028298 code_time\n",
      "yt : [INFO     ] 2019-05-21 14:46:42,171 Parameters: domain_dimensions         = [2 2 2]\n",
      "yt : [INFO     ] 2019-05-21 14:46:42,173 Parameters: domain_left_edge          = [0. 0. 0.] code_length\n",
      "yt : [INFO     ] 2019-05-21 14:46:42,174 Parameters: domain_right_edge         = [1. 1. 1.] code_length\n",
      "yt : [INFO     ] 2019-05-21 14:46:42,176 Parameters: cosmological_simulation   = 0.0\n",
      "yt : [INFO     ] 2019-05-21 14:46:42,422 Setting instrument to Custom\n",
      "yt : [INFO     ] 2019-05-21 14:46:42,463 Allocating for 1.240e+02 particles (index particle type 'all')\n",
      "yt : [INFO     ] 2019-05-21 14:46:42,468 Identified 1.050e+02 octs\n",
      "yt : [INFO     ] 2019-05-21 14:46:43,062 Creating O_p5_number_density from ray's density, temperature, metallicity.\n",
      "yt : [INFO     ] 2019-05-21 14:46:43,093 Creating C_p3_number_density from ray's density, temperature, metallicity.\n",
      "yt : [INFO     ] 2019-05-21 14:46:43,102 Creating spectrum\n",
      "yt : [INFO     ] 2019-05-21 14:46:43,155 124 out of 124 line components will be deposited as unresolved lines.\n",
      "Adding line - O VI 1038 [1037.613000 A]: : 100%|██████████| 124/124 [00:00<00:00, 2251.03it/s]\n",
      "yt : [INFO     ] 2019-05-21 14:46:43,216 124 out of 124 line components will be deposited as unresolved lines.\n",
      "Adding line - O VI 1032 [1031.912000 A]: : 100%|██████████| 124/124 [00:00<00:00, 1819.83it/s]\n",
      "yt : [INFO     ] 2019-05-21 14:46:43,295 124 out of 124 line components will be deposited as unresolved lines.\n",
      "Adding line - Ly a [1215.670000 A]: : 100%|██████████| 124/124 [00:00<00:00, 2378.98it/s]\n",
      "yt : [INFO     ] 2019-05-21 14:46:43,353 124 out of 124 line components will be deposited as unresolved lines.\n",
      "Adding line - Ly b [1025.722200 A]: : 100%|██████████| 124/124 [00:00<00:00, 2771.14it/s]\n",
      "yt : [INFO     ] 2019-05-21 14:46:43,405 124 out of 124 line components will be deposited as unresolved lines.\n",
      "Adding line - Ly c [972.536740 A]: : 100%|██████████| 124/124 [00:00<00:00, 2629.02it/s]\n",
      "yt : [INFO     ] 2019-05-21 14:46:43,458 124 out of 124 line components will be deposited as unresolved lines.\n",
      "Adding line - Ly d [949.742980 A]: : 100%|██████████| 124/124 [00:00<00:00, 3022.76it/s]\n",
      "yt : [INFO     ] 2019-05-21 14:46:43,505 124 out of 124 line components will be deposited as unresolved lines.\n",
      "Adding line - Ly e [937.803400 A]: : 100%|██████████| 124/124 [00:00<00:00, 2880.10it/s]\n",
      "yt : [INFO     ] 2019-05-21 14:46:43,555 124 out of 124 line components will be deposited as unresolved lines.\n",
      "Adding line - Ly 6 [930.748200 A]: : 100%|██████████| 124/124 [00:00<00:00, 2976.54it/s]\n",
      "yt : [INFO     ] 2019-05-21 14:46:43,603 124 out of 124 line components will be deposited as unresolved lines.\n",
      "Adding line - Ly 7 [926.225640 A]: : 100%|██████████| 124/124 [00:00<00:00, 3172.50it/s]\n",
      "yt : [INFO     ] 2019-05-21 14:46:43,649 124 out of 124 line components will be deposited as unresolved lines.\n",
      "Adding line - Ly 8 [923.150300 A]: : 100%|██████████| 124/124 [00:00<00:00, 3069.99it/s]\n",
      "yt : [INFO     ] 2019-05-21 14:46:43,699 124 out of 124 line components will be deposited as unresolved lines.\n",
      "Adding line - Ly 9 [920.963026 A]: : 100%|██████████| 124/124 [00:00<00:00, 3329.75it/s]\n",
      "yt : [INFO     ] 2019-05-21 14:46:43,745 124 out of 124 line components will be deposited as unresolved lines.\n",
      "Adding line - Ly 10 [919.351351 A]: : 100%|██████████| 124/124 [00:00<00:00, 3473.87it/s]\n",
      "yt : [INFO     ] 2019-05-21 14:46:43,786 124 out of 124 line components will be deposited as unresolved lines.\n"
     ]
    },
    {
     "name": "stderr",
     "output_type": "stream",
     "text": [
      "Adding line - Ly 11 [918.129312 A]: : 100%|██████████| 124/124 [00:00<00:00, 3264.19it/s]\n",
      "yt : [INFO     ] 2019-05-21 14:46:43,831 124 out of 124 line components will be deposited as unresolved lines.\n",
      "Adding line - Ly 12 [917.180525 A]: : 100%|██████████| 124/124 [00:00<00:00, 3592.85it/s]\n",
      "yt : [INFO     ] 2019-05-21 14:46:43,871 124 out of 124 line components will be deposited as unresolved lines.\n",
      "Adding line - Ly 13 [916.429085 A]: : 100%|██████████| 124/124 [00:00<00:00, 3816.45it/s]\n",
      "yt : [INFO     ] 2019-05-21 14:46:43,911 124 out of 124 line components will be deposited as unresolved lines.\n",
      "Adding line - Ly 14 [915.823759 A]: : 100%|██████████| 124/124 [00:00<00:00, 3936.02it/s]\n",
      "yt : [INFO     ] 2019-05-21 14:46:43,949 124 out of 124 line components will be deposited as unresolved lines.\n",
      "Adding line - Ly 15 [915.328939 A]: : 100%|██████████| 124/124 [00:00<00:00, 3756.19it/s]\n",
      "yt : [INFO     ] 2019-05-21 14:46:43,991 124 out of 124 line components will be deposited as unresolved lines.\n",
      "Adding line - Ly 16 [914.919249 A]: : 100%|██████████| 124/124 [00:00<00:00, 3717.93it/s]\n",
      "yt : [INFO     ] 2019-05-21 14:46:44,030 124 out of 124 line components will be deposited as unresolved lines.\n",
      "Adding line - Ly 17 [914.576207 A]: : 100%|██████████| 124/124 [00:00<00:00, 3244.72it/s]\n",
      "yt : [INFO     ] 2019-05-21 14:46:44,075 124 out of 124 line components will be deposited as unresolved lines.\n",
      "Adding line - Ly 18 [914.286092 A]: : 100%|██████████| 124/124 [00:00<00:00, 3664.41it/s]\n",
      "yt : [INFO     ] 2019-05-21 14:46:44,116 124 out of 124 line components will be deposited as unresolved lines.\n",
      "Adding line - Ly 19 [914.038542 A]: : 100%|██████████| 124/124 [00:00<00:00, 3812.44it/s]\n",
      "yt : [INFO     ] 2019-05-21 14:46:44,155 124 out of 124 line components will be deposited as unresolved lines.\n",
      "Adding line - Ly 20 [913.825614 A]: : 100%|██████████| 124/124 [00:00<00:00, 4065.17it/s]\n",
      "yt : [INFO     ] 2019-05-21 14:46:44,192 124 out of 124 line components will be deposited as unresolved lines.\n",
      "Adding line - Ly 21 [913.641137 A]: : 100%|██████████| 124/124 [00:00<00:00, 3918.73it/s]\n",
      "yt : [INFO     ] 2019-05-21 14:46:44,230 124 out of 124 line components will be deposited as unresolved lines.\n",
      "Adding line - Ly 22 [913.480256 A]: : 100%|██████████| 124/124 [00:00<00:00, 4035.27it/s]\n",
      "yt : [INFO     ] 2019-05-21 14:46:44,267 124 out of 124 line components will be deposited as unresolved lines.\n",
      "Adding line - Ly 23 [913.339110 A]: : 100%|██████████| 124/124 [00:00<00:00, 4010.47it/s]\n",
      "yt : [INFO     ] 2019-05-21 14:46:44,304 124 out of 124 line components will be deposited as unresolved lines.\n",
      "Adding line - Ly 24 [913.214596 A]: : 100%|██████████| 124/124 [00:00<00:00, 3883.12it/s]\n",
      "yt : [INFO     ] 2019-05-21 14:46:44,342 124 out of 124 line components will be deposited as unresolved lines.\n",
      "Adding line - Ly 25 [913.104199 A]: : 100%|██████████| 124/124 [00:00<00:00, 3798.44it/s]\n",
      "yt : [INFO     ] 2019-05-21 14:46:44,381 124 out of 124 line components will be deposited as unresolved lines.\n",
      "Adding line - Ly 26 [913.005863 A]: : 100%|██████████| 124/124 [00:00<00:00, 3451.71it/s]\n",
      "yt : [INFO     ] 2019-05-21 14:46:44,424 124 out of 124 line components will be deposited as unresolved lines.\n",
      "Adding line - Ly 27 [912.917891 A]: : 100%|██████████| 124/124 [00:00<00:00, 1910.37it/s]\n",
      "yt : [INFO     ] 2019-05-21 14:46:44,501 124 out of 124 line components will be deposited as unresolved lines.\n",
      "Adding line - Ly 28 [912.838877 A]: : 100%|██████████| 124/124 [00:00<00:00, 1575.06it/s]\n",
      "yt : [INFO     ] 2019-05-21 14:46:44,591 124 out of 124 line components will be deposited as unresolved lines.\n",
      "Adding line - Ly 29 [912.767643 A]: : 100%|██████████| 124/124 [00:00<00:00, 1789.56it/s]\n",
      "yt : [INFO     ] 2019-05-21 14:46:44,665 124 out of 124 line components will be deposited as unresolved lines.\n",
      "Adding line - Ly 30 [912.703200 A]: : 100%|██████████| 124/124 [00:00<00:00, 3213.45it/s]\n",
      "yt : [INFO     ] 2019-05-21 14:46:44,712 124 out of 124 line components will be deposited as unresolved lines.\n",
      "Adding line - Ly 31 [912.644712 A]: : 100%|██████████| 124/124 [00:00<00:00, 3111.35it/s]\n",
      "yt : [INFO     ] 2019-05-21 14:46:44,758 124 out of 124 line components will be deposited as unresolved lines.\n",
      "Adding line - Ly 32 [912.591467 A]: : 100%|██████████| 124/124 [00:00<00:00, 2337.43it/s]\n",
      "yt : [INFO     ] 2019-05-21 14:46:44,819 124 out of 124 line components will be deposited as unresolved lines.\n",
      "Adding line - Ly 33 [912.542856 A]: : 100%|██████████| 124/124 [00:00<00:00, 2940.28it/s]\n",
      "yt : [INFO     ] 2019-05-21 14:46:44,867 124 out of 124 line components will be deposited as unresolved lines.\n",
      "Adding line - Ly 34 [912.498356 A]: : 100%|██████████| 124/124 [00:00<00:00, 3922.07it/s]\n",
      "yt : [INFO     ] 2019-05-21 14:46:44,905 124 out of 124 line components will be deposited as unresolved lines.\n",
      "Adding line - Ly 35 [912.457516 A]: : 100%|██████████| 124/124 [00:00<00:00, 4160.25it/s]\n",
      "yt : [INFO     ] 2019-05-21 14:46:44,943 124 out of 124 line components will be deposited as unresolved lines.\n",
      "Adding line - Ly 36 [912.419946 A]: : 100%|██████████| 124/124 [00:00<00:00, 4067.04it/s]\n",
      "yt : [INFO     ] 2019-05-21 14:46:44,980 124 out of 124 line components will be deposited as unresolved lines.\n",
      "Adding line - Ly 37 [912.385306 A]: : 100%|██████████| 124/124 [00:00<00:00, 3740.90it/s]\n",
      "yt : [INFO     ] 2019-05-21 14:46:45,019 124 out of 124 line components will be deposited as unresolved lines.\n",
      "Adding line - Ly 38 [912.353298 A]: : 100%|██████████| 124/124 [00:00<00:00, 3912.39it/s]\n",
      "yt : [INFO     ] 2019-05-21 14:46:45,057 124 out of 124 line components will be deposited as unresolved lines.\n",
      "Adding line - Ly 39 [912.323663 A]: : 100%|██████████| 124/124 [00:00<00:00, 3216.95it/s]\n",
      "yt : [INFO     ] 2019-05-21 14:46:45,122 124 out of 124 line components will be deposited as unresolved lines.\n",
      "Adding line - C IV 1551 [1550.772000 A]: : 100%|██████████| 124/124 [00:00<00:00, 3261.18it/s]\n",
      "yt : [INFO     ] 2019-05-21 14:46:45,166 124 out of 124 line components will be deposited as unresolved lines.\n",
      "Adding line - C IV 1548 [1548.187000 A]: : 100%|██████████| 124/124 [00:00<00:00, 3770.93it/s]\n",
      "yt : [INFO     ] 2019-05-21 14:46:45,206 Not adding continuum Ly C: insufficient column density or out of range\n",
      "yt : [INFO     ] 2019-05-21 14:46:45,207 Writing spectrum to hdf5 file: .temp.h5.\n",
      "yt : [INFO     ] 2019-05-21 14:46:46,818 Parameters: current_time              = 0.0060000200028298 code_time\n",
      "yt : [INFO     ] 2019-05-21 14:46:46,820 Parameters: domain_dimensions         = [2 2 2]\n",
      "yt : [INFO     ] 2019-05-21 14:46:46,824 Parameters: domain_left_edge          = [0. 0. 0.] code_length\n",
      "yt : [INFO     ] 2019-05-21 14:46:46,826 Parameters: domain_right_edge         = [1. 1. 1.] code_length\n",
      "yt : [INFO     ] 2019-05-21 14:46:46,827 Parameters: cosmological_simulation   = 0.0\n",
      "yt : [INFO     ] 2019-05-21 14:46:47,096 Setting instrument to Custom\n",
      "yt : [INFO     ] 2019-05-21 14:46:47,140 Allocating for 1.910e+02 particles (index particle type 'all')\n",
      "yt : [INFO     ] 2019-05-21 14:46:47,146 Identified 1.370e+02 octs\n",
      "yt : [INFO     ] 2019-05-21 14:46:47,456 Creating O_p5_number_density from ray's density, temperature, metallicity.\n",
      "yt : [INFO     ] 2019-05-21 14:46:47,482 Creating C_p3_number_density from ray's density, temperature, metallicity.\n",
      "yt : [INFO     ] 2019-05-21 14:46:47,491 Creating spectrum\n",
      "yt : [INFO     ] 2019-05-21 14:46:47,533 191 out of 191 line components will be deposited as unresolved lines.\n",
      "Adding line - O VI 1038 [1037.613000 A]: : 100%|██████████| 191/191 [00:00<00:00, 3443.42it/s]\n",
      "yt : [INFO     ] 2019-05-21 14:46:47,595 191 out of 191 line components will be deposited as unresolved lines.\n",
      "Adding line - O VI 1032 [1031.912000 A]: : 100%|██████████| 191/191 [00:00<00:00, 3529.33it/s]\n",
      "yt : [INFO     ] 2019-05-21 14:46:47,660 191 out of 191 line components will be deposited as unresolved lines.\n",
      "Adding line - Ly a [1215.670000 A]: : 100%|██████████| 191/191 [00:00<00:00, 2042.12it/s]\n",
      "yt : [INFO     ] 2019-05-21 14:46:47,760 191 out of 191 line components will be deposited as unresolved lines.\n",
      "Adding line - Ly b [1025.722200 A]: : 100%|██████████| 191/191 [00:00<00:00, 2467.44it/s]\n",
      "yt : [INFO     ] 2019-05-21 14:46:47,844 191 out of 191 line components will be deposited as unresolved lines.\n"
     ]
    },
    {
     "name": "stderr",
     "output_type": "stream",
     "text": [
      "Adding line - Ly c [972.536740 A]: : 100%|██████████| 191/191 [00:00<00:00, 2479.59it/s]\n",
      "yt : [INFO     ] 2019-05-21 14:46:47,928 191 out of 191 line components will be deposited as unresolved lines.\n",
      "Adding line - Ly d [949.742980 A]: : 100%|██████████| 191/191 [00:00<00:00, 2791.51it/s]\n",
      "yt : [INFO     ] 2019-05-21 14:46:48,003 191 out of 191 line components will be deposited as unresolved lines.\n",
      "Adding line - Ly e [937.803400 A]: : 100%|██████████| 191/191 [00:00<00:00, 3091.31it/s]\n",
      "yt : [INFO     ] 2019-05-21 14:46:48,070 191 out of 191 line components will be deposited as unresolved lines.\n",
      "Adding line - Ly 6 [930.748200 A]: : 100%|██████████| 191/191 [00:00<00:00, 3048.53it/s]\n",
      "yt : [INFO     ] 2019-05-21 14:46:48,139 191 out of 191 line components will be deposited as unresolved lines.\n",
      "Adding line - Ly 7 [926.225640 A]: : 100%|██████████| 191/191 [00:00<00:00, 3129.71it/s]\n",
      "yt : [INFO     ] 2019-05-21 14:46:48,206 191 out of 191 line components will be deposited as unresolved lines.\n",
      "Adding line - Ly 8 [923.150300 A]: : 100%|██████████| 191/191 [00:00<00:00, 2973.31it/s]\n",
      "yt : [INFO     ] 2019-05-21 14:46:48,276 191 out of 191 line components will be deposited as unresolved lines.\n",
      "Adding line - Ly 9 [920.963026 A]: : 100%|██████████| 191/191 [00:00<00:00, 3661.17it/s]\n",
      "yt : [INFO     ] 2019-05-21 14:46:48,335 191 out of 191 line components will be deposited as unresolved lines.\n",
      "Adding line - Ly 10 [919.351351 A]: : 100%|██████████| 191/191 [00:00<00:00, 3711.69it/s]\n",
      "yt : [INFO     ] 2019-05-21 14:46:48,393 191 out of 191 line components will be deposited as unresolved lines.\n",
      "Adding line - Ly 11 [918.129312 A]: : 100%|██████████| 191/191 [00:00<00:00, 3416.94it/s]\n",
      "yt : [INFO     ] 2019-05-21 14:46:48,455 191 out of 191 line components will be deposited as unresolved lines.\n",
      "Adding line - Ly 12 [917.180525 A]: : 100%|██████████| 191/191 [00:00<00:00, 3815.95it/s]\n",
      "yt : [INFO     ] 2019-05-21 14:46:48,512 191 out of 191 line components will be deposited as unresolved lines.\n",
      "Adding line - Ly 13 [916.429085 A]: : 100%|██████████| 191/191 [00:00<00:00, 3438.96it/s]\n",
      "yt : [INFO     ] 2019-05-21 14:46:48,573 191 out of 191 line components will be deposited as unresolved lines.\n",
      "Adding line - Ly 14 [915.823759 A]: : 100%|██████████| 191/191 [00:00<00:00, 3664.77it/s]\n",
      "yt : [INFO     ] 2019-05-21 14:46:48,631 191 out of 191 line components will be deposited as unresolved lines.\n",
      "Adding line - Ly 15 [915.328939 A]: : 100%|██████████| 191/191 [00:00<00:00, 3839.28it/s]\n",
      "yt : [INFO     ] 2019-05-21 14:46:48,687 191 out of 191 line components will be deposited as unresolved lines.\n",
      "Adding line - Ly 16 [914.919249 A]: : 100%|██████████| 191/191 [00:00<00:00, 3647.60it/s]\n",
      "yt : [INFO     ] 2019-05-21 14:46:48,746 191 out of 191 line components will be deposited as unresolved lines.\n",
      "Adding line - Ly 17 [914.576207 A]: : 100%|██████████| 191/191 [00:00<00:00, 4008.07it/s]\n",
      "yt : [INFO     ] 2019-05-21 14:46:48,800 191 out of 191 line components will be deposited as unresolved lines.\n",
      "Adding line - Ly 18 [914.286092 A]: : 100%|██████████| 191/191 [00:00<00:00, 4088.98it/s]\n",
      "yt : [INFO     ] 2019-05-21 14:46:48,853 191 out of 191 line components will be deposited as unresolved lines.\n",
      "Adding line - Ly 19 [914.038542 A]: : 100%|██████████| 191/191 [00:00<00:00, 3513.09it/s]\n",
      "yt : [INFO     ] 2019-05-21 14:46:48,913 191 out of 191 line components will be deposited as unresolved lines.\n",
      "Adding line - Ly 20 [913.825614 A]: : 100%|██████████| 191/191 [00:00<00:00, 3749.95it/s]\n",
      "yt : [INFO     ] 2019-05-21 14:46:48,971 191 out of 191 line components will be deposited as unresolved lines.\n",
      "Adding line - Ly 21 [913.641137 A]: : 100%|██████████| 191/191 [00:00<00:00, 4068.09it/s]\n",
      "yt : [INFO     ] 2019-05-21 14:46:49,023 191 out of 191 line components will be deposited as unresolved lines.\n",
      "Adding line - Ly 22 [913.480256 A]: : 100%|██████████| 191/191 [00:00<00:00, 3477.21it/s]\n",
      "yt : [INFO     ] 2019-05-21 14:46:49,085 191 out of 191 line components will be deposited as unresolved lines.\n",
      "Adding line - Ly 23 [913.339110 A]: : 100%|██████████| 191/191 [00:00<00:00, 3780.61it/s]\n",
      "yt : [INFO     ] 2019-05-21 14:46:49,141 191 out of 191 line components will be deposited as unresolved lines.\n",
      "Adding line - Ly 24 [913.214596 A]: : 100%|██████████| 191/191 [00:00<00:00, 3834.19it/s]\n",
      "yt : [INFO     ] 2019-05-21 14:46:49,198 191 out of 191 line components will be deposited as unresolved lines.\n",
      "Adding line - Ly 25 [913.104199 A]: : 100%|██████████| 191/191 [00:00<00:00, 4120.29it/s]\n",
      "yt : [INFO     ] 2019-05-21 14:46:49,251 191 out of 191 line components will be deposited as unresolved lines.\n",
      "Adding line - Ly 26 [913.005863 A]: : 100%|██████████| 191/191 [00:00<00:00, 3910.65it/s]\n",
      "yt : [INFO     ] 2019-05-21 14:46:49,308 191 out of 191 line components will be deposited as unresolved lines.\n",
      "Adding line - Ly 27 [912.917891 A]: : 100%|██████████| 191/191 [00:00<00:00, 4034.04it/s]\n",
      "yt : [INFO     ] 2019-05-21 14:46:49,368 191 out of 191 line components will be deposited as unresolved lines.\n",
      "Adding line - Ly 28 [912.838877 A]: : 100%|██████████| 191/191 [00:00<00:00, 4137.25it/s]\n",
      "yt : [INFO     ] 2019-05-21 14:46:49,420 191 out of 191 line components will be deposited as unresolved lines.\n",
      "Adding line - Ly 29 [912.767643 A]: : 100%|██████████| 191/191 [00:00<00:00, 4021.81it/s]\n",
      "yt : [INFO     ] 2019-05-21 14:46:49,474 191 out of 191 line components will be deposited as unresolved lines.\n",
      "Adding line - Ly 30 [912.703200 A]: : 100%|██████████| 191/191 [00:00<00:00, 3995.49it/s]\n",
      "yt : [INFO     ] 2019-05-21 14:46:49,528 191 out of 191 line components will be deposited as unresolved lines.\n",
      "Adding line - Ly 31 [912.644712 A]: : 100%|██████████| 191/191 [00:00<00:00, 3908.02it/s]\n",
      "yt : [INFO     ] 2019-05-21 14:46:49,583 191 out of 191 line components will be deposited as unresolved lines.\n",
      "Adding line - Ly 32 [912.591467 A]: : 100%|██████████| 191/191 [00:00<00:00, 3706.72it/s]\n",
      "yt : [INFO     ] 2019-05-21 14:46:49,640 191 out of 191 line components will be deposited as unresolved lines.\n",
      "Adding line - Ly 33 [912.542856 A]: : 100%|██████████| 191/191 [00:00<00:00, 3721.69it/s]\n",
      "yt : [INFO     ] 2019-05-21 14:46:49,697 191 out of 191 line components will be deposited as unresolved lines.\n",
      "Adding line - Ly 34 [912.498356 A]: : 100%|██████████| 191/191 [00:00<00:00, 4056.41it/s]\n",
      "yt : [INFO     ] 2019-05-21 14:46:49,750 191 out of 191 line components will be deposited as unresolved lines.\n",
      "Adding line - Ly 35 [912.457516 A]: : 100%|██████████| 191/191 [00:00<00:00, 4066.17it/s]\n",
      "yt : [INFO     ] 2019-05-21 14:46:49,803 191 out of 191 line components will be deposited as unresolved lines.\n",
      "Adding line - Ly 36 [912.419946 A]: : 100%|██████████| 191/191 [00:00<00:00, 3810.94it/s]\n",
      "yt : [INFO     ] 2019-05-21 14:46:49,860 191 out of 191 line components will be deposited as unresolved lines.\n",
      "Adding line - Ly 37 [912.385306 A]: : 100%|██████████| 191/191 [00:00<00:00, 4071.89it/s]\n",
      "yt : [INFO     ] 2019-05-21 14:46:49,913 191 out of 191 line components will be deposited as unresolved lines.\n",
      "Adding line - Ly 38 [912.353298 A]: : 100%|██████████| 191/191 [00:00<00:00, 3869.13it/s]\n",
      "yt : [INFO     ] 2019-05-21 14:46:49,969 191 out of 191 line components will be deposited as unresolved lines.\n",
      "Adding line - Ly 39 [912.323663 A]: : 100%|██████████| 191/191 [00:00<00:00, 4026.48it/s]\n",
      "yt : [INFO     ] 2019-05-21 14:46:50,036 191 out of 191 line components will be deposited as unresolved lines.\n",
      "Adding line - C IV 1551 [1550.772000 A]: : 100%|██████████| 191/191 [00:00<00:00, 3206.80it/s]\n",
      "yt : [INFO     ] 2019-05-21 14:46:50,101 191 out of 191 line components will be deposited as unresolved lines.\n",
      "Adding line - C IV 1548 [1548.187000 A]: : 100%|██████████| 191/191 [00:00<00:00, 3674.35it/s]\n",
      "yt : [INFO     ] 2019-05-21 14:46:50,158 Not adding continuum Ly C: insufficient column density or out of range\n",
      "yt : [INFO     ] 2019-05-21 14:46:50,160 Writing spectrum to hdf5 file: .temp.h5.\n",
      "yt : [INFO     ] 2019-05-21 14:46:51,693 Parameters: current_time              = 0.0060000200028298 code_time\n",
      "yt : [INFO     ] 2019-05-21 14:46:51,695 Parameters: domain_dimensions         = [2 2 2]\n",
      "yt : [INFO     ] 2019-05-21 14:46:51,696 Parameters: domain_left_edge          = [0. 0. 0.] code_length\n"
     ]
    },
    {
     "name": "stderr",
     "output_type": "stream",
     "text": [
      "yt : [INFO     ] 2019-05-21 14:46:51,698 Parameters: domain_right_edge         = [1. 1. 1.] code_length\n",
      "yt : [INFO     ] 2019-05-21 14:46:51,700 Parameters: cosmological_simulation   = 0.0\n",
      "yt : [INFO     ] 2019-05-21 14:46:51,905 Setting instrument to Custom\n",
      "yt : [INFO     ] 2019-05-21 14:46:51,949 Allocating for 3.080e+02 particles (index particle type 'all')\n",
      "yt : [INFO     ] 2019-05-21 14:46:51,953 Identified 1.930e+02 octs\n",
      "yt : [INFO     ] 2019-05-21 14:46:52,280 Creating O_p5_number_density from ray's density, temperature, metallicity.\n",
      "yt : [INFO     ] 2019-05-21 14:46:52,303 Creating C_p3_number_density from ray's density, temperature, metallicity.\n",
      "yt : [INFO     ] 2019-05-21 14:46:52,312 Creating spectrum\n",
      "yt : [INFO     ] 2019-05-21 14:46:52,355 308 out of 308 line components will be deposited as unresolved lines.\n",
      "Adding line - O VI 1038 [1037.613000 A]: : 100%|██████████| 308/308 [00:00<00:00, 3487.80it/s]\n",
      "yt : [INFO     ] 2019-05-21 14:46:52,450 308 out of 308 line components will be deposited as unresolved lines.\n",
      "Adding line - O VI 1032 [1031.912000 A]: : 100%|██████████| 308/308 [00:00<00:00, 3444.81it/s]\n",
      "yt : [INFO     ] 2019-05-21 14:46:52,550 308 out of 308 line components will be deposited as unresolved lines.\n",
      "Adding line - Ly a [1215.670000 A]: : 100%|██████████| 308/308 [00:00<00:00, 1431.03it/s]\n",
      "yt : [INFO     ] 2019-05-21 14:46:52,772 308 out of 308 line components will be deposited as unresolved lines.\n",
      "Adding line - Ly b [1025.722200 A]: : 100%|██████████| 308/308 [00:00<00:00, 1670.12it/s]\n",
      "yt : [INFO     ] 2019-05-21 14:46:52,962 308 out of 308 line components will be deposited as unresolved lines.\n",
      "Adding line - Ly c [972.536740 A]: : 100%|██████████| 308/308 [00:00<00:00, 1839.76it/s]\n",
      "yt : [INFO     ] 2019-05-21 14:46:53,135 308 out of 308 line components will be deposited as unresolved lines.\n",
      "Adding line - Ly d [949.742980 A]: : 100%|██████████| 308/308 [00:00<00:00, 2050.49it/s]\n",
      "yt : [INFO     ] 2019-05-21 14:46:53,291 308 out of 308 line components will be deposited as unresolved lines.\n",
      "Adding line - Ly e [937.803400 A]: : 100%|██████████| 308/308 [00:00<00:00, 1972.71it/s]\n",
      "yt : [INFO     ] 2019-05-21 14:46:53,453 308 out of 308 line components will be deposited as unresolved lines.\n",
      "Adding line - Ly 6 [930.748200 A]: : 100%|██████████| 308/308 [00:00<00:00, 2273.18it/s]\n",
      "yt : [INFO     ] 2019-05-21 14:46:53,595 308 out of 308 line components will be deposited as unresolved lines.\n",
      "Adding line - Ly 7 [926.225640 A]: : 100%|██████████| 308/308 [00:00<00:00, 1940.19it/s]\n",
      "yt : [INFO     ] 2019-05-21 14:46:53,760 308 out of 308 line components will be deposited as unresolved lines.\n",
      "Adding line - Ly 8 [923.150300 A]: : 100%|██████████| 308/308 [00:00<00:00, 2156.54it/s]\n",
      "yt : [INFO     ] 2019-05-21 14:46:53,911 308 out of 308 line components will be deposited as unresolved lines.\n",
      "Adding line - Ly 9 [920.963026 A]: : 100%|██████████| 308/308 [00:00<00:00, 2379.83it/s]\n",
      "yt : [INFO     ] 2019-05-21 14:46:54,051 308 out of 308 line components will be deposited as unresolved lines.\n",
      "Adding line - Ly 10 [919.351351 A]: : 100%|██████████| 308/308 [00:00<00:00, 2392.36it/s]\n",
      "yt : [INFO     ] 2019-05-21 14:46:54,189 308 out of 308 line components will be deposited as unresolved lines.\n",
      "Adding line - Ly 11 [918.129312 A]: : 100%|██████████| 308/308 [00:00<00:00, 2716.91it/s]\n",
      "yt : [INFO     ] 2019-05-21 14:46:54,308 308 out of 308 line components will be deposited as unresolved lines.\n",
      "Adding line - Ly 12 [917.180525 A]: : 100%|██████████| 308/308 [00:00<00:00, 2836.80it/s]\n",
      "yt : [INFO     ] 2019-05-21 14:46:54,423 308 out of 308 line components will be deposited as unresolved lines.\n",
      "Adding line - Ly 13 [916.429085 A]: : 100%|██████████| 308/308 [00:00<00:00, 2944.22it/s]\n",
      "yt : [INFO     ] 2019-05-21 14:46:54,533 308 out of 308 line components will be deposited as unresolved lines.\n",
      "Adding line - Ly 14 [915.823759 A]: : 100%|██████████| 308/308 [00:00<00:00, 3096.94it/s]\n",
      "yt : [INFO     ] 2019-05-21 14:46:54,638 308 out of 308 line components will be deposited as unresolved lines.\n",
      "Adding line - Ly 15 [915.328939 A]: : 100%|██████████| 308/308 [00:00<00:00, 3308.12it/s]\n",
      "yt : [INFO     ] 2019-05-21 14:46:54,737 308 out of 308 line components will be deposited as unresolved lines.\n",
      "Adding line - Ly 16 [914.919249 A]: : 100%|██████████| 308/308 [00:00<00:00, 3169.12it/s]\n",
      "yt : [INFO     ] 2019-05-21 14:46:54,840 308 out of 308 line components will be deposited as unresolved lines.\n",
      "Adding line - Ly 17 [914.576207 A]: : 100%|██████████| 308/308 [00:00<00:00, 3133.84it/s]\n",
      "yt : [INFO     ] 2019-05-21 14:46:54,944 308 out of 308 line components will be deposited as unresolved lines.\n",
      "Adding line - Ly 18 [914.286092 A]: : 100%|██████████| 308/308 [00:00<00:00, 3109.35it/s]\n",
      "yt : [INFO     ] 2019-05-21 14:46:55,050 308 out of 308 line components will be deposited as unresolved lines.\n",
      "Adding line - Ly 19 [914.038542 A]: : 100%|██████████| 308/308 [00:00<00:00, 2934.43it/s]\n",
      "yt : [INFO     ] 2019-05-21 14:46:55,162 308 out of 308 line components will be deposited as unresolved lines.\n",
      "Adding line - Ly 20 [913.825614 A]: : 100%|██████████| 308/308 [00:00<00:00, 3156.70it/s]\n",
      "yt : [INFO     ] 2019-05-21 14:46:55,265 308 out of 308 line components will be deposited as unresolved lines.\n",
      "Adding line - Ly 21 [913.641137 A]: : 100%|██████████| 308/308 [00:00<00:00, 3225.16it/s]\n",
      "yt : [INFO     ] 2019-05-21 14:46:55,367 308 out of 308 line components will be deposited as unresolved lines.\n",
      "Adding line - Ly 22 [913.480256 A]: : 100%|██████████| 308/308 [00:00<00:00, 3376.68it/s]\n",
      "yt : [INFO     ] 2019-05-21 14:46:55,465 308 out of 308 line components will be deposited as unresolved lines.\n",
      "Adding line - Ly 23 [913.339110 A]: : 100%|██████████| 308/308 [00:00<00:00, 3531.22it/s]\n",
      "yt : [INFO     ] 2019-05-21 14:46:55,558 308 out of 308 line components will be deposited as unresolved lines.\n",
      "Adding line - Ly 24 [913.214596 A]: : 100%|██████████| 308/308 [00:00<00:00, 3626.95it/s]\n",
      "yt : [INFO     ] 2019-05-21 14:46:55,649 308 out of 308 line components will be deposited as unresolved lines.\n",
      "Adding line - Ly 25 [913.104199 A]: : 100%|██████████| 308/308 [00:00<00:00, 3766.39it/s]\n",
      "yt : [INFO     ] 2019-05-21 14:46:55,737 308 out of 308 line components will be deposited as unresolved lines.\n",
      "Adding line - Ly 26 [913.005863 A]: : 100%|██████████| 308/308 [00:00<00:00, 3792.26it/s]\n",
      "yt : [INFO     ] 2019-05-21 14:46:55,825 308 out of 308 line components will be deposited as unresolved lines.\n",
      "Adding line - Ly 27 [912.917891 A]: : 100%|██████████| 308/308 [00:00<00:00, 3399.04it/s]\n",
      "yt : [INFO     ] 2019-05-21 14:46:55,922 308 out of 308 line components will be deposited as unresolved lines.\n",
      "Adding line - Ly 28 [912.838877 A]: : 100%|██████████| 308/308 [00:00<00:00, 3245.21it/s]\n",
      "yt : [INFO     ] 2019-05-21 14:46:56,023 308 out of 308 line components will be deposited as unresolved lines.\n",
      "Adding line - Ly 29 [912.767643 A]: : 100%|██████████| 308/308 [00:00<00:00, 3145.39it/s]\n",
      "yt : [INFO     ] 2019-05-21 14:46:56,128 308 out of 308 line components will be deposited as unresolved lines.\n",
      "Adding line - Ly 30 [912.703200 A]: : 100%|██████████| 308/308 [00:00<00:00, 3651.58it/s]\n",
      "yt : [INFO     ] 2019-05-21 14:46:56,219 308 out of 308 line components will be deposited as unresolved lines.\n",
      "Adding line - Ly 31 [912.644712 A]: : 100%|██████████| 308/308 [00:00<00:00, 3707.14it/s]\n",
      "yt : [INFO     ] 2019-05-21 14:46:56,308 308 out of 308 line components will be deposited as unresolved lines.\n",
      "Adding line - Ly 32 [912.591467 A]: : 100%|██████████| 308/308 [00:00<00:00, 3798.06it/s]\n",
      "yt : [INFO     ] 2019-05-21 14:46:56,395 308 out of 308 line components will be deposited as unresolved lines.\n",
      "Adding line - Ly 33 [912.542856 A]: : 100%|██████████| 308/308 [00:00<00:00, 3709.50it/s]\n",
      "yt : [INFO     ] 2019-05-21 14:46:56,484 308 out of 308 line components will be deposited as unresolved lines.\n",
      "Adding line - Ly 34 [912.498356 A]: : 100%|██████████| 308/308 [00:00<00:00, 3772.79it/s]\n",
      "yt : [INFO     ] 2019-05-21 14:46:56,572 308 out of 308 line components will be deposited as unresolved lines.\n",
      "Adding line - Ly 35 [912.457516 A]: : 100%|██████████| 308/308 [00:00<00:00, 3758.12it/s]\n",
      "yt : [INFO     ] 2019-05-21 14:46:56,661 308 out of 308 line components will be deposited as unresolved lines.\n"
     ]
    },
    {
     "name": "stderr",
     "output_type": "stream",
     "text": [
      "Adding line - Ly 36 [912.419946 A]: : 100%|██████████| 308/308 [00:00<00:00, 3801.11it/s]\n",
      "yt : [INFO     ] 2019-05-21 14:46:56,748 308 out of 308 line components will be deposited as unresolved lines.\n",
      "Adding line - Ly 37 [912.385306 A]: : 100%|██████████| 308/308 [00:00<00:00, 3940.43it/s]\n",
      "yt : [INFO     ] 2019-05-21 14:46:56,832 308 out of 308 line components will be deposited as unresolved lines.\n",
      "Adding line - Ly 38 [912.353298 A]: : 100%|██████████| 308/308 [00:00<00:00, 3582.02it/s]\n",
      "yt : [INFO     ] 2019-05-21 14:46:56,924 308 out of 308 line components will be deposited as unresolved lines.\n",
      "Adding line - Ly 39 [912.323663 A]: : 100%|██████████| 308/308 [00:00<00:00, 3970.91it/s]\n",
      "yt : [INFO     ] 2019-05-21 14:46:57,021 308 out of 308 line components will be deposited as unresolved lines.\n",
      "Adding line - C IV 1551 [1550.772000 A]: : 100%|██████████| 308/308 [00:00<00:00, 3394.23it/s]\n",
      "yt : [INFO     ] 2019-05-21 14:46:57,118 308 out of 308 line components will be deposited as unresolved lines.\n",
      "Adding line - C IV 1548 [1548.187000 A]: : 100%|██████████| 308/308 [00:00<00:00, 3299.62it/s]\n",
      "yt : [INFO     ] 2019-05-21 14:46:57,217 Not adding continuum Ly C: insufficient column density or out of range\n",
      "yt : [INFO     ] 2019-05-21 14:46:57,219 Writing spectrum to hdf5 file: .temp.h5.\n",
      "yt : [INFO     ] 2019-05-21 14:46:58,638 Parameters: current_time              = 0.0060000200028298 code_time\n",
      "yt : [INFO     ] 2019-05-21 14:46:58,639 Parameters: domain_dimensions         = [2 2 2]\n",
      "yt : [INFO     ] 2019-05-21 14:46:58,641 Parameters: domain_left_edge          = [0. 0. 0.] code_length\n",
      "yt : [INFO     ] 2019-05-21 14:46:58,643 Parameters: domain_right_edge         = [1. 1. 1.] code_length\n",
      "yt : [INFO     ] 2019-05-21 14:46:58,645 Parameters: cosmological_simulation   = 0.0\n",
      "yt : [INFO     ] 2019-05-21 14:46:58,844 Setting instrument to Custom\n",
      "yt : [INFO     ] 2019-05-21 14:46:58,884 Allocating for 2.990e+02 particles (index particle type 'all')\n",
      "yt : [INFO     ] 2019-05-21 14:46:58,889 Identified 2.010e+02 octs\n",
      "yt : [INFO     ] 2019-05-21 14:46:59,236 Creating O_p5_number_density from ray's density, temperature, metallicity.\n",
      "yt : [INFO     ] 2019-05-21 14:46:59,262 Creating C_p3_number_density from ray's density, temperature, metallicity.\n",
      "yt : [INFO     ] 2019-05-21 14:46:59,271 Creating spectrum\n",
      "yt : [INFO     ] 2019-05-21 14:46:59,314 299 out of 299 line components will be deposited as unresolved lines.\n",
      "Adding line - O VI 1038 [1037.613000 A]: : 100%|██████████| 299/299 [00:00<00:00, 3665.43it/s]\n",
      "yt : [INFO     ] 2019-05-21 14:46:59,404 299 out of 299 line components will be deposited as unresolved lines.\n",
      "Adding line - O VI 1032 [1031.912000 A]: : 100%|██████████| 299/299 [00:00<00:00, 3689.90it/s]\n",
      "yt : [INFO     ] 2019-05-21 14:46:59,494 299 out of 299 line components will be deposited as unresolved lines.\n",
      "Adding line - Ly a [1215.670000 A]: : 100%|██████████| 299/299 [00:00<00:00, 1591.71it/s]\n",
      "yt : [INFO     ] 2019-05-21 14:46:59,688 299 out of 299 line components will be deposited as unresolved lines.\n",
      "Adding line - Ly b [1025.722200 A]: : 100%|██████████| 299/299 [00:00<00:00, 1977.48it/s]\n",
      "yt : [INFO     ] 2019-05-21 14:46:59,845 299 out of 299 line components will be deposited as unresolved lines.\n",
      "Adding line - Ly c [972.536740 A]: : 100%|██████████| 299/299 [00:00<00:00, 2164.09it/s]\n",
      "yt : [INFO     ] 2019-05-21 14:46:59,990 299 out of 299 line components will be deposited as unresolved lines.\n",
      "Adding line - Ly d [949.742980 A]: : 100%|██████████| 299/299 [00:00<00:00, 2183.64it/s]\n",
      "yt : [INFO     ] 2019-05-21 14:47:00,133 299 out of 299 line components will be deposited as unresolved lines.\n",
      "Adding line - Ly e [937.803400 A]: : 100%|██████████| 299/299 [00:00<00:00, 2463.60it/s]\n",
      "yt : [INFO     ] 2019-05-21 14:47:00,260 299 out of 299 line components will be deposited as unresolved lines.\n",
      "Adding line - Ly 6 [930.748200 A]: : 100%|██████████| 299/299 [00:00<00:00, 2546.50it/s]\n",
      "yt : [INFO     ] 2019-05-21 14:47:00,382 299 out of 299 line components will be deposited as unresolved lines.\n",
      "Adding line - Ly 7 [926.225640 A]: : 100%|██████████| 299/299 [00:00<00:00, 2693.31it/s]\n",
      "yt : [INFO     ] 2019-05-21 14:47:00,502 299 out of 299 line components will be deposited as unresolved lines.\n",
      "Adding line - Ly 8 [923.150300 A]: : 100%|██████████| 299/299 [00:00<00:00, 2794.00it/s]\n",
      "yt : [INFO     ] 2019-05-21 14:47:00,615 299 out of 299 line components will be deposited as unresolved lines.\n",
      "Adding line - Ly 9 [920.963026 A]: : 100%|██████████| 299/299 [00:00<00:00, 2684.41it/s]\n",
      "yt : [INFO     ] 2019-05-21 14:47:00,732 299 out of 299 line components will be deposited as unresolved lines.\n",
      "Adding line - Ly 10 [919.351351 A]: : 100%|██████████| 299/299 [00:00<00:00, 2860.89it/s]\n",
      "yt : [INFO     ] 2019-05-21 14:47:00,843 299 out of 299 line components will be deposited as unresolved lines.\n",
      "Adding line - Ly 11 [918.129312 A]: : 100%|██████████| 299/299 [00:00<00:00, 3079.96it/s]\n",
      "yt : [INFO     ] 2019-05-21 14:47:00,946 299 out of 299 line components will be deposited as unresolved lines.\n",
      "Adding line - Ly 12 [917.180525 A]: : 100%|██████████| 299/299 [00:00<00:00, 2704.54it/s]\n",
      "yt : [INFO     ] 2019-05-21 14:47:01,064 299 out of 299 line components will be deposited as unresolved lines.\n",
      "Adding line - Ly 13 [916.429085 A]: : 100%|██████████| 299/299 [00:00<00:00, 2816.93it/s]\n",
      "yt : [INFO     ] 2019-05-21 14:47:01,177 299 out of 299 line components will be deposited as unresolved lines.\n",
      "Adding line - Ly 14 [915.823759 A]: : 100%|██████████| 299/299 [00:00<00:00, 2921.80it/s]\n",
      "yt : [INFO     ] 2019-05-21 14:47:01,286 299 out of 299 line components will be deposited as unresolved lines.\n",
      "Adding line - Ly 15 [915.328939 A]: : 100%|██████████| 299/299 [00:00<00:00, 2984.15it/s]\n",
      "yt : [INFO     ] 2019-05-21 14:47:01,392 299 out of 299 line components will be deposited as unresolved lines.\n",
      "Adding line - Ly 16 [914.919249 A]: : 100%|██████████| 299/299 [00:00<00:00, 3037.05it/s]\n",
      "yt : [INFO     ] 2019-05-21 14:47:01,499 299 out of 299 line components will be deposited as unresolved lines.\n",
      "Adding line - Ly 17 [914.576207 A]: : 100%|██████████| 299/299 [00:00<00:00, 2742.47it/s]\n",
      "yt : [INFO     ] 2019-05-21 14:47:01,616 299 out of 299 line components will be deposited as unresolved lines.\n",
      "Adding line - Ly 18 [914.286092 A]: : 100%|██████████| 299/299 [00:00<00:00, 2564.10it/s]\n",
      "yt : [INFO     ] 2019-05-21 14:47:01,738 299 out of 299 line components will be deposited as unresolved lines.\n",
      "Adding line - Ly 19 [914.038542 A]: : 100%|██████████| 299/299 [00:00<00:00, 2487.50it/s]\n",
      "yt : [INFO     ] 2019-05-21 14:47:01,865 299 out of 299 line components will be deposited as unresolved lines.\n",
      "Adding line - Ly 20 [913.825614 A]: : 100%|██████████| 299/299 [00:00<00:00, 2570.87it/s]\n",
      "yt : [INFO     ] 2019-05-21 14:47:01,987 299 out of 299 line components will be deposited as unresolved lines.\n",
      "Adding line - Ly 21 [913.641137 A]: : 100%|██████████| 299/299 [00:00<00:00, 2866.13it/s]\n",
      "yt : [INFO     ] 2019-05-21 14:47:02,097 299 out of 299 line components will be deposited as unresolved lines.\n",
      "Adding line - Ly 22 [913.480256 A]: : 100%|██████████| 299/299 [00:00<00:00, 2744.02it/s]\n",
      "yt : [INFO     ] 2019-05-21 14:47:02,213 299 out of 299 line components will be deposited as unresolved lines.\n",
      "Adding line - Ly 23 [913.339110 A]: : 100%|██████████| 299/299 [00:00<00:00, 2671.17it/s]\n",
      "yt : [INFO     ] 2019-05-21 14:47:02,333 299 out of 299 line components will be deposited as unresolved lines.\n",
      "Adding line - Ly 24 [913.214596 A]: : 100%|██████████| 299/299 [00:00<00:00, 2523.21it/s]\n",
      "yt : [INFO     ] 2019-05-21 14:47:02,457 299 out of 299 line components will be deposited as unresolved lines.\n",
      "Adding line - Ly 25 [913.104199 A]: : 100%|██████████| 299/299 [00:00<00:00, 2637.01it/s]\n",
      "yt : [INFO     ] 2019-05-21 14:47:02,581 299 out of 299 line components will be deposited as unresolved lines.\n",
      "Adding line - Ly 26 [913.005863 A]: : 100%|██████████| 299/299 [00:00<00:00, 2815.49it/s]\n",
      "yt : [INFO     ] 2019-05-21 14:47:02,693 299 out of 299 line components will be deposited as unresolved lines.\n",
      "Adding line - Ly 27 [912.917891 A]: : 100%|██████████| 299/299 [00:00<00:00, 2709.39it/s]\n",
      "yt : [INFO     ] 2019-05-21 14:47:02,811 299 out of 299 line components will be deposited as unresolved lines.\n"
     ]
    },
    {
     "name": "stderr",
     "output_type": "stream",
     "text": [
      "Adding line - Ly 28 [912.838877 A]: : 100%|██████████| 299/299 [00:00<00:00, 3052.92it/s]\n",
      "yt : [INFO     ] 2019-05-21 14:47:02,915 299 out of 299 line components will be deposited as unresolved lines.\n",
      "Adding line - Ly 29 [912.767643 A]: : 100%|██████████| 299/299 [00:00<00:00, 3292.41it/s]\n",
      "yt : [INFO     ] 2019-05-21 14:47:03,012 299 out of 299 line components will be deposited as unresolved lines.\n",
      "Adding line - Ly 30 [912.703200 A]: : 100%|██████████| 299/299 [00:00<00:00, 2872.38it/s]\n",
      "yt : [INFO     ] 2019-05-21 14:47:03,122 299 out of 299 line components will be deposited as unresolved lines.\n",
      "Adding line - Ly 31 [912.644712 A]: : 100%|██████████| 299/299 [00:00<00:00, 2800.99it/s]\n",
      "yt : [INFO     ] 2019-05-21 14:47:03,235 299 out of 299 line components will be deposited as unresolved lines.\n",
      "Adding line - Ly 32 [912.591467 A]: : 100%|██████████| 299/299 [00:00<00:00, 2820.57it/s]\n",
      "yt : [INFO     ] 2019-05-21 14:47:03,350 299 out of 299 line components will be deposited as unresolved lines.\n",
      "Adding line - Ly 33 [912.542856 A]: : 100%|██████████| 299/299 [00:00<00:00, 3627.84it/s]\n",
      "yt : [INFO     ] 2019-05-21 14:47:03,438 299 out of 299 line components will be deposited as unresolved lines.\n",
      "Adding line - Ly 34 [912.498356 A]: : 100%|██████████| 299/299 [00:00<00:00, 3661.38it/s]\n",
      "yt : [INFO     ] 2019-05-21 14:47:03,526 299 out of 299 line components will be deposited as unresolved lines.\n",
      "Adding line - Ly 35 [912.457516 A]: : 100%|██████████| 299/299 [00:00<00:00, 3655.26it/s]\n",
      "yt : [INFO     ] 2019-05-21 14:47:03,615 299 out of 299 line components will be deposited as unresolved lines.\n",
      "Adding line - Ly 36 [912.419946 A]: : 100%|██████████| 299/299 [00:00<00:00, 3946.16it/s]\n",
      "yt : [INFO     ] 2019-05-21 14:47:03,696 299 out of 299 line components will be deposited as unresolved lines.\n",
      "Adding line - Ly 37 [912.385306 A]: : 100%|██████████| 299/299 [00:00<00:00, 4071.57it/s]\n",
      "yt : [INFO     ] 2019-05-21 14:47:03,776 299 out of 299 line components will be deposited as unresolved lines.\n",
      "Adding line - Ly 38 [912.353298 A]: : 100%|██████████| 299/299 [00:00<00:00, 3781.22it/s]\n",
      "yt : [INFO     ] 2019-05-21 14:47:03,861 299 out of 299 line components will be deposited as unresolved lines.\n",
      "Adding line - Ly 39 [912.323663 A]: : 100%|██████████| 299/299 [00:00<00:00, 3815.09it/s]\n",
      "yt : [INFO     ] 2019-05-21 14:47:03,957 299 out of 299 line components will be deposited as unresolved lines.\n",
      "Adding line - C IV 1551 [1550.772000 A]: : 100%|██████████| 299/299 [00:00<00:00, 3601.84it/s]\n",
      "yt : [INFO     ] 2019-05-21 14:47:04,047 299 out of 299 line components will be deposited as unresolved lines.\n",
      "Adding line - C IV 1548 [1548.187000 A]: : 100%|██████████| 299/299 [00:00<00:00, 3277.46it/s]\n",
      "yt : [INFO     ] 2019-05-21 14:47:04,145 Not adding continuum Ly C: insufficient column density or out of range\n",
      "yt : [INFO     ] 2019-05-21 14:47:04,147 Writing spectrum to hdf5 file: .temp.h5.\n",
      "yt : [INFO     ] 2019-05-21 14:47:05,801 Parameters: current_time              = 0.0060000200028298 code_time\n",
      "yt : [INFO     ] 2019-05-21 14:47:05,802 Parameters: domain_dimensions         = [2 2 2]\n",
      "yt : [INFO     ] 2019-05-21 14:47:05,804 Parameters: domain_left_edge          = [0. 0. 0.] code_length\n",
      "yt : [INFO     ] 2019-05-21 14:47:05,806 Parameters: domain_right_edge         = [1. 1. 1.] code_length\n",
      "yt : [INFO     ] 2019-05-21 14:47:05,807 Parameters: cosmological_simulation   = 0.0\n",
      "yt : [INFO     ] 2019-05-21 14:47:06,013 Setting instrument to Custom\n",
      "yt : [INFO     ] 2019-05-21 14:47:06,060 Allocating for 1.900e+02 particles (index particle type 'all')\n",
      "yt : [INFO     ] 2019-05-21 14:47:06,065 Identified 1.370e+02 octs\n",
      "yt : [INFO     ] 2019-05-21 14:47:06,349 Creating O_p5_number_density from ray's density, temperature, metallicity.\n",
      "yt : [INFO     ] 2019-05-21 14:47:06,376 Creating C_p3_number_density from ray's density, temperature, metallicity.\n",
      "yt : [INFO     ] 2019-05-21 14:47:06,385 Creating spectrum\n",
      "yt : [INFO     ] 2019-05-21 14:47:06,422 190 out of 190 line components will be deposited as unresolved lines.\n",
      "Adding line - O VI 1038 [1037.613000 A]: : 100%|██████████| 190/190 [00:00<00:00, 3266.79it/s]\n",
      "yt : [INFO     ] 2019-05-21 14:47:06,486 190 out of 190 line components will be deposited as unresolved lines.\n",
      "Adding line - O VI 1032 [1031.912000 A]: : 100%|██████████| 190/190 [00:00<00:00, 3256.55it/s]\n",
      "yt : [INFO     ] 2019-05-21 14:47:06,555 190 out of 190 line components will be deposited as unresolved lines.\n",
      "Adding line - Ly a [1215.670000 A]: : 100%|██████████| 190/190 [00:00<00:00, 2068.97it/s]\n",
      "yt : [INFO     ] 2019-05-21 14:47:06,653 190 out of 190 line components will be deposited as unresolved lines.\n",
      "Adding line - Ly b [1025.722200 A]: : 100%|██████████| 190/190 [00:00<00:00, 2578.09it/s]\n",
      "yt : [INFO     ] 2019-05-21 14:47:06,732 190 out of 190 line components will be deposited as unresolved lines.\n",
      "Adding line - Ly c [972.536740 A]: : 100%|██████████| 190/190 [00:00<00:00, 2699.56it/s]\n",
      "yt : [INFO     ] 2019-05-21 14:47:06,809 190 out of 190 line components will be deposited as unresolved lines.\n",
      "Adding line - Ly d [949.742980 A]: : 100%|██████████| 190/190 [00:00<00:00, 2754.66it/s]\n",
      "yt : [INFO     ] 2019-05-21 14:47:06,884 190 out of 190 line components will be deposited as unresolved lines.\n",
      "Adding line - Ly e [937.803400 A]: : 100%|██████████| 190/190 [00:00<00:00, 3131.95it/s]\n",
      "yt : [INFO     ] 2019-05-21 14:47:06,953 190 out of 190 line components will be deposited as unresolved lines.\n",
      "Adding line - Ly 6 [930.748200 A]: : 100%|██████████| 190/190 [00:00<00:00, 3003.99it/s]\n",
      "yt : [INFO     ] 2019-05-21 14:47:07,023 190 out of 190 line components will be deposited as unresolved lines.\n",
      "Adding line - Ly 7 [926.225640 A]: : 100%|██████████| 190/190 [00:00<00:00, 3017.02it/s]\n",
      "yt : [INFO     ] 2019-05-21 14:47:07,092 190 out of 190 line components will be deposited as unresolved lines.\n",
      "Adding line - Ly 8 [923.150300 A]: : 100%|██████████| 190/190 [00:00<00:00, 3171.43it/s]\n",
      "yt : [INFO     ] 2019-05-21 14:47:07,158 190 out of 190 line components will be deposited as unresolved lines.\n",
      "Adding line - Ly 9 [920.963026 A]: : 100%|██████████| 190/190 [00:00<00:00, 3542.12it/s]\n",
      "yt : [INFO     ] 2019-05-21 14:47:07,218 190 out of 190 line components will be deposited as unresolved lines.\n",
      "Adding line - Ly 10 [919.351351 A]: : 100%|██████████| 190/190 [00:00<00:00, 3456.68it/s]\n",
      "yt : [INFO     ] 2019-05-21 14:47:07,279 190 out of 190 line components will be deposited as unresolved lines.\n",
      "Adding line - Ly 11 [918.129312 A]: : 100%|██████████| 190/190 [00:00<00:00, 3294.04it/s]\n",
      "yt : [INFO     ] 2019-05-21 14:47:07,343 190 out of 190 line components will be deposited as unresolved lines.\n",
      "Adding line - Ly 12 [917.180525 A]: : 100%|██████████| 190/190 [00:00<00:00, 3381.69it/s]\n",
      "yt : [INFO     ] 2019-05-21 14:47:07,405 190 out of 190 line components will be deposited as unresolved lines.\n",
      "Adding line - Ly 13 [916.429085 A]: : 100%|██████████| 190/190 [00:00<00:00, 3614.16it/s]\n",
      "yt : [INFO     ] 2019-05-21 14:47:07,464 190 out of 190 line components will be deposited as unresolved lines.\n",
      "Adding line - Ly 14 [915.823759 A]: : 100%|██████████| 190/190 [00:00<00:00, 3770.23it/s]\n",
      "yt : [INFO     ] 2019-05-21 14:47:07,521 190 out of 190 line components will be deposited as unresolved lines.\n",
      "Adding line - Ly 15 [915.328939 A]: : 100%|██████████| 190/190 [00:00<00:00, 3752.28it/s]\n",
      "yt : [INFO     ] 2019-05-21 14:47:07,578 190 out of 190 line components will be deposited as unresolved lines.\n",
      "Adding line - Ly 16 [914.919249 A]: : 100%|██████████| 190/190 [00:00<00:00, 3828.56it/s]\n",
      "yt : [INFO     ] 2019-05-21 14:47:07,633 190 out of 190 line components will be deposited as unresolved lines.\n",
      "Adding line - Ly 17 [914.576207 A]: : 100%|██████████| 190/190 [00:00<00:00, 3674.26it/s]\n",
      "yt : [INFO     ] 2019-05-21 14:47:07,691 190 out of 190 line components will be deposited as unresolved lines.\n",
      "Adding line - Ly 18 [914.286092 A]: : 100%|██████████| 190/190 [00:00<00:00, 4010.64it/s]\n",
      "yt : [INFO     ] 2019-05-21 14:47:07,745 190 out of 190 line components will be deposited as unresolved lines.\n",
      "Adding line - Ly 19 [914.038542 A]: : 100%|██████████| 190/190 [00:00<00:00, 3958.33it/s]\n",
      "yt : [INFO     ] 2019-05-21 14:47:07,799 190 out of 190 line components will be deposited as unresolved lines.\n"
     ]
    },
    {
     "name": "stderr",
     "output_type": "stream",
     "text": [
      "Adding line - Ly 20 [913.825614 A]: : 100%|██████████| 190/190 [00:00<00:00, 3762.52it/s]\n",
      "yt : [INFO     ] 2019-05-21 14:47:07,856 190 out of 190 line components will be deposited as unresolved lines.\n",
      "Adding line - Ly 21 [913.641137 A]: : 100%|██████████| 190/190 [00:00<00:00, 3813.95it/s]\n",
      "yt : [INFO     ] 2019-05-21 14:47:07,911 190 out of 190 line components will be deposited as unresolved lines.\n",
      "Adding line - Ly 22 [913.480256 A]: : 100%|██████████| 190/190 [00:00<00:00, 4002.94it/s]\n",
      "yt : [INFO     ] 2019-05-21 14:47:07,965 190 out of 190 line components will be deposited as unresolved lines.\n",
      "Adding line - Ly 23 [913.339110 A]: : 100%|██████████| 190/190 [00:00<00:00, 3752.78it/s]\n",
      "yt : [INFO     ] 2019-05-21 14:47:08,021 190 out of 190 line components will be deposited as unresolved lines.\n",
      "Adding line - Ly 24 [913.214596 A]: : 100%|██████████| 190/190 [00:00<00:00, 3658.93it/s]\n",
      "yt : [INFO     ] 2019-05-21 14:47:08,079 190 out of 190 line components will be deposited as unresolved lines.\n",
      "Adding line - Ly 25 [913.104199 A]: : 100%|██████████| 190/190 [00:00<00:00, 4105.73it/s]\n",
      "yt : [INFO     ] 2019-05-21 14:47:08,131 190 out of 190 line components will be deposited as unresolved lines.\n",
      "Adding line - Ly 26 [913.005863 A]: : 100%|██████████| 190/190 [00:00<00:00, 4167.13it/s]\n",
      "yt : [INFO     ] 2019-05-21 14:47:08,182 190 out of 190 line components will be deposited as unresolved lines.\n",
      "Adding line - Ly 27 [912.917891 A]: : 100%|██████████| 190/190 [00:00<00:00, 4132.32it/s]\n",
      "yt : [INFO     ] 2019-05-21 14:47:08,234 190 out of 190 line components will be deposited as unresolved lines.\n",
      "Adding line - Ly 28 [912.838877 A]: : 100%|██████████| 190/190 [00:00<00:00, 4050.49it/s]\n",
      "yt : [INFO     ] 2019-05-21 14:47:08,287 190 out of 190 line components will be deposited as unresolved lines.\n",
      "Adding line - Ly 29 [912.767643 A]: : 100%|██████████| 190/190 [00:00<00:00, 4070.00it/s]\n",
      "yt : [INFO     ] 2019-05-21 14:47:08,342 190 out of 190 line components will be deposited as unresolved lines.\n",
      "Adding line - Ly 30 [912.703200 A]: : 100%|██████████| 190/190 [00:00<00:00, 3958.90it/s]\n",
      "yt : [INFO     ] 2019-05-21 14:47:08,396 190 out of 190 line components will be deposited as unresolved lines.\n",
      "Adding line - Ly 31 [912.644712 A]: : 100%|██████████| 190/190 [00:00<00:00, 3941.59it/s]\n",
      "yt : [INFO     ] 2019-05-21 14:47:08,450 190 out of 190 line components will be deposited as unresolved lines.\n",
      "Adding line - Ly 32 [912.591467 A]: : 100%|██████████| 190/190 [00:00<00:00, 4097.73it/s]\n",
      "yt : [INFO     ] 2019-05-21 14:47:08,502 190 out of 190 line components will be deposited as unresolved lines.\n",
      "Adding line - Ly 33 [912.542856 A]: : 100%|██████████| 190/190 [00:00<00:00, 4132.49it/s]\n",
      "yt : [INFO     ] 2019-05-21 14:47:08,554 190 out of 190 line components will be deposited as unresolved lines.\n",
      "Adding line - Ly 34 [912.498356 A]: : 100%|██████████| 190/190 [00:00<00:00, 4001.70it/s]\n",
      "yt : [INFO     ] 2019-05-21 14:47:08,607 190 out of 190 line components will be deposited as unresolved lines.\n",
      "Adding line - Ly 35 [912.457516 A]: : 100%|██████████| 190/190 [00:00<00:00, 3694.26it/s]\n",
      "yt : [INFO     ] 2019-05-21 14:47:08,665 190 out of 190 line components will be deposited as unresolved lines.\n",
      "Adding line - Ly 36 [912.419946 A]: : 100%|██████████| 190/190 [00:00<00:00, 3527.92it/s]\n",
      "yt : [INFO     ] 2019-05-21 14:47:08,725 190 out of 190 line components will be deposited as unresolved lines.\n",
      "Adding line - Ly 37 [912.385306 A]: : 100%|██████████| 190/190 [00:00<00:00, 4074.99it/s]\n",
      "yt : [INFO     ] 2019-05-21 14:47:08,777 190 out of 190 line components will be deposited as unresolved lines.\n",
      "Adding line - Ly 38 [912.353298 A]: : 100%|██████████| 190/190 [00:00<00:00, 4079.69it/s]\n",
      "yt : [INFO     ] 2019-05-21 14:47:08,830 190 out of 190 line components will be deposited as unresolved lines.\n",
      "Adding line - Ly 39 [912.323663 A]: : 100%|██████████| 190/190 [00:00<00:00, 4150.74it/s]\n",
      "yt : [INFO     ] 2019-05-21 14:47:08,895 190 out of 190 line components will be deposited as unresolved lines.\n",
      "Adding line - C IV 1551 [1550.772000 A]: : 100%|██████████| 190/190 [00:00<00:00, 3464.57it/s]\n",
      "yt : [INFO     ] 2019-05-21 14:47:08,955 190 out of 190 line components will be deposited as unresolved lines.\n",
      "Adding line - C IV 1548 [1548.187000 A]: : 100%|██████████| 190/190 [00:00<00:00, 3281.75it/s]\n",
      "yt : [INFO     ] 2019-05-21 14:47:09,019 Not adding continuum Ly C: insufficient column density or out of range\n",
      "yt : [INFO     ] 2019-05-21 14:47:09,021 Writing spectrum to hdf5 file: .temp.h5.\n",
      "yt : [INFO     ] 2019-05-21 14:47:10,535 Parameters: current_time              = 0.0060000200028298 code_time\n",
      "yt : [INFO     ] 2019-05-21 14:47:10,536 Parameters: domain_dimensions         = [2 2 2]\n",
      "yt : [INFO     ] 2019-05-21 14:47:10,538 Parameters: domain_left_edge          = [0. 0. 0.] code_length\n",
      "yt : [INFO     ] 2019-05-21 14:47:10,540 Parameters: domain_right_edge         = [1. 1. 1.] code_length\n",
      "yt : [INFO     ] 2019-05-21 14:47:10,542 Parameters: cosmological_simulation   = 0.0\n",
      "yt : [INFO     ] 2019-05-21 14:47:10,741 Setting instrument to Custom\n",
      "yt : [INFO     ] 2019-05-21 14:47:10,785 Allocating for 1.270e+02 particles (index particle type 'all')\n",
      "yt : [INFO     ] 2019-05-21 14:47:10,790 Identified 1.050e+02 octs\n",
      "yt : [INFO     ] 2019-05-21 14:47:11,130 Creating O_p5_number_density from ray's density, temperature, metallicity.\n",
      "yt : [INFO     ] 2019-05-21 14:47:11,156 Creating C_p3_number_density from ray's density, temperature, metallicity.\n",
      "yt : [INFO     ] 2019-05-21 14:47:11,165 Creating spectrum\n",
      "yt : [INFO     ] 2019-05-21 14:47:11,207 127 out of 127 line components will be deposited as unresolved lines.\n",
      "Adding line - O VI 1038 [1037.613000 A]: : 100%|██████████| 127/127 [00:00<00:00, 2818.41it/s]\n",
      "yt : [INFO     ] 2019-05-21 14:47:11,258 127 out of 127 line components will be deposited as unresolved lines.\n",
      "Adding line - O VI 1032 [1031.912000 A]: : 100%|██████████| 127/127 [00:00<00:00, 1995.85it/s]\n",
      "yt : [INFO     ] 2019-05-21 14:47:11,334 127 out of 127 line components will be deposited as unresolved lines.\n",
      "Adding line - Ly a [1215.670000 A]: : 100%|██████████| 127/127 [00:00<00:00, 2307.88it/s]\n",
      "yt : [INFO     ] 2019-05-21 14:47:11,394 127 out of 127 line components will be deposited as unresolved lines.\n",
      "Adding line - Ly b [1025.722200 A]: : 100%|██████████| 127/127 [00:00<00:00, 3112.52it/s]\n",
      "yt : [INFO     ] 2019-05-21 14:47:11,441 127 out of 127 line components will be deposited as unresolved lines.\n",
      "Adding line - Ly c [972.536740 A]: : 100%|██████████| 127/127 [00:00<00:00, 2546.22it/s]\n",
      "yt : [INFO     ] 2019-05-21 14:47:11,498 127 out of 127 line components will be deposited as unresolved lines.\n",
      "Adding line - Ly d [949.742980 A]: : 100%|██████████| 127/127 [00:00<00:00, 3185.05it/s]\n",
      "yt : [INFO     ] 2019-05-21 14:47:11,543 127 out of 127 line components will be deposited as unresolved lines.\n",
      "Adding line - Ly e [937.803400 A]: : 100%|██████████| 127/127 [00:00<00:00, 2777.90it/s]\n",
      "yt : [INFO     ] 2019-05-21 14:47:11,596 127 out of 127 line components will be deposited as unresolved lines.\n",
      "Adding line - Ly 6 [930.748200 A]: : 100%|██████████| 127/127 [00:00<00:00, 3160.63it/s]\n",
      "yt : [INFO     ] 2019-05-21 14:47:11,642 127 out of 127 line components will be deposited as unresolved lines.\n",
      "Adding line - Ly 7 [926.225640 A]: : 100%|██████████| 127/127 [00:00<00:00, 3772.02it/s]\n",
      "yt : [INFO     ] 2019-05-21 14:47:11,682 127 out of 127 line components will be deposited as unresolved lines.\n",
      "Adding line - Ly 8 [923.150300 A]: : 100%|██████████| 127/127 [00:00<00:00, 2883.42it/s]\n",
      "yt : [INFO     ] 2019-05-21 14:47:11,733 127 out of 127 line components will be deposited as unresolved lines.\n",
      "Adding line - Ly 9 [920.963026 A]: : 100%|██████████| 127/127 [00:00<00:00, 3700.45it/s]\n",
      "yt : [INFO     ] 2019-05-21 14:47:11,774 127 out of 127 line components will be deposited as unresolved lines.\n",
      "Adding line - Ly 10 [919.351351 A]: : 100%|██████████| 127/127 [00:00<00:00, 2570.06it/s]\n",
      "yt : [INFO     ] 2019-05-21 14:47:11,830 127 out of 127 line components will be deposited as unresolved lines.\n",
      "Adding line - Ly 11 [918.129312 A]: : 100%|██████████| 127/127 [00:00<00:00, 3659.62it/s]\n",
      "yt : [INFO     ] 2019-05-21 14:47:11,871 127 out of 127 line components will be deposited as unresolved lines.\n"
     ]
    },
    {
     "name": "stderr",
     "output_type": "stream",
     "text": [
      "Adding line - Ly 12 [917.180525 A]: : 100%|██████████| 127/127 [00:00<00:00, 2681.02it/s]\n",
      "yt : [INFO     ] 2019-05-21 14:47:11,925 127 out of 127 line components will be deposited as unresolved lines.\n",
      "Adding line - Ly 13 [916.429085 A]: : 100%|██████████| 127/127 [00:00<00:00, 3325.74it/s]\n",
      "yt : [INFO     ] 2019-05-21 14:47:11,969 127 out of 127 line components will be deposited as unresolved lines.\n",
      "Adding line - Ly 14 [915.823759 A]: : 100%|██████████| 127/127 [00:00<00:00, 3221.22it/s]\n",
      "yt : [INFO     ] 2019-05-21 14:47:12,014 127 out of 127 line components will be deposited as unresolved lines.\n",
      "Adding line - Ly 15 [915.328939 A]: : 100%|██████████| 127/127 [00:00<00:00, 3095.14it/s]\n",
      "yt : [INFO     ] 2019-05-21 14:47:12,068 127 out of 127 line components will be deposited as unresolved lines.\n",
      "Adding line - Ly 16 [914.919249 A]: : 100%|██████████| 127/127 [00:00<00:00, 3249.49it/s]\n",
      "yt : [INFO     ] 2019-05-21 14:47:12,113 127 out of 127 line components will be deposited as unresolved lines.\n",
      "Adding line - Ly 17 [914.576207 A]: : 100%|██████████| 127/127 [00:00<00:00, 3396.37it/s]\n",
      "yt : [INFO     ] 2019-05-21 14:47:12,158 127 out of 127 line components will be deposited as unresolved lines.\n",
      "Adding line - Ly 18 [914.286092 A]: : 100%|██████████| 127/127 [00:00<00:00, 3514.51it/s]\n",
      "yt : [INFO     ] 2019-05-21 14:47:12,204 127 out of 127 line components will be deposited as unresolved lines.\n",
      "Adding line - Ly 19 [914.038542 A]: : 100%|██████████| 127/127 [00:00<00:00, 3913.09it/s]\n",
      "yt : [INFO     ] 2019-05-21 14:47:12,242 127 out of 127 line components will be deposited as unresolved lines.\n",
      "Adding line - Ly 20 [913.825614 A]: : 100%|██████████| 127/127 [00:00<00:00, 3923.61it/s]\n",
      "yt : [INFO     ] 2019-05-21 14:47:12,282 127 out of 127 line components will be deposited as unresolved lines.\n",
      "Adding line - Ly 21 [913.641137 A]: : 100%|██████████| 127/127 [00:00<00:00, 3214.14it/s]\n",
      "yt : [INFO     ] 2019-05-21 14:47:12,333 127 out of 127 line components will be deposited as unresolved lines.\n",
      "Adding line - Ly 22 [913.480256 A]: : 100%|██████████| 127/127 [00:00<00:00, 2687.77it/s]\n",
      "yt : [INFO     ] 2019-05-21 14:47:12,392 127 out of 127 line components will be deposited as unresolved lines.\n",
      "Adding line - Ly 23 [913.339110 A]: : 100%|██████████| 127/127 [00:00<00:00, 3874.32it/s]\n",
      "yt : [INFO     ] 2019-05-21 14:47:12,431 127 out of 127 line components will be deposited as unresolved lines.\n",
      "Adding line - Ly 24 [913.214596 A]: : 100%|██████████| 127/127 [00:00<00:00, 2474.71it/s]\n",
      "yt : [INFO     ] 2019-05-21 14:47:12,489 127 out of 127 line components will be deposited as unresolved lines.\n",
      "Adding line - Ly 25 [913.104199 A]: : 100%|██████████| 127/127 [00:00<00:00, 3227.85it/s]\n",
      "yt : [INFO     ] 2019-05-21 14:47:12,538 127 out of 127 line components will be deposited as unresolved lines.\n",
      "Adding line - Ly 26 [913.005863 A]: : 100%|██████████| 127/127 [00:00<00:00, 3794.21it/s]\n",
      "yt : [INFO     ] 2019-05-21 14:47:12,577 127 out of 127 line components will be deposited as unresolved lines.\n",
      "Adding line - Ly 27 [912.917891 A]: : 100%|██████████| 127/127 [00:00<00:00, 2666.89it/s]\n",
      "yt : [INFO     ] 2019-05-21 14:47:12,632 127 out of 127 line components will be deposited as unresolved lines.\n",
      "Adding line - Ly 28 [912.838877 A]: : 100%|██████████| 127/127 [00:00<00:00, 3152.62it/s]\n",
      "yt : [INFO     ] 2019-05-21 14:47:12,679 127 out of 127 line components will be deposited as unresolved lines.\n",
      "Adding line - Ly 29 [912.767643 A]: : 100%|██████████| 127/127 [00:00<00:00, 3884.75it/s]\n",
      "yt : [INFO     ] 2019-05-21 14:47:12,718 127 out of 127 line components will be deposited as unresolved lines.\n",
      "Adding line - Ly 30 [912.703200 A]: : 100%|██████████| 127/127 [00:00<00:00, 2791.57it/s]\n",
      "yt : [INFO     ] 2019-05-21 14:47:12,771 127 out of 127 line components will be deposited as unresolved lines.\n",
      "Adding line - Ly 31 [912.644712 A]: : 100%|██████████| 127/127 [00:00<00:00, 3474.21it/s]\n",
      "yt : [INFO     ] 2019-05-21 14:47:12,816 127 out of 127 line components will be deposited as unresolved lines.\n",
      "Adding line - Ly 32 [912.591467 A]: : 100%|██████████| 127/127 [00:00<00:00, 3308.67it/s]\n",
      "yt : [INFO     ] 2019-05-21 14:47:12,860 127 out of 127 line components will be deposited as unresolved lines.\n",
      "Adding line - Ly 33 [912.542856 A]: : 100%|██████████| 127/127 [00:00<00:00, 3279.46it/s]\n",
      "yt : [INFO     ] 2019-05-21 14:47:12,905 127 out of 127 line components will be deposited as unresolved lines.\n",
      "Adding line - Ly 34 [912.498356 A]: : 100%|██████████| 127/127 [00:00<00:00, 3506.34it/s]\n",
      "yt : [INFO     ] 2019-05-21 14:47:12,948 127 out of 127 line components will be deposited as unresolved lines.\n",
      "Adding line - Ly 35 [912.457516 A]: : 100%|██████████| 127/127 [00:00<00:00, 3490.24it/s]\n",
      "yt : [INFO     ] 2019-05-21 14:47:12,989 127 out of 127 line components will be deposited as unresolved lines.\n",
      "Adding line - Ly 36 [912.419946 A]: : 100%|██████████| 127/127 [00:00<00:00, 2868.70it/s]\n",
      "yt : [INFO     ] 2019-05-21 14:47:13,043 127 out of 127 line components will be deposited as unresolved lines.\n",
      "Adding line - Ly 37 [912.385306 A]: : 100%|██████████| 127/127 [00:00<00:00, 3044.11it/s]\n",
      "yt : [INFO     ] 2019-05-21 14:47:13,090 127 out of 127 line components will be deposited as unresolved lines.\n",
      "Adding line - Ly 38 [912.353298 A]: : 100%|██████████| 127/127 [00:00<00:00, 3417.66it/s]\n",
      "yt : [INFO     ] 2019-05-21 14:47:13,133 127 out of 127 line components will be deposited as unresolved lines.\n",
      "Adding line - Ly 39 [912.323663 A]: : 100%|██████████| 127/127 [00:00<00:00, 3601.70it/s]\n",
      "yt : [INFO     ] 2019-05-21 14:47:13,192 127 out of 127 line components will be deposited as unresolved lines.\n",
      "Adding line - C IV 1551 [1550.772000 A]: : 100%|██████████| 127/127 [00:00<00:00, 2207.31it/s]\n",
      "yt : [INFO     ] 2019-05-21 14:47:13,259 127 out of 127 line components will be deposited as unresolved lines.\n",
      "Adding line - C IV 1548 [1548.187000 A]: : 100%|██████████| 127/127 [00:00<00:00, 2537.81it/s]\n",
      "yt : [INFO     ] 2019-05-21 14:47:13,314 Not adding continuum Ly C: insufficient column density or out of range\n",
      "yt : [INFO     ] 2019-05-21 14:47:13,316 Writing spectrum to hdf5 file: .temp.h5.\n",
      "yt : [INFO     ] 2019-05-21 14:47:14,929 Parameters: current_time              = 0.0060000200028298 code_time\n",
      "yt : [INFO     ] 2019-05-21 14:47:14,930 Parameters: domain_dimensions         = [2 2 2]\n",
      "yt : [INFO     ] 2019-05-21 14:47:14,937 Parameters: domain_left_edge          = [0. 0. 0.] code_length\n",
      "yt : [INFO     ] 2019-05-21 14:47:14,939 Parameters: domain_right_edge         = [1. 1. 1.] code_length\n",
      "yt : [INFO     ] 2019-05-21 14:47:14,942 Parameters: cosmological_simulation   = 0.0\n",
      "yt : [INFO     ] 2019-05-21 14:47:15,150 Setting instrument to Custom\n",
      "yt : [INFO     ] 2019-05-21 14:47:15,188 Allocating for 1.270e+02 particles (index particle type 'all')\n",
      "yt : [INFO     ] 2019-05-21 14:47:15,192 Identified 1.050e+02 octs\n",
      "yt : [INFO     ] 2019-05-21 14:47:15,510 Creating O_p5_number_density from ray's density, temperature, metallicity.\n",
      "yt : [INFO     ] 2019-05-21 14:47:15,534 Creating C_p3_number_density from ray's density, temperature, metallicity.\n",
      "yt : [INFO     ] 2019-05-21 14:47:15,543 Creating spectrum\n",
      "yt : [INFO     ] 2019-05-21 14:47:15,580 127 out of 127 line components will be deposited as unresolved lines.\n",
      "Adding line - O VI 1038 [1037.613000 A]: : 100%|██████████| 127/127 [00:00<00:00, 2504.25it/s]\n",
      "yt : [INFO     ] 2019-05-21 14:47:15,637 127 out of 127 line components will be deposited as unresolved lines.\n",
      "Adding line - O VI 1032 [1031.912000 A]: : 100%|██████████| 127/127 [00:00<00:00, 2777.35it/s]\n",
      "yt : [INFO     ] 2019-05-21 14:47:15,695 127 out of 127 line components will be deposited as unresolved lines.\n",
      "Adding line - Ly a [1215.670000 A]: : 100%|██████████| 127/127 [00:00<00:00, 3295.19it/s]\n",
      "yt : [INFO     ] 2019-05-21 14:47:15,740 127 out of 127 line components will be deposited as unresolved lines.\n",
      "Adding line - Ly b [1025.722200 A]: : 100%|██████████| 127/127 [00:00<00:00, 3678.48it/s]\n",
      "yt : [INFO     ] 2019-05-21 14:47:15,781 127 out of 127 line components will be deposited as unresolved lines.\n",
      "Adding line - Ly c [972.536740 A]: : 100%|██████████| 127/127 [00:00<00:00, 3511.68it/s]\n",
      "yt : [INFO     ] 2019-05-21 14:47:15,824 127 out of 127 line components will be deposited as unresolved lines.\n"
     ]
    },
    {
     "name": "stderr",
     "output_type": "stream",
     "text": [
      "Adding line - Ly d [949.742980 A]: : 100%|██████████| 127/127 [00:00<00:00, 3700.35it/s]\n",
      "yt : [INFO     ] 2019-05-21 14:47:15,865 127 out of 127 line components will be deposited as unresolved lines.\n",
      "Adding line - Ly e [937.803400 A]: : 100%|██████████| 127/127 [00:00<00:00, 3860.53it/s]\n",
      "yt : [INFO     ] 2019-05-21 14:47:15,904 127 out of 127 line components will be deposited as unresolved lines.\n",
      "Adding line - Ly 6 [930.748200 A]: : 100%|██████████| 127/127 [00:00<00:00, 3904.45it/s]\n",
      "yt : [INFO     ] 2019-05-21 14:47:15,943 127 out of 127 line components will be deposited as unresolved lines.\n",
      "Adding line - Ly 7 [926.225640 A]: : 100%|██████████| 127/127 [00:00<00:00, 3285.65it/s]\n",
      "yt : [INFO     ] 2019-05-21 14:47:15,987 127 out of 127 line components will be deposited as unresolved lines.\n",
      "Adding line - Ly 8 [923.150300 A]: : 100%|██████████| 127/127 [00:00<00:00, 3929.22it/s]\n",
      "yt : [INFO     ] 2019-05-21 14:47:16,026 127 out of 127 line components will be deposited as unresolved lines.\n",
      "Adding line - Ly 9 [920.963026 A]: : 100%|██████████| 127/127 [00:00<00:00, 3253.82it/s]\n",
      "yt : [INFO     ] 2019-05-21 14:47:16,071 127 out of 127 line components will be deposited as unresolved lines.\n",
      "Adding line - Ly 10 [919.351351 A]: : 100%|██████████| 127/127 [00:00<00:00, 3774.26it/s]\n",
      "yt : [INFO     ] 2019-05-21 14:47:16,111 127 out of 127 line components will be deposited as unresolved lines.\n",
      "Adding line - Ly 11 [918.129312 A]: : 100%|██████████| 127/127 [00:00<00:00, 3624.41it/s]\n",
      "yt : [INFO     ] 2019-05-21 14:47:16,152 127 out of 127 line components will be deposited as unresolved lines.\n",
      "Adding line - Ly 12 [917.180525 A]: : 100%|██████████| 127/127 [00:00<00:00, 4040.72it/s]\n",
      "yt : [INFO     ] 2019-05-21 14:47:16,189 127 out of 127 line components will be deposited as unresolved lines.\n",
      "Adding line - Ly 13 [916.429085 A]: : 100%|██████████| 127/127 [00:00<00:00, 4002.65it/s]\n",
      "yt : [INFO     ] 2019-05-21 14:47:16,228 127 out of 127 line components will be deposited as unresolved lines.\n",
      "Adding line - Ly 14 [915.823759 A]: : 100%|██████████| 127/127 [00:00<00:00, 3731.67it/s]\n",
      "yt : [INFO     ] 2019-05-21 14:47:16,269 127 out of 127 line components will be deposited as unresolved lines.\n",
      "Adding line - Ly 15 [915.328939 A]: : 100%|██████████| 127/127 [00:00<00:00, 3957.13it/s]\n",
      "yt : [INFO     ] 2019-05-21 14:47:16,307 127 out of 127 line components will be deposited as unresolved lines.\n",
      "Adding line - Ly 16 [914.919249 A]: : 100%|██████████| 127/127 [00:00<00:00, 3358.36it/s]\n",
      "yt : [INFO     ] 2019-05-21 14:47:16,351 127 out of 127 line components will be deposited as unresolved lines.\n",
      "Adding line - Ly 17 [914.576207 A]: : 100%|██████████| 127/127 [00:00<00:00, 3756.30it/s]\n",
      "yt : [INFO     ] 2019-05-21 14:47:16,391 127 out of 127 line components will be deposited as unresolved lines.\n",
      "Adding line - Ly 18 [914.286092 A]: : 100%|██████████| 127/127 [00:00<00:00, 3748.66it/s]\n",
      "yt : [INFO     ] 2019-05-21 14:47:16,432 127 out of 127 line components will be deposited as unresolved lines.\n",
      "Adding line - Ly 19 [914.038542 A]: : 100%|██████████| 127/127 [00:00<00:00, 4082.94it/s]\n",
      "yt : [INFO     ] 2019-05-21 14:47:16,469 127 out of 127 line components will be deposited as unresolved lines.\n",
      "Adding line - Ly 20 [913.825614 A]: : 100%|██████████| 127/127 [00:00<00:00, 3552.15it/s]\n",
      "yt : [INFO     ] 2019-05-21 14:47:16,511 127 out of 127 line components will be deposited as unresolved lines.\n",
      "Adding line - Ly 21 [913.641137 A]: : 100%|██████████| 127/127 [00:00<00:00, 4184.52it/s]\n",
      "yt : [INFO     ] 2019-05-21 14:47:16,548 127 out of 127 line components will be deposited as unresolved lines.\n",
      "Adding line - Ly 22 [913.480256 A]: : 100%|██████████| 127/127 [00:00<00:00, 4164.63it/s]\n",
      "yt : [INFO     ] 2019-05-21 14:47:16,585 127 out of 127 line components will be deposited as unresolved lines.\n",
      "Adding line - Ly 23 [913.339110 A]: : 100%|██████████| 127/127 [00:00<00:00, 4155.11it/s]\n",
      "yt : [INFO     ] 2019-05-21 14:47:16,620 127 out of 127 line components will be deposited as unresolved lines.\n",
      "Adding line - Ly 24 [913.214596 A]: : 100%|██████████| 127/127 [00:00<00:00, 3951.34it/s]\n",
      "yt : [INFO     ] 2019-05-21 14:47:16,658 127 out of 127 line components will be deposited as unresolved lines.\n",
      "Adding line - Ly 25 [913.104199 A]: : 100%|██████████| 127/127 [00:00<00:00, 3838.00it/s]\n",
      "yt : [INFO     ] 2019-05-21 14:47:16,697 127 out of 127 line components will be deposited as unresolved lines.\n",
      "Adding line - Ly 26 [913.005863 A]: : 100%|██████████| 127/127 [00:00<00:00, 4070.24it/s]\n",
      "yt : [INFO     ] 2019-05-21 14:47:16,735 127 out of 127 line components will be deposited as unresolved lines.\n",
      "Adding line - Ly 27 [912.917891 A]: : 100%|██████████| 127/127 [00:00<00:00, 3929.45it/s]\n",
      "yt : [INFO     ] 2019-05-21 14:47:16,773 127 out of 127 line components will be deposited as unresolved lines.\n",
      "Adding line - Ly 28 [912.838877 A]: : 100%|██████████| 127/127 [00:00<00:00, 3848.49it/s]\n",
      "yt : [INFO     ] 2019-05-21 14:47:16,813 127 out of 127 line components will be deposited as unresolved lines.\n",
      "Adding line - Ly 29 [912.767643 A]: : 100%|██████████| 127/127 [00:00<00:00, 4188.66it/s]\n",
      "yt : [INFO     ] 2019-05-21 14:47:16,849 127 out of 127 line components will be deposited as unresolved lines.\n",
      "Adding line - Ly 30 [912.703200 A]: : 100%|██████████| 127/127 [00:00<00:00, 3902.99it/s]\n",
      "yt : [INFO     ] 2019-05-21 14:47:16,888 127 out of 127 line components will be deposited as unresolved lines.\n",
      "Adding line - Ly 31 [912.644712 A]: : 100%|██████████| 127/127 [00:00<00:00, 3741.10it/s]\n",
      "yt : [INFO     ] 2019-05-21 14:47:16,928 127 out of 127 line components will be deposited as unresolved lines.\n",
      "Adding line - Ly 32 [912.591467 A]: : 100%|██████████| 127/127 [00:00<00:00, 3502.49it/s]\n",
      "yt : [INFO     ] 2019-05-21 14:47:16,970 127 out of 127 line components will be deposited as unresolved lines.\n",
      "Adding line - Ly 33 [912.542856 A]: : 100%|██████████| 127/127 [00:00<00:00, 4131.97it/s]\n",
      "yt : [INFO     ] 2019-05-21 14:47:17,007 127 out of 127 line components will be deposited as unresolved lines.\n",
      "Adding line - Ly 34 [912.498356 A]: : 100%|██████████| 127/127 [00:00<00:00, 3528.87it/s]\n",
      "yt : [INFO     ] 2019-05-21 14:47:17,050 127 out of 127 line components will be deposited as unresolved lines.\n",
      "Adding line - Ly 35 [912.457516 A]: : 100%|██████████| 127/127 [00:00<00:00, 3417.46it/s]\n",
      "yt : [INFO     ] 2019-05-21 14:47:17,093 127 out of 127 line components will be deposited as unresolved lines.\n",
      "Adding line - Ly 36 [912.419946 A]: : 100%|██████████| 127/127 [00:00<00:00, 3919.51it/s]\n",
      "yt : [INFO     ] 2019-05-21 14:47:17,132 127 out of 127 line components will be deposited as unresolved lines.\n",
      "Adding line - Ly 37 [912.385306 A]: : 100%|██████████| 127/127 [00:00<00:00, 4016.05it/s]\n",
      "yt : [INFO     ] 2019-05-21 14:47:17,170 127 out of 127 line components will be deposited as unresolved lines.\n",
      "Adding line - Ly 38 [912.353298 A]: : 100%|██████████| 127/127 [00:00<00:00, 4081.25it/s]\n",
      "yt : [INFO     ] 2019-05-21 14:47:17,208 127 out of 127 line components will be deposited as unresolved lines.\n",
      "Adding line - Ly 39 [912.323663 A]: : 100%|██████████| 127/127 [00:00<00:00, 3974.72it/s]\n",
      "yt : [INFO     ] 2019-05-21 14:47:17,261 127 out of 127 line components will be deposited as unresolved lines.\n",
      "Adding line - C IV 1551 [1550.772000 A]: : 100%|██████████| 127/127 [00:00<00:00, 3648.27it/s]\n",
      "yt : [INFO     ] 2019-05-21 14:47:17,302 127 out of 127 line components will be deposited as unresolved lines.\n",
      "Adding line - C IV 1548 [1548.187000 A]: : 100%|██████████| 127/127 [00:00<00:00, 3575.66it/s]\n",
      "yt : [INFO     ] 2019-05-21 14:47:17,344 Not adding continuum Ly C: insufficient column density or out of range\n",
      "yt : [INFO     ] 2019-05-21 14:47:17,345 Writing spectrum to hdf5 file: .temp.h5.\n",
      "yt : [INFO     ] 2019-05-21 14:47:18,846 Parameters: current_time              = 0.0060000200028298 code_time\n",
      "yt : [INFO     ] 2019-05-21 14:47:18,848 Parameters: domain_dimensions         = [2 2 2]\n",
      "yt : [INFO     ] 2019-05-21 14:47:18,850 Parameters: domain_left_edge          = [0. 0. 0.] code_length\n",
      "yt : [INFO     ] 2019-05-21 14:47:18,852 Parameters: domain_right_edge         = [1. 1. 1.] code_length\n",
      "yt : [INFO     ] 2019-05-21 14:47:18,854 Parameters: cosmological_simulation   = 0.0\n"
     ]
    },
    {
     "name": "stderr",
     "output_type": "stream",
     "text": [
      "yt : [INFO     ] 2019-05-21 14:47:19,324 Setting instrument to Custom\n",
      "yt : [INFO     ] 2019-05-21 14:47:19,368 Allocating for 6.600e+01 particles (index particle type 'all')\n",
      "yt : [INFO     ] 2019-05-21 14:47:19,373 Identified 5.700e+01 octs\n",
      "yt : [INFO     ] 2019-05-21 14:47:19,672 Creating O_p5_number_density from ray's density, temperature, metallicity.\n",
      "yt : [INFO     ] 2019-05-21 14:47:19,696 Creating C_p3_number_density from ray's density, temperature, metallicity.\n",
      "yt : [INFO     ] 2019-05-21 14:47:19,704 Creating spectrum\n",
      "yt : [INFO     ] 2019-05-21 14:47:19,740 66 out of 66 line components will be deposited as unresolved lines.\n",
      "Adding line - O VI 1038 [1037.613000 A]: : 100%|██████████| 66/66 [00:00<00:00, 3011.08it/s]\n",
      "yt : [INFO     ] 2019-05-21 14:47:19,768 66 out of 66 line components will be deposited as unresolved lines.\n",
      "Adding line - O VI 1032 [1031.912000 A]: : 100%|██████████| 66/66 [00:00<00:00, 3640.36it/s]\n",
      "yt : [INFO     ] 2019-05-21 14:47:19,799 66 out of 66 line components will be deposited as unresolved lines.\n",
      "Adding line - Ly a [1215.670000 A]: : 100%|██████████| 66/66 [00:00<00:00, 3556.78it/s]\n",
      "yt : [INFO     ] 2019-05-21 14:47:19,825 66 out of 66 line components will be deposited as unresolved lines.\n",
      "Adding line - Ly b [1025.722200 A]: : 100%|██████████| 66/66 [00:00<00:00, 3465.85it/s]\n",
      "yt : [INFO     ] 2019-05-21 14:47:19,850 66 out of 66 line components will be deposited as unresolved lines.\n",
      "Adding line - Ly c [972.536740 A]: : 100%|██████████| 66/66 [00:00<00:00, 3025.99it/s]\n",
      "yt : [INFO     ] 2019-05-21 14:47:19,878 66 out of 66 line components will be deposited as unresolved lines.\n",
      "Adding line - Ly d [949.742980 A]: : 100%|██████████| 66/66 [00:00<00:00, 3589.10it/s]\n",
      "yt : [INFO     ] 2019-05-21 14:47:19,904 66 out of 66 line components will be deposited as unresolved lines.\n",
      "Adding line - Ly e [937.803400 A]: : 100%|██████████| 66/66 [00:00<00:00, 2922.18it/s]\n",
      "yt : [INFO     ] 2019-05-21 14:47:19,933 66 out of 66 line components will be deposited as unresolved lines.\n",
      "Adding line - Ly 6 [930.748200 A]: : 100%|██████████| 66/66 [00:00<00:00, 3144.19it/s]\n",
      "yt : [INFO     ] 2019-05-21 14:47:19,963 66 out of 66 line components will be deposited as unresolved lines.\n",
      "Adding line - Ly 7 [926.225640 A]: : 100%|██████████| 66/66 [00:00<00:00, 2769.74it/s]\n",
      "yt : [INFO     ] 2019-05-21 14:47:19,993 66 out of 66 line components will be deposited as unresolved lines.\n",
      "Adding line - Ly 8 [923.150300 A]: : 100%|██████████| 66/66 [00:00<00:00, 2806.83it/s]\n",
      "yt : [INFO     ] 2019-05-21 14:47:20,023 66 out of 66 line components will be deposited as unresolved lines.\n",
      "Adding line - Ly 9 [920.963026 A]: : 100%|██████████| 66/66 [00:00<00:00, 3465.11it/s]\n",
      "yt : [INFO     ] 2019-05-21 14:47:20,049 66 out of 66 line components will be deposited as unresolved lines.\n",
      "Adding line - Ly 10 [919.351351 A]: : 100%|██████████| 66/66 [00:00<00:00, 3015.35it/s]\n",
      "yt : [INFO     ] 2019-05-21 14:47:20,079 66 out of 66 line components will be deposited as unresolved lines.\n",
      "Adding line - Ly 11 [918.129312 A]: : 100%|██████████| 66/66 [00:00<00:00, 3470.54it/s]\n",
      "yt : [INFO     ] 2019-05-21 14:47:20,103 66 out of 66 line components will be deposited as unresolved lines.\n",
      "Adding line - Ly 12 [917.180525 A]: : 100%|██████████| 66/66 [00:00<00:00, 3539.04it/s]\n",
      "yt : [INFO     ] 2019-05-21 14:47:20,129 66 out of 66 line components will be deposited as unresolved lines.\n",
      "Adding line - Ly 13 [916.429085 A]: : 100%|██████████| 66/66 [00:00<00:00, 3125.13it/s]\n",
      "yt : [INFO     ] 2019-05-21 14:47:20,156 66 out of 66 line components will be deposited as unresolved lines.\n",
      "Adding line - Ly 14 [915.823759 A]: : 100%|██████████| 66/66 [00:00<00:00, 3411.39it/s]\n",
      "yt : [INFO     ] 2019-05-21 14:47:20,184 66 out of 66 line components will be deposited as unresolved lines.\n",
      "Adding line - Ly 15 [915.328939 A]: : 100%|██████████| 66/66 [00:00<00:00, 3446.82it/s]\n",
      "yt : [INFO     ] 2019-05-21 14:47:20,209 66 out of 66 line components will be deposited as unresolved lines.\n",
      "Adding line - Ly 16 [914.919249 A]: : 100%|██████████| 66/66 [00:00<00:00, 3104.84it/s]\n",
      "yt : [INFO     ] 2019-05-21 14:47:20,237 66 out of 66 line components will be deposited as unresolved lines.\n",
      "Adding line - Ly 17 [914.576207 A]: : 100%|██████████| 66/66 [00:00<00:00, 3270.10it/s]\n",
      "yt : [INFO     ] 2019-05-21 14:47:20,264 66 out of 66 line components will be deposited as unresolved lines.\n",
      "Adding line - Ly 18 [914.286092 A]: : 100%|██████████| 66/66 [00:00<00:00, 3136.57it/s]\n",
      "yt : [INFO     ] 2019-05-21 14:47:20,291 66 out of 66 line components will be deposited as unresolved lines.\n",
      "Adding line - Ly 19 [914.038542 A]: : 100%|██████████| 66/66 [00:00<00:00, 3157.89it/s]\n",
      "yt : [INFO     ] 2019-05-21 14:47:20,319 66 out of 66 line components will be deposited as unresolved lines.\n",
      "Adding line - Ly 20 [913.825614 A]: : 100%|██████████| 66/66 [00:00<00:00, 3017.85it/s]\n",
      "yt : [INFO     ] 2019-05-21 14:47:20,348 66 out of 66 line components will be deposited as unresolved lines.\n",
      "Adding line - Ly 21 [913.641137 A]: : 100%|██████████| 66/66 [00:00<00:00, 3568.93it/s]\n",
      "yt : [INFO     ] 2019-05-21 14:47:20,373 66 out of 66 line components will be deposited as unresolved lines.\n",
      "Adding line - Ly 22 [913.480256 A]: : 100%|██████████| 66/66 [00:00<00:00, 2637.45it/s]\n",
      "yt : [INFO     ] 2019-05-21 14:47:20,404 66 out of 66 line components will be deposited as unresolved lines.\n",
      "Adding line - Ly 23 [913.339110 A]: : 100%|██████████| 66/66 [00:00<00:00, 3601.24it/s]\n",
      "yt : [INFO     ] 2019-05-21 14:47:20,429 66 out of 66 line components will be deposited as unresolved lines.\n",
      "Adding line - Ly 24 [913.214596 A]: : 100%|██████████| 66/66 [00:00<00:00, 3622.97it/s]\n",
      "yt : [INFO     ] 2019-05-21 14:47:20,453 66 out of 66 line components will be deposited as unresolved lines.\n",
      "Adding line - Ly 25 [913.104199 A]: : 100%|██████████| 66/66 [00:00<00:00, 3548.94it/s]\n",
      "yt : [INFO     ] 2019-05-21 14:47:20,477 66 out of 66 line components will be deposited as unresolved lines.\n",
      "Adding line - Ly 26 [913.005863 A]: : 100%|██████████| 66/66 [00:00<00:00, 2991.56it/s]\n",
      "yt : [INFO     ] 2019-05-21 14:47:20,506 66 out of 66 line components will be deposited as unresolved lines.\n",
      "Adding line - Ly 27 [912.917891 A]: : 100%|██████████| 66/66 [00:00<00:00, 2948.26it/s]\n",
      "yt : [INFO     ] 2019-05-21 14:47:20,534 66 out of 66 line components will be deposited as unresolved lines.\n",
      "Adding line - Ly 28 [912.838877 A]: : 100%|██████████| 66/66 [00:00<00:00, 2843.60it/s]\n",
      "yt : [INFO     ] 2019-05-21 14:47:20,565 66 out of 66 line components will be deposited as unresolved lines.\n",
      "Adding line - Ly 29 [912.767643 A]: : 100%|██████████| 66/66 [00:00<00:00, 3344.66it/s]\n",
      "yt : [INFO     ] 2019-05-21 14:47:20,590 66 out of 66 line components will be deposited as unresolved lines.\n",
      "Adding line - Ly 30 [912.703200 A]: : 100%|██████████| 66/66 [00:00<00:00, 2661.39it/s]\n",
      "yt : [INFO     ] 2019-05-21 14:47:20,622 66 out of 66 line components will be deposited as unresolved lines.\n",
      "Adding line - Ly 31 [912.644712 A]: : 100%|██████████| 66/66 [00:00<00:00, 3420.75it/s]\n",
      "yt : [INFO     ] 2019-05-21 14:47:20,648 66 out of 66 line components will be deposited as unresolved lines.\n",
      "Adding line - Ly 32 [912.591467 A]: : 100%|██████████| 66/66 [00:00<00:00, 3330.82it/s]\n",
      "yt : [INFO     ] 2019-05-21 14:47:20,673 66 out of 66 line components will be deposited as unresolved lines.\n",
      "Adding line - Ly 33 [912.542856 A]: : 100%|██████████| 66/66 [00:00<00:00, 3341.11it/s]\n",
      "yt : [INFO     ] 2019-05-21 14:47:20,699 66 out of 66 line components will be deposited as unresolved lines.\n",
      "Adding line - Ly 34 [912.498356 A]: : 100%|██████████| 66/66 [00:00<00:00, 3039.65it/s]\n",
      "yt : [INFO     ] 2019-05-21 14:47:20,728 66 out of 66 line components will be deposited as unresolved lines.\n",
      "Adding line - Ly 35 [912.457516 A]: : 100%|██████████| 66/66 [00:00<00:00, 3537.15it/s]\n",
      "yt : [INFO     ] 2019-05-21 14:47:20,753 66 out of 66 line components will be deposited as unresolved lines.\n",
      "Adding line - Ly 36 [912.419946 A]: : 100%|██████████| 66/66 [00:00<00:00, 2978.75it/s]\n",
      "yt : [INFO     ] 2019-05-21 14:47:20,784 66 out of 66 line components will be deposited as unresolved lines.\n",
      "Adding line - Ly 37 [912.385306 A]: : 100%|██████████| 66/66 [00:00<00:00, 3500.20it/s]\n",
      "yt : [INFO     ] 2019-05-21 14:47:20,810 66 out of 66 line components will be deposited as unresolved lines.\n",
      "Adding line - Ly 38 [912.353298 A]: : 100%|██████████| 66/66 [00:00<00:00, 3424.47it/s]\n",
      "yt : [INFO     ] 2019-05-21 14:47:20,837 66 out of 66 line components will be deposited as unresolved lines.\n",
      "Adding line - Ly 39 [912.323663 A]: : 100%|██████████| 66/66 [00:00<00:00, 3458.74it/s]\n",
      "yt : [INFO     ] 2019-05-21 14:47:20,877 66 out of 66 line components will be deposited as unresolved lines.\n",
      "Adding line - C IV 1551 [1550.772000 A]: : 100%|██████████| 66/66 [00:00<00:00, 3383.41it/s]\n",
      "yt : [INFO     ] 2019-05-21 14:47:20,904 66 out of 66 line components will be deposited as unresolved lines.\n",
      "Adding line - C IV 1548 [1548.187000 A]: : 100%|██████████| 66/66 [00:00<00:00, 3337.40it/s]\n",
      "yt : [INFO     ] 2019-05-21 14:47:20,930 Not adding continuum Ly C: insufficient column density or out of range\n",
      "yt : [INFO     ] 2019-05-21 14:47:20,931 Writing spectrum to hdf5 file: .temp.h5.\n"
     ]
    },
    {
     "data": {
      "text/plain": [
       "<Figure size 781.2x662.4 with 0 Axes>"
      ]
     },
     "metadata": {},
     "output_type": "display_data"
    }
   ],
   "source": [
    "mov.create_movie()"
   ]
  },
  {
   "cell_type": "code",
   "execution_count": 154,
   "metadata": {},
   "outputs": [
    {
     "name": "stdout",
     "output_type": "stream",
     "text": [
      "done\n"
     ]
    }
   ],
   "source": [
    "print(\"done\")"
   ]
  },
  {
   "cell_type": "code",
   "execution_count": null,
   "metadata": {},
   "outputs": [],
   "source": []
  },
  {
   "cell_type": "code",
   "execution_count": null,
   "metadata": {},
   "outputs": [],
   "source": []
  }
 ],
 "metadata": {
  "kernelspec": {
   "display_name": "Python 3",
   "language": "python",
   "name": "python3"
  },
  "language_info": {
   "codemirror_mode": {
    "name": "ipython",
    "version": 3
   },
   "file_extension": ".py",
   "mimetype": "text/x-python",
   "name": "python",
   "nbconvert_exporter": "python",
   "pygments_lexer": "ipython3",
   "version": "3.7.3"
  }
 },
 "nbformat": 4,
 "nbformat_minor": 2
}
