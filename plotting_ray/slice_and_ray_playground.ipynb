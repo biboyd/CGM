{
 "cells": [
  {
   "cell_type": "code",
   "execution_count": 1,
   "metadata": {
    "scrolled": true
   },
   "outputs": [],
   "source": [
    "import yt\n",
    "import numpy as np\n",
    "import trident as tri"
   ]
  },
  {
   "cell_type": "code",
   "execution_count": 2,
   "metadata": {},
   "outputs": [],
   "source": [
    "filename = \"~/Repo/yt/doc/source/quickstart/IsolatedGalaxy/galaxy0030/galaxy0030\""
   ]
  },
  {
   "cell_type": "code",
   "execution_count": 3,
   "metadata": {},
   "outputs": [
    {
     "name": "stderr",
     "output_type": "stream",
     "text": [
      "yt : [INFO     ] 2019-04-02 22:32:43,629 Parameters: current_time              = 0.00600002000283\n",
      "yt : [INFO     ] 2019-04-02 22:32:43,630 Parameters: domain_dimensions         = [32 32 32]\n",
      "yt : [INFO     ] 2019-04-02 22:32:43,632 Parameters: domain_left_edge          = [0. 0. 0.]\n",
      "yt : [INFO     ] 2019-04-02 22:32:43,633 Parameters: domain_right_edge         = [1. 1. 1.]\n",
      "yt : [INFO     ] 2019-04-02 22:32:43,635 Parameters: cosmological_simulation   = 0.0\n"
     ]
    }
   ],
   "source": [
    "ds = yt.load(filename)\n",
    "\n",
    "ray_start= np.array([0.4, 0, 0.45], dtype=float)\n",
    "ray_end = np.array([0.4, 1, 0.45], dtype=float)\n",
    "\n",
    "ray = ray_end - ray_start\n",
    "line_list = ['O VI', 'H I', 'C IV']\n",
    "norm_vec = [ray[1], -1*ray[0], 0]"
   ]
  },
  {
   "cell_type": "markdown",
   "metadata": {},
   "source": [
    "## coding up ray"
   ]
  },
  {
   "cell_type": "code",
   "execution_count": 4,
   "metadata": {},
   "outputs": [
    {
     "name": "stderr",
     "output_type": "stream",
     "text": [
      "Parsing Hierarchy : 100%|██████████| 173/173 [00:00<00:00, 6082.52it/s]\n",
      "yt : [INFO     ] 2019-04-02 22:32:45,064 Gathering a field list (this may take a moment.)\n",
      "yt : [INFO     ] 2019-04-02 22:32:46,546 Getting segment at z = 0.0: [0.4  0.   0.45] unitary to [0.4  1.   0.45] unitary.\n",
      "/home/bb/.local/lib/python2.7/site-packages/yt/units/yt_array.py:1394: RuntimeWarning: invalid value encountered in divide\n",
      "  out=out, **kwargs)\n",
      "yt : [INFO     ] 2019-04-02 22:32:46,552 Getting subsegment: [0.4 unitary, 0.0 unitary, 0.45 unitary] to [0.4 unitary, 1.0 unitary, 0.45 unitary].\n",
      "yt : [INFO     ] 2019-04-02 22:32:46,721 Saving field data to yt dataset: ray.h5.\n",
      "yt : [INFO     ] 2019-04-02 22:32:46,961 Parameters: current_time              = 0.0060000200028298 code_time\n",
      "yt : [INFO     ] 2019-04-02 22:32:46,963 Parameters: domain_dimensions         = [2 2 2]\n",
      "yt : [INFO     ] 2019-04-02 22:32:46,965 Parameters: domain_left_edge          = [0. 0. 0.] code_length\n",
      "yt : [INFO     ] 2019-04-02 22:32:46,967 Parameters: domain_right_edge         = [1. 1. 1.] code_length\n",
      "yt : [INFO     ] 2019-04-02 22:32:46,968 Parameters: cosmological_simulation   = 0.0\n"
     ]
    }
   ],
   "source": [
    "ray_start =ds.arr(ray_start, \"code_length\")\n",
    "ray_end = ds.arr(ray_end, \"code_length\")\n",
    "tri_ray = tri.make_simple_ray(ds,\n",
    "                              start_position = ray_start,\n",
    "                              end_position = ray_end,\n",
    "                              lines = line_list,\n",
    "\t\t\t      ftype = 'gas')\n"
   ]
  },
  {
   "cell_type": "code",
   "execution_count": 5,
   "metadata": {
    "scrolled": false
   },
   "outputs": [
    {
     "name": "stderr",
     "output_type": "stream",
     "text": [
      "yt : [INFO     ] 2019-04-02 22:32:47,070 xlim = 0.000000 1.000000\n",
      "yt : [INFO     ] 2019-04-02 22:32:47,073 ylim = 0.000000 1.000000\n",
      "yt : [INFO     ] 2019-04-02 22:32:47,076 xlim = 0.000000 1.000000\n",
      "yt : [INFO     ] 2019-04-02 22:32:47,078 ylim = 0.000000 1.000000\n",
      "yt : [INFO     ] 2019-04-02 22:32:47,081 Making a fixed resolution buffer of (('gas', 'density')) 800 by 800\n",
      "yt : [INFO     ] 2019-04-02 22:32:47,947 Saving plot xSlice.png\n"
     ]
    },
    {
     "data": {
      "text/plain": [
       "['xSlice.png']"
      ]
     },
     "execution_count": 5,
     "metadata": {},
     "output_type": "execute_result"
    }
   ],
   "source": [
    "spx = yt.SlicePlot(ds, 'x', \n",
    "                   'density', \n",
    "                   center = [0.5, 0.5, 0.5],\n",
    "                   width= (1))\n",
    "spx.annotate_ray(tri_ray)\n",
    "spx.save(\"xSlice.png\")"
   ]
  },
  {
   "cell_type": "code",
   "execution_count": 6,
   "metadata": {},
   "outputs": [
    {
     "name": "stderr",
     "output_type": "stream",
     "text": [
      "yt : [WARNING  ] 2019-04-02 22:32:48,462 Ignoring 'north_vector' keyword as it is ill-defined for an AxisAlignedSlicePlot object.\n",
      "yt : [INFO     ] 2019-04-02 22:32:48,485 xlim = 0.000000 1.000000\n",
      "yt : [INFO     ] 2019-04-02 22:32:48,487 ylim = 0.000000 1.000000\n",
      "yt : [INFO     ] 2019-04-02 22:32:48,491 xlim = 0.000000 1.000000\n",
      "yt : [INFO     ] 2019-04-02 22:32:48,492 ylim = 0.000000 1.000000\n",
      "yt : [INFO     ] 2019-04-02 22:32:48,496 Making a fixed resolution buffer of (('gas', 'density')) 800 by 800\n",
      "yt : [INFO     ] 2019-04-02 22:32:48,782 Saving plot slice.png\n"
     ]
    },
    {
     "data": {
      "text/plain": [
       "['slice.png']"
      ]
     },
     "execution_count": 6,
     "metadata": {},
     "output_type": "execute_result"
    }
   ],
   "source": [
    "#want norm vector that would give same result as x-axis slice\n",
    "center = (ray_end + ray_start)/2\n",
    "center[2]=0.5\n",
    "sp_me= yt.SlicePlot(ds, norm_vec, 'density', \n",
    "                    center = center, \n",
    "                    north_vector=[0,0,1],\n",
    "                    width= (1))\n",
    "sp_me.annotate_ray(tri_ray)\n",
    "sp_me.save(\"slice.png\")"
   ]
  },
  {
   "cell_type": "code",
   "execution_count": 7,
   "metadata": {},
   "outputs": [
    {
     "data": {
      "text/plain": [
       "[1.0, -0.0, 0]"
      ]
     },
     "execution_count": 7,
     "metadata": {},
     "output_type": "execute_result"
    }
   ],
   "source": [
    "norm_vec"
   ]
  },
  {
   "cell_type": "code",
   "execution_count": 8,
   "metadata": {},
   "outputs": [
    {
     "data": {
      "text/plain": [
       "YTArray([0.4, 0.5, 0.5]) unitary"
      ]
     },
     "execution_count": 8,
     "metadata": {},
     "output_type": "execute_result"
    }
   ],
   "source": [
    "center"
   ]
  },
  {
   "cell_type": "code",
   "execution_count": 10,
   "metadata": {
    "scrolled": true
   },
   "outputs": [
    {
     "name": "stderr",
     "output_type": "stream",
     "text": [
      "yt : [INFO     ] 2019-04-02 22:34:05,857 Setting instrument to COS-G130M\n",
      "yt : [INFO     ] 2019-04-02 22:34:05,888 Creating spectrum\n",
      "yt : [INFO     ] 2019-04-02 22:34:05,946 12 out of 118 line components will be deposited as unresolved lines.\n",
      "Adding line - O VI 1038 [1037.613000 A]: : 100%|██████████| 118/118 [00:00<00:00, 3438.65it/s]\n",
      "yt : [INFO     ] 2019-04-02 22:34:05,987 13 out of 118 line components will be deposited as unresolved lines.\n",
      "Adding line - O VI 1032 [1031.912000 A]: : 100%|██████████| 118/118 [00:00<00:00, 3091.60it/s]\n",
      "Adding line - Ly a [1215.670000 A]: : 100%|██████████| 118/118 [00:00<00:00, 1866.11it/s]\n",
      "Adding line - Ly b [1025.722200 A]: : 100%|██████████| 118/118 [00:00<00:00, 2328.51it/s]\n",
      "Adding line - Ly c [972.536740 A]: : 100%|██████████| 118/118 [00:00<00:00, 2909.83it/s]\n",
      "Adding line - Ly d [949.742980 A]: : 100%|██████████| 118/118 [00:00<00:00, 3060.55it/s]\n",
      "Adding line - Ly e [937.803400 A]: : 100%|██████████| 118/118 [00:00<00:00, 3007.75it/s]\n",
      "Adding line - Ly 6 [930.748200 A]: : 100%|██████████| 118/118 [00:00<00:00, 3095.49it/s]\n",
      "Adding line - Ly 7 [926.225640 A]: : 100%|██████████| 118/118 [00:00<00:00, 3774.44it/s]\n",
      "Adding line - Ly 8 [923.150300 A]: : 100%|██████████| 118/118 [00:00<00:00, 4534.96it/s]\n",
      "Adding line - Ly 9 [920.963026 A]: : 100%|██████████| 118/118 [00:00<00:00, 4015.51it/s]\n",
      "Adding line - Ly 10 [919.351351 A]: : 100%|██████████| 118/118 [00:00<00:00, 4618.24it/s]\n",
      "Adding line - Ly 11 [918.129312 A]: : 100%|██████████| 118/118 [00:00<00:00, 4593.26it/s]\n",
      "Adding line - Ly 12 [917.180525 A]: : 100%|██████████| 118/118 [00:00<00:00, 4517.79it/s]\n",
      "Adding line - Ly 13 [916.429085 A]: : 100%|██████████| 118/118 [00:00<00:00, 4678.09it/s]\n",
      "Adding line - Ly 14 [915.823759 A]: : 100%|██████████| 118/118 [00:00<00:00, 4342.54it/s]\n",
      "Adding line - Ly 15 [915.328939 A]: : 100%|██████████| 118/118 [00:00<00:00, 4981.21it/s]\n",
      "Adding line - Ly 16 [914.919249 A]: : 100%|██████████| 118/118 [00:00<00:00, 4700.97it/s]\n",
      "Adding line - Ly 17 [914.576207 A]: : 100%|██████████| 118/118 [00:00<00:00, 4415.02it/s]\n",
      "Adding line - Ly 18 [914.286092 A]: : 100%|██████████| 118/118 [00:00<00:00, 4314.15it/s]\n",
      "Adding line - Ly 19 [914.038542 A]: : 100%|██████████| 118/118 [00:00<00:00, 4777.11it/s]\n",
      "Adding line - Ly 20 [913.825614 A]: : 100%|██████████| 118/118 [00:00<00:00, 4692.77it/s]\n",
      "Adding line - Ly 21 [913.641137 A]: : 100%|██████████| 118/118 [00:00<00:00, 4913.61it/s]\n",
      "Adding line - Ly 22 [913.480256 A]: : 100%|██████████| 118/118 [00:00<00:00, 4620.40it/s]\n",
      "Adding line - Ly 23 [913.339110 A]: : 100%|██████████| 118/118 [00:00<00:00, 5140.51it/s]\n",
      "Adding line - Ly 24 [913.214596 A]: : 100%|██████████| 118/118 [00:00<00:00, 4777.71it/s]\n",
      "Adding line - Ly 25 [913.104199 A]: : 100%|██████████| 118/118 [00:00<00:00, 4880.46it/s]\n",
      "Adding line - Ly 26 [913.005863 A]: : 100%|██████████| 118/118 [00:00<00:00, 4651.88it/s]\n",
      "Adding line - Ly 27 [912.917891 A]: : 100%|██████████| 118/118 [00:00<00:00, 5353.70it/s]\n",
      "Adding line - Ly 28 [912.838877 A]: : 100%|██████████| 118/118 [00:00<00:00, 4366.79it/s]\n",
      "Adding line - Ly 29 [912.767643 A]: : 100%|██████████| 118/118 [00:00<00:00, 4650.40it/s]\n",
      "Adding line - Ly 30 [912.703200 A]: : 100%|██████████| 118/118 [00:00<00:00, 5197.51it/s]\n",
      "Adding line - Ly 31 [912.644712 A]: : 100%|██████████| 118/118 [00:00<00:00, 4614.41it/s]\n",
      "Adding line - Ly 32 [912.591467 A]: : 100%|██████████| 118/118 [00:00<00:00, 4713.24it/s]\n",
      "Adding line - Ly 33 [912.542856 A]: : 100%|██████████| 118/118 [00:00<00:00, 4762.31it/s]\n",
      "Adding line - Ly 34 [912.498356 A]: : 100%|██████████| 118/118 [00:00<00:00, 4548.26it/s]\n",
      "Adding line - Ly 35 [912.457516 A]: : 100%|██████████| 118/118 [00:00<00:00, 5154.64it/s]\n",
      "Adding line - Ly 36 [912.419946 A]: : 100%|██████████| 118/118 [00:00<00:00, 4627.96it/s]\n",
      "Adding line - Ly 37 [912.385306 A]: : 100%|██████████| 118/118 [00:00<00:00, 4856.57it/s]\n",
      "Adding line - Ly 38 [912.353298 A]: : 100%|██████████| 118/118 [00:00<00:00, 4548.26it/s]\n",
      "Adding line - Ly 39 [912.323663 A]: : 100%|██████████| 118/118 [00:00<00:00, 4647.12it/s]\n",
      "Adding line - C IV 1551 [1550.772000 A]: : 100%|██████████| 118/118 [00:00<00:00, 4037.10it/s]\n",
      "Adding line - C IV 1548 [1548.187000 A]: : 100%|██████████| 118/118 [00:00<00:00, 4106.33it/s]\n",
      "yt : [INFO     ] 2019-04-02 22:34:07,419 Not adding continuum Ly C: insufficient column density or out of range\n"
     ]
    }
   ],
   "source": [
    "sg = tri.SpectrumGenerator('COS-G130M')\n",
    "spect = sg.make_spectrum(tri_ray, lines=line_list)\n",
    "\n",
    "#s =sg.plot_spectrum('spec_raw.png')"
   ]
  },
  {
   "cell_type": "code",
   "execution_count": 11,
   "metadata": {},
   "outputs": [
    {
     "name": "stderr",
     "output_type": "stream",
     "text": [
      "yt : [INFO     ] 2019-04-02 22:40:11,772 Writing spectrum to hdf5 file: spect.h5.\n"
     ]
    }
   ],
   "source": [
    "sg.save_spectrum(\"spect.h5\")"
   ]
  },
  {
   "cell_type": "code",
   "execution_count": 56,
   "metadata": {},
   "outputs": [
    {
     "data": {
      "text/plain": [
       "'C_p3'"
      ]
     },
     "execution_count": 56,
     "metadata": {},
     "output_type": "execute_result"
    }
   ],
   "source": [
    "def ion_p_name(ion):\n",
    "    return ion.split()[0]+'_p'+str(tri.from_roman(ion.split()[1])-1)\n",
    "\n",
    "i = 'C IV'\n",
    "ion_p_name(i)"
   ]
  },
  {
   "cell_type": "code",
   "execution_count": 49,
   "metadata": {},
   "outputs": [],
   "source": [
    "import h5py"
   ]
  },
  {
   "cell_type": "code",
   "execution_count": 57,
   "metadata": {},
   "outputs": [],
   "source": [
    "ray = h5py.File(\"ray.h5\")\n",
    "i.split?"
   ]
  },
  {
   "cell_type": "code",
   "execution_count": 51,
   "metadata": {},
   "outputs": [
    {
     "data": {
      "text/plain": [
       "<HDF5 dataset \"dl\": shape (118,), type \"<f8\">"
      ]
     },
     "execution_count": 51,
     "metadata": {},
     "output_type": "execute_result"
    }
   ],
   "source": [
    "ray[\"grid\"]['dl']"
   ]
  },
  {
   "cell_type": "code",
   "execution_count": 52,
   "metadata": {},
   "outputs": [
    {
     "ename": "ValueError",
     "evalue": "No name (no name)",
     "output_type": "error",
     "traceback": [
      "\u001b[0;31m---------------------------------------------------------------------------\u001b[0m",
      "\u001b[0;31mValueError\u001b[0m                                Traceback (most recent call last)",
      "\u001b[0;32m<ipython-input-52-304c6354683b>\u001b[0m in \u001b[0;36m<module>\u001b[0;34m()\u001b[0m\n\u001b[0;32m----> 1\u001b[0;31m \u001b[0mray\u001b[0m\u001b[0;34m[\u001b[0m\u001b[0;34m'grid'\u001b[0m\u001b[0;34m]\u001b[0m\u001b[0;34m[\u001b[0m\u001b[0;34m''\u001b[0m\u001b[0;34m]\u001b[0m\u001b[0;34m\u001b[0m\u001b[0m\n\u001b[0m",
      "\u001b[0;32mh5py/_objects.pyx\u001b[0m in \u001b[0;36mh5py._objects.with_phil.wrapper\u001b[0;34m()\u001b[0m\n",
      "\u001b[0;32mh5py/_objects.pyx\u001b[0m in \u001b[0;36mh5py._objects.with_phil.wrapper\u001b[0;34m()\u001b[0m\n",
      "\u001b[0;32m/home/bb/.local/lib/python2.7/site-packages/h5py/_hl/group.pyc\u001b[0m in \u001b[0;36m__getitem__\u001b[0;34m(self, name)\u001b[0m\n\u001b[1;32m    260\u001b[0m                 \u001b[0;32mraise\u001b[0m \u001b[0mValueError\u001b[0m\u001b[0;34m(\u001b[0m\u001b[0;34m\"Invalid HDF5 object reference\"\u001b[0m\u001b[0;34m)\u001b[0m\u001b[0;34m\u001b[0m\u001b[0m\n\u001b[1;32m    261\u001b[0m         \u001b[0;32melse\u001b[0m\u001b[0;34m:\u001b[0m\u001b[0;34m\u001b[0m\u001b[0m\n\u001b[0;32m--> 262\u001b[0;31m             \u001b[0moid\u001b[0m \u001b[0;34m=\u001b[0m \u001b[0mh5o\u001b[0m\u001b[0;34m.\u001b[0m\u001b[0mopen\u001b[0m\u001b[0;34m(\u001b[0m\u001b[0mself\u001b[0m\u001b[0;34m.\u001b[0m\u001b[0mid\u001b[0m\u001b[0;34m,\u001b[0m \u001b[0mself\u001b[0m\u001b[0;34m.\u001b[0m\u001b[0m_e\u001b[0m\u001b[0;34m(\u001b[0m\u001b[0mname\u001b[0m\u001b[0;34m)\u001b[0m\u001b[0;34m,\u001b[0m \u001b[0mlapl\u001b[0m\u001b[0;34m=\u001b[0m\u001b[0mself\u001b[0m\u001b[0;34m.\u001b[0m\u001b[0m_lapl\u001b[0m\u001b[0;34m)\u001b[0m\u001b[0;34m\u001b[0m\u001b[0m\n\u001b[0m\u001b[1;32m    263\u001b[0m \u001b[0;34m\u001b[0m\u001b[0m\n\u001b[1;32m    264\u001b[0m         \u001b[0motype\u001b[0m \u001b[0;34m=\u001b[0m \u001b[0mh5i\u001b[0m\u001b[0;34m.\u001b[0m\u001b[0mget_type\u001b[0m\u001b[0;34m(\u001b[0m\u001b[0moid\u001b[0m\u001b[0;34m)\u001b[0m\u001b[0;34m\u001b[0m\u001b[0m\n",
      "\u001b[0;32mh5py/_objects.pyx\u001b[0m in \u001b[0;36mh5py._objects.with_phil.wrapper\u001b[0;34m()\u001b[0m\n",
      "\u001b[0;32mh5py/_objects.pyx\u001b[0m in \u001b[0;36mh5py._objects.with_phil.wrapper\u001b[0;34m()\u001b[0m\n",
      "\u001b[0;32mh5py/h5o.pyx\u001b[0m in \u001b[0;36mh5py.h5o.open\u001b[0;34m()\u001b[0m\n",
      "\u001b[0;31mValueError\u001b[0m: No name (no name)"
     ]
    }
   ],
   "source": [
    "ray['grid']['']"
   ]
  },
  {
   "cell_type": "code",
   "execution_count": 53,
   "metadata": {},
   "outputs": [
    {
     "ename": "KeyError",
     "evalue": "\"Unable to open object (object 'Cp4_number_density' doesn't exist)\"",
     "output_type": "error",
     "traceback": [
      "\u001b[0;31m---------------------------------------------------------------------------\u001b[0m",
      "\u001b[0;31mKeyError\u001b[0m                                  Traceback (most recent call last)",
      "\u001b[0;32m<ipython-input-53-2b492147d1da>\u001b[0m in \u001b[0;36m<module>\u001b[0;34m()\u001b[0m\n\u001b[1;32m      1\u001b[0m \u001b[0mion\u001b[0m\u001b[0;34m=\u001b[0m\u001b[0;34m'H I'\u001b[0m\u001b[0;34m\u001b[0m\u001b[0m\n\u001b[0;32m----> 2\u001b[0;31m \u001b[0mray\u001b[0m\u001b[0;34m[\u001b[0m\u001b[0;34m'grid'\u001b[0m\u001b[0;34m]\u001b[0m\u001b[0;34m[\u001b[0m\u001b[0;34m'Cp4_number_density'\u001b[0m\u001b[0;34m]\u001b[0m\u001b[0;34m\u001b[0m\u001b[0m\n\u001b[0m",
      "\u001b[0;32mh5py/_objects.pyx\u001b[0m in \u001b[0;36mh5py._objects.with_phil.wrapper\u001b[0;34m()\u001b[0m\n",
      "\u001b[0;32mh5py/_objects.pyx\u001b[0m in \u001b[0;36mh5py._objects.with_phil.wrapper\u001b[0;34m()\u001b[0m\n",
      "\u001b[0;32m/home/bb/.local/lib/python2.7/site-packages/h5py/_hl/group.pyc\u001b[0m in \u001b[0;36m__getitem__\u001b[0;34m(self, name)\u001b[0m\n\u001b[1;32m    260\u001b[0m                 \u001b[0;32mraise\u001b[0m \u001b[0mValueError\u001b[0m\u001b[0;34m(\u001b[0m\u001b[0;34m\"Invalid HDF5 object reference\"\u001b[0m\u001b[0;34m)\u001b[0m\u001b[0;34m\u001b[0m\u001b[0m\n\u001b[1;32m    261\u001b[0m         \u001b[0;32melse\u001b[0m\u001b[0;34m:\u001b[0m\u001b[0;34m\u001b[0m\u001b[0m\n\u001b[0;32m--> 262\u001b[0;31m             \u001b[0moid\u001b[0m \u001b[0;34m=\u001b[0m \u001b[0mh5o\u001b[0m\u001b[0;34m.\u001b[0m\u001b[0mopen\u001b[0m\u001b[0;34m(\u001b[0m\u001b[0mself\u001b[0m\u001b[0;34m.\u001b[0m\u001b[0mid\u001b[0m\u001b[0;34m,\u001b[0m \u001b[0mself\u001b[0m\u001b[0;34m.\u001b[0m\u001b[0m_e\u001b[0m\u001b[0;34m(\u001b[0m\u001b[0mname\u001b[0m\u001b[0;34m)\u001b[0m\u001b[0;34m,\u001b[0m \u001b[0mlapl\u001b[0m\u001b[0;34m=\u001b[0m\u001b[0mself\u001b[0m\u001b[0;34m.\u001b[0m\u001b[0m_lapl\u001b[0m\u001b[0;34m)\u001b[0m\u001b[0;34m\u001b[0m\u001b[0m\n\u001b[0m\u001b[1;32m    263\u001b[0m \u001b[0;34m\u001b[0m\u001b[0m\n\u001b[1;32m    264\u001b[0m         \u001b[0motype\u001b[0m \u001b[0;34m=\u001b[0m \u001b[0mh5i\u001b[0m\u001b[0;34m.\u001b[0m\u001b[0mget_type\u001b[0m\u001b[0;34m(\u001b[0m\u001b[0moid\u001b[0m\u001b[0;34m)\u001b[0m\u001b[0;34m\u001b[0m\u001b[0m\n",
      "\u001b[0;32mh5py/_objects.pyx\u001b[0m in \u001b[0;36mh5py._objects.with_phil.wrapper\u001b[0;34m()\u001b[0m\n",
      "\u001b[0;32mh5py/_objects.pyx\u001b[0m in \u001b[0;36mh5py._objects.with_phil.wrapper\u001b[0;34m()\u001b[0m\n",
      "\u001b[0;32mh5py/h5o.pyx\u001b[0m in \u001b[0;36mh5py.h5o.open\u001b[0;34m()\u001b[0m\n",
      "\u001b[0;31mKeyError\u001b[0m: \"Unable to open object (object 'Cp4_number_density' doesn't exist)\""
     ]
    }
   ],
   "source": [
    "ion='H I'\n",
    "ray['grid']['Cp4_number_density']"
   ]
  },
  {
   "cell_type": "code",
   "execution_count": 54,
   "metadata": {},
   "outputs": [],
   "source": [
    "ray.close()"
   ]
  },
  {
   "cell_type": "code",
   "execution_count": 15,
   "metadata": {},
   "outputs": [],
   "source": [
    "import matplotlib.pyplot as plt\n",
    "%matplotlib inline"
   ]
  },
  {
   "cell_type": "code",
   "execution_count": 18,
   "metadata": {},
   "outputs": [],
   "source": [
    "x = np.arange(0, 5)"
   ]
  },
  {
   "cell_type": "code",
   "execution_count": 19,
   "metadata": {},
   "outputs": [],
   "source": [
    "y = np.array([2, 4, 6, 8, 10])"
   ]
  },
  {
   "cell_type": "code",
   "execution_count": 68,
   "metadata": {},
   "outputs": [
    {
     "data": {
      "image/png": "[encoded data removed]",
      "text/plain": [
       "<Figure size 432x288 with 1 Axes>"
      ]
     },
     "metadata": {
      "needs_background": "light"
     },
     "output_type": "display_data"
    }
   ],
   "source": [
    "fig = plt.figure()\n",
    "plot = plt.plot(x,y)"
   ]
  },
  {
   "cell_type": "code",
   "execution_count": 12,
   "metadata": {},
   "outputs": [],
   "source": [
    "def pp():\n",
    "    plt.plot(x, y)"
   ]
  },
  {
   "cell_type": "code",
   "execution_count": 69,
   "metadata": {
    "scrolled": true
   },
   "outputs": [
    {
     "data": {
      "image/png": "[encoded data removed]",
      "text/plain": [
       "<Figure size 432x288 with 1 Axes>"
      ]
     },
     "execution_count": 69,
     "metadata": {},
     "output_type": "execute_result"
    }
   ],
   "source": [
    "fig"
   ]
  },
  {
   "cell_type": "code",
   "execution_count": 20,
   "metadata": {},
   "outputs": [
    {
     "data": {
      "image/png": "[encoded data removed]",
      "text/plain": [
       "<Figure size 432x288 with 1 Axes>"
      ]
     },
     "metadata": {
      "needs_background": "light"
     },
     "output_type": "display_data"
    }
   ],
   "source": [
    "figu = plt.figure()\n",
    "figu.add_subplot(121)\n",
    "pp()"
   ]
  },
  {
   "cell_type": "code",
   "execution_count": 21,
   "metadata": {},
   "outputs": [],
   "source": [
    "import h5py"
   ]
  },
  {
   "cell_type": "code",
   "execution_count": 22,
   "metadata": {},
   "outputs": [],
   "source": [
    "s = h5py.File('ray.h5')"
   ]
  },
  {
   "cell_type": "code",
   "execution_count": 23,
   "metadata": {},
   "outputs": [],
   "source": [
    "s.close()\n"
   ]
  },
  {
   "cell_type": "code",
   "execution_count": 24,
   "metadata": {},
   "outputs": [
    {
     "data": {
      "text/plain": [
       "<Closed HDF5 file>"
      ]
     },
     "execution_count": 24,
     "metadata": {},
     "output_type": "execute_result"
    }
   ],
   "source": [
    "s"
   ]
  },
  {
   "cell_type": "code",
   "execution_count": 25,
   "metadata": {},
   "outputs": [],
   "source": [
    "from os import system"
   ]
  },
  {
   "cell_type": "code",
   "execution_count": 34,
   "metadata": {},
   "outputs": [
    {
     "name": "stdout",
     "output_type": "stream",
     "text": [
      "0\n"
     ]
    }
   ],
   "source": [
    "print(system(\"touch x\"))\n"
   ]
  },
  {
   "cell_type": "code",
   "execution_count": 37,
   "metadata": {
    "scrolled": true
   },
   "outputs": [
    {
     "name": "stdout",
     "output_type": "stream",
     "text": [
      "plot_slice_ndpl_spectra.py\tslice_and_ray.py   spec_raw.png\r\n",
      "plot_slice_ndpl_spectra.pyc\tslice_nope.png\t   spect.h5\r\n",
      "ray.h5\t\t\t\tslice.png\t   xSlice_nope.png\r\n",
      "slice_and_ray_playground.ipynb\tspec_raw_nope.png  xSlice.png\r\n"
     ]
    }
   ],
   "source": [
    "! ls\n"
   ]
  },
  {
   "cell_type": "code",
   "execution_count": 33,
   "metadata": {},
   "outputs": [],
   "source": [
    "from os import remove"
   ]
  },
  {
   "cell_type": "code",
   "execution_count": 38,
   "metadata": {},
   "outputs": [
    {
     "ename": "OSError",
     "evalue": "[Errno 2] No such file or directory: 'x'",
     "output_type": "error",
     "traceback": [
      "\u001b[0;31m---------------------------------------------------------------------------\u001b[0m",
      "\u001b[0;31mOSError\u001b[0m                                   Traceback (most recent call last)",
      "\u001b[0;32m<ipython-input-38-acce22370372>\u001b[0m in \u001b[0;36m<module>\u001b[0;34m()\u001b[0m\n\u001b[0;32m----> 1\u001b[0;31m \u001b[0mremove\u001b[0m\u001b[0;34m(\u001b[0m\u001b[0;34m'x'\u001b[0m\u001b[0;34m)\u001b[0m\u001b[0;34m\u001b[0m\u001b[0m\n\u001b[0m",
      "\u001b[0;31mOSError\u001b[0m: [Errno 2] No such file or directory: 'x'"
     ]
    }
   ],
   "source": [
    "remove('x')"
   ]
  },
  {
   "cell_type": "code",
   "execution_count": null,
   "metadata": {},
   "outputs": [],
   "source": []
  }
 ],
 "metadata": {
  "kernelspec": {
   "display_name": "Python 3",
   "language": "python",
   "name": "python3"
  },
  "language_info": {
   "codemirror_mode": {
    "name": "ipython",
    "version": 2
   },
   "file_extension": ".py",
   "mimetype": "text/x-python",
   "name": "python",
   "nbconvert_exporter": "python",
   "pygments_lexer": "ipython2",
   "version": "2.7.15rc1"
  }
 },
 "nbformat": 4,
 "nbformat_minor": 2
}
