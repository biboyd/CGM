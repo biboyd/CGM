{
 "cells": [
  {
   "cell_type": "code",
   "execution_count": 1,
   "metadata": {
    "scrolled": true
   },
   "outputs": [],
   "source": [
    "import yt\n",
    "import numpy as np\n",
    "import trident as tri"
   ]
  },
  {
   "cell_type": "code",
   "execution_count": 2,
   "metadata": {},
   "outputs": [],
   "source": [
    "filename = \"~/Repo/yt/doc/source/quickstart/IsolatedGalaxy/galaxy0030/galaxy0030\""
   ]
  },
  {
   "cell_type": "code",
   "execution_count": 154,
   "metadata": {},
   "outputs": [
    {
     "name": "stderr",
     "output_type": "stream",
     "text": [
      "yt : [INFO     ] 2019-03-20 23:06:48,055 Parameters: current_time              = 0.00600002000283\n",
      "yt : [INFO     ] 2019-03-20 23:06:48,057 Parameters: domain_dimensions         = [32 32 32]\n",
      "yt : [INFO     ] 2019-03-20 23:06:48,059 Parameters: domain_left_edge          = [0. 0. 0.]\n",
      "yt : [INFO     ] 2019-03-20 23:06:48,060 Parameters: domain_right_edge         = [1. 1. 1.]\n",
      "yt : [INFO     ] 2019-03-20 23:06:48,062 Parameters: cosmological_simulation   = 0.0\n"
     ]
    }
   ],
   "source": [
    "ds = yt.load(filename)\n",
    "\n",
    "ray_start= np.array([0.4, 0, 0.45], dtype=float)\n",
    "ray_end = np.array([0.4, 1, 0.45], dtype=float)\n",
    "\n",
    "ray = ray_end - ray_start\n",
    "line_list = ['H', 'Si', 'Mg II', 'C II 1335']\n",
    "norm_vec = [ray[1], -1*ray[0], 0]"
   ]
  },
  {
   "cell_type": "markdown",
   "metadata": {},
   "source": [
    "## coding up ray"
   ]
  },
  {
   "cell_type": "code",
   "execution_count": 155,
   "metadata": {},
   "outputs": [
    {
     "name": "stderr",
     "output_type": "stream",
     "text": [
      "Parsing Hierarchy : 100%|██████████| 173/173 [00:00<00:00, 4232.12it/s]\n",
      "yt : [INFO     ] 2019-03-20 23:06:48,855 Gathering a field list (this may take a moment.)\n",
      "yt : [INFO     ] 2019-03-20 23:06:50,291 Getting segment at z = 0.0: [0.4  0.   0.45] unitary to [0.4  1.   0.45] unitary.\n",
      "yt : [INFO     ] 2019-03-20 23:06:50,295 Getting subsegment: [0.4 unitary, 0.0 unitary, 0.45 unitary] to [0.4 unitary, 1.0 unitary, 0.45 unitary].\n",
      "yt : [INFO     ] 2019-03-20 23:06:50,374 Saving field data to yt dataset: ray.h5.\n",
      "yt : [INFO     ] 2019-03-20 23:06:50,616 Parameters: current_time              = 0.0060000200028298 code_time\n",
      "yt : [INFO     ] 2019-03-20 23:06:50,617 Parameters: domain_dimensions         = [2 2 2]\n",
      "yt : [INFO     ] 2019-03-20 23:06:50,619 Parameters: domain_left_edge          = [0. 0. 0.] code_length\n",
      "yt : [INFO     ] 2019-03-20 23:06:50,621 Parameters: domain_right_edge         = [1. 1. 1.] code_length\n",
      "yt : [INFO     ] 2019-03-20 23:06:50,623 Parameters: cosmological_simulation   = 0.0\n"
     ]
    }
   ],
   "source": [
    "ray_start =ds.arr(ray_start, \"code_length\")\n",
    "ray_end = ds.arr(ray_end, \"code_length\")\n",
    "tri_ray = tri.make_simple_ray(ds,\n",
    "                              start_position = ray_start,\n",
    "                              end_position = ray_end,\n",
    "                              lines = line_list,\n",
    "\t\t\t      ftype = 'gas')\n"
   ]
  },
  {
   "cell_type": "code",
   "execution_count": 156,
   "metadata": {
    "scrolled": false
   },
   "outputs": [
    {
     "name": "stderr",
     "output_type": "stream",
     "text": [
      "yt : [INFO     ] 2019-03-20 23:06:50,672 xlim = 0.000000 1.000000\n",
      "yt : [INFO     ] 2019-03-20 23:06:50,673 ylim = 0.000000 1.000000\n",
      "yt : [INFO     ] 2019-03-20 23:06:50,675 xlim = 0.000000 1.000000\n",
      "yt : [INFO     ] 2019-03-20 23:06:50,678 ylim = 0.000000 1.000000\n",
      "yt : [INFO     ] 2019-03-20 23:06:50,680 Making a fixed resolution buffer of (('gas', 'density')) 800 by 800\n",
      "yt : [INFO     ] 2019-03-20 23:06:51,040 Saving plot xSlice.png\n"
     ]
    },
    {
     "data": {
      "text/plain": [
       "['xSlice.png']"
      ]
     },
     "execution_count": 156,
     "metadata": {},
     "output_type": "execute_result"
    }
   ],
   "source": [
    "spx = yt.SlicePlot(ds, 'x', \n",
    "                   'density', \n",
    "                   center = [0.5, 0.5, 0.5],\n",
    "                   width= (1))\n",
    "spx.annotate_ray(tri_ray)\n",
    "spx.save(\"xSlice.png\")"
   ]
  },
  {
   "cell_type": "code",
   "execution_count": 157,
   "metadata": {},
   "outputs": [
    {
     "name": "stderr",
     "output_type": "stream",
     "text": [
      "yt : [WARNING  ] 2019-03-20 23:06:51,533 Ignoring 'north_vector' keyword as it is ill-defined for an AxisAlignedSlicePlot object.\n",
      "yt : [INFO     ] 2019-03-20 23:06:51,563 xlim = 0.000000 1.000000\n",
      "yt : [INFO     ] 2019-03-20 23:06:51,565 ylim = 0.000000 1.000000\n",
      "yt : [INFO     ] 2019-03-20 23:06:51,567 xlim = 0.000000 1.000000\n",
      "yt : [INFO     ] 2019-03-20 23:06:51,569 ylim = 0.000000 1.000000\n",
      "yt : [INFO     ] 2019-03-20 23:06:51,573 Making a fixed resolution buffer of (('gas', 'density')) 800 by 800\n",
      "yt : [INFO     ] 2019-03-20 23:06:51,905 Saving plot slice.png\n"
     ]
    },
    {
     "data": {
      "text/plain": [
       "['slice.png']"
      ]
     },
     "execution_count": 157,
     "metadata": {},
     "output_type": "execute_result"
    }
   ],
   "source": [
    "#want norm vector that would give same result as x-axis slice\n",
    "center = (ray_end + ray_start)/2\n",
    "center[2]=0.5\n",
    "sp_me= yt.SlicePlot(ds, norm_vec, 'density', \n",
    "                    center = center, \n",
    "                    north_vector=[0,0,1],\n",
    "                    width= (1))\n",
    "sp_me.annotate_ray(tri_ray)\n",
    "sp_me.save(\"slice.png\")"
   ]
  },
  {
   "cell_type": "code",
   "execution_count": 158,
   "metadata": {},
   "outputs": [
    {
     "data": {
      "text/plain": [
       "[1.0, -0.0, 0]"
      ]
     },
     "execution_count": 158,
     "metadata": {},
     "output_type": "execute_result"
    }
   ],
   "source": [
    "norm_vec"
   ]
  },
  {
   "cell_type": "code",
   "execution_count": 159,
   "metadata": {},
   "outputs": [
    {
     "data": {
      "text/plain": [
       "YTArray([0.4, 0.5, 0.5]) unitary"
      ]
     },
     "execution_count": 159,
     "metadata": {},
     "output_type": "execute_result"
    }
   ],
   "source": [
    "center"
   ]
  },
  {
   "cell_type": "code",
   "execution_count": 160,
   "metadata": {
    "scrolled": true
   },
   "outputs": [
    {
     "name": "stderr",
     "output_type": "stream",
     "text": [
      "yt : [INFO     ] 2019-03-20 23:06:52,284 Setting instrument to COS-G130M\n",
      "yt : [INFO     ] 2019-03-20 23:06:52,337 Allocating for 1.180e+02 particles (index particle type 'all')\n",
      "yt : [INFO     ] 2019-03-20 23:06:52,342 Identified 7.300e+01 octs\n",
      "yt : [INFO     ] 2019-03-20 23:06:52,658 Creating Si_p1_number_density from ray's density, temperature, metallicity.\n",
      "yt : [INFO     ] 2019-03-20 23:06:52,672 Creating Si_p2_number_density from ray's density, temperature, metallicity.\n",
      "yt : [INFO     ] 2019-03-20 23:06:52,681 Creating Si_p3_number_density from ray's density, temperature, metallicity.\n",
      "yt : [INFO     ] 2019-03-20 23:06:52,690 Creating Si_p11_number_density from ray's density, temperature, metallicity.\n",
      "yt : [INFO     ] 2019-03-20 23:06:52,703 Creating Mg_p1_number_density from ray's density, temperature, metallicity.\n",
      "yt : [INFO     ] 2019-03-20 23:06:52,717 Creating C_p1_number_density from ray's density, temperature, metallicity.\n",
      "yt : [INFO     ] 2019-03-20 23:06:52,730 Creating spectrum\n",
      "Adding line - Ly a [1215.670000 A]: : 100%|██████████| 118/118 [00:00<00:00, 802.77it/s]\n",
      "Adding line - Ly b [1025.722200 A]: : 100%|██████████| 118/118 [00:00<00:00, 908.75it/s]\n",
      "Adding line - Ly c [972.536740 A]: : 100%|██████████| 118/118 [00:00<00:00, 1096.40it/s]\n",
      "Adding line - Ly d [949.742980 A]: : 100%|██████████| 118/118 [00:00<00:00, 1260.54it/s]\n",
      "Adding line - Ly e [937.803400 A]: : 100%|██████████| 118/118 [00:00<00:00, 1395.48it/s]\n",
      "Adding line - Ly 6 [930.748200 A]: : 100%|██████████| 118/118 [00:00<00:00, 1681.27it/s]\n",
      "Adding line - Ly 7 [926.225640 A]: : 100%|██████████| 118/118 [00:00<00:00, 1867.33it/s]\n",
      "Adding line - Ly 8 [923.150300 A]: : 100%|██████████| 118/118 [00:00<00:00, 2045.60it/s]\n",
      "Adding line - Ly 9 [920.963026 A]: : 100%|██████████| 118/118 [00:00<00:00, 2407.62it/s]\n",
      "Adding line - Ly 10 [919.351351 A]: : 100%|██████████| 118/118 [00:00<00:00, 2302.75it/s]\n",
      "Adding line - Ly 11 [918.129312 A]: : 100%|██████████| 118/118 [00:00<00:00, 2407.04it/s]\n",
      "Adding line - Ly 12 [917.180525 A]: : 100%|██████████| 118/118 [00:00<00:00, 2544.86it/s]\n",
      "Adding line - Ly 13 [916.429085 A]: : 100%|██████████| 118/118 [00:00<00:00, 2601.93it/s]\n",
      "Adding line - Ly 14 [915.823759 A]: : 100%|██████████| 118/118 [00:00<00:00, 2698.63it/s]\n",
      "Adding line - Ly 15 [915.328939 A]: : 100%|██████████| 118/118 [00:00<00:00, 2895.08it/s]\n",
      "Adding line - Ly 16 [914.919249 A]: : 100%|██████████| 118/118 [00:00<00:00, 2665.76it/s]\n",
      "Adding line - Ly 17 [914.576207 A]: : 100%|██████████| 118/118 [00:00<00:00, 2704.80it/s]\n",
      "Adding line - Ly 18 [914.286092 A]: : 100%|██████████| 118/118 [00:00<00:00, 2378.69it/s]\n",
      "Adding line - Ly 19 [914.038542 A]: : 100%|██████████| 118/118 [00:00<00:00, 2468.57it/s]\n",
      "Adding line - Ly 20 [913.825614 A]: : 100%|██████████| 118/118 [00:00<00:00, 2459.87it/s]\n",
      "Adding line - Ly 21 [913.641137 A]: : 100%|██████████| 118/118 [00:00<00:00, 2660.12it/s]\n",
      "Adding line - Ly 22 [913.480256 A]: : 100%|██████████| 118/118 [00:00<00:00, 2649.48it/s]\n",
      "Adding line - Ly 23 [913.339110 A]: : 100%|██████████| 118/118 [00:00<00:00, 2623.97it/s]\n",
      "Adding line - Ly 24 [913.214596 A]: : 100%|██████████| 118/118 [00:00<00:00, 2603.99it/s]\n",
      "Adding line - Ly 25 [913.104199 A]: : 100%|██████████| 118/118 [00:00<00:00, 2528.99it/s]\n",
      "Adding line - Ly 26 [913.005863 A]: : 100%|██████████| 118/118 [00:00<00:00, 2064.20it/s]\n",
      "Adding line - Ly 27 [912.917891 A]: : 100%|██████████| 118/118 [00:00<00:00, 2050.14it/s]\n",
      "Adding line - Ly 28 [912.838877 A]: : 100%|██████████| 118/118 [00:00<00:00, 2063.55it/s]\n",
      "Adding line - Ly 29 [912.767643 A]: : 100%|██████████| 118/118 [00:00<00:00, 1968.04it/s]\n",
      "Adding line - Ly 30 [912.703200 A]: : 100%|██████████| 118/118 [00:00<00:00, 1967.98it/s]\n",
      "Adding line - Ly 31 [912.644712 A]: : 100%|██████████| 118/118 [00:00<00:00, 2012.93it/s]\n",
      "Adding line - Ly 32 [912.591467 A]: : 100%|██████████| 118/118 [00:00<00:00, 1943.07it/s]\n",
      "Adding line - Ly 33 [912.542856 A]: : 100%|██████████| 118/118 [00:00<00:00, 2184.34it/s]\n",
      "Adding line - Ly 34 [912.498356 A]: : 100%|██████████| 118/118 [00:00<00:00, 2238.20it/s]\n",
      "Adding line - Ly 35 [912.457516 A]: : 100%|██████████| 118/118 [00:00<00:00, 2091.71it/s]\n",
      "Adding line - Ly 36 [912.419946 A]: : 100%|██████████| 118/118 [00:00<00:00, 2240.27it/s]\n",
      "Adding line - Ly 37 [912.385306 A]: : 100%|██████████| 118/118 [00:00<00:00, 2251.35it/s]\n",
      "Adding line - Ly 38 [912.353298 A]: : 100%|██████████| 118/118 [00:00<00:00, 2735.09it/s]\n",
      "Adding line - Ly 39 [912.323663 A]: : 100%|██████████| 118/118 [00:00<00:00, 2765.86it/s]\n",
      "Adding line - Si II* 1817 [1816.928000 A]: : 100%|██████████| 118/118 [00:00<00:00, 4609.55it/s]\n",
      "yt : [INFO     ] 2019-03-20 23:06:55,300 1 out of 118 line components will be deposited as unresolved lines.\n",
      "Adding line - Si II 1808 [1808.013000 A]: : 100%|██████████| 118/118 [00:00<00:00, 4632.51it/s]\n",
      "yt : [INFO     ] 2019-03-20 23:06:55,334 35 out of 118 line components will be deposited as unresolved lines.\n",
      "Adding line - Si II* 1309 [1309.276000 A]: : 100%|██████████| 118/118 [00:00<00:00, 3782.18it/s]\n",
      "yt : [INFO     ] 2019-03-20 23:06:55,371 35 out of 118 line components will be deposited as unresolved lines.\n",
      "Adding line - Si II 1304 [1304.370000 A]: : 100%|██████████| 118/118 [00:00<00:00, 3502.20it/s]\n",
      "yt : [INFO     ] 2019-03-20 23:06:55,411 77 out of 118 line components will be deposited as unresolved lines.\n",
      "Adding line - Si II* 1265 [1264.738000 A]: : 100%|██████████| 118/118 [00:00<00:00, 3981.11it/s]\n",
      "yt : [INFO     ] 2019-03-20 23:06:55,447 80 out of 118 line components will be deposited as unresolved lines.\n",
      "Adding line - Si II 1260 [1260.422000 A]: : 100%|██████████| 118/118 [00:00<00:00, 3590.88it/s]\n",
      "yt : [INFO     ] 2019-03-20 23:06:55,486 110 out of 118 line components will be deposited as unresolved lines.\n",
      "Adding line - Si II* 1197 [1197.394000 A]: : 100%|██████████| 118/118 [00:00<00:00, 3097.44it/s]\n",
      "yt : [INFO     ] 2019-03-20 23:06:55,534 111 out of 118 line components will be deposited as unresolved lines.\n",
      "Adding line - Si II* 1194 [1194.500000 A]: : 100%|██████████| 118/118 [00:00<00:00, 2866.72it/s]\n",
      "yt : [INFO     ] 2019-03-20 23:06:55,581 112 out of 118 line components will be deposited as unresolved lines.\n",
      "Adding line - Si II 1193 [1193.290000 A]: : 100%|██████████| 118/118 [00:00<00:00, 3437.12it/s]\n",
      "yt : [INFO     ] 2019-03-20 23:06:55,622 114 out of 118 line components will be deposited as unresolved lines.\n",
      "Adding line - Si II 1190 [1190.416000 A]: : 100%|██████████| 118/118 [00:00<00:00, 3311.62it/s]\n",
      "yt : [INFO     ] 2019-03-20 23:06:55,663 118 out of 118 line components will be deposited as unresolved lines.\n",
      "Adding line - Si II* 1024 [1023.700000 A]: : 100%|██████████| 118/118 [00:00<00:00, 3542.06it/s]\n",
      "yt : [INFO     ] 2019-03-20 23:06:55,704 118 out of 118 line components will be deposited as unresolved lines.\n",
      "Adding line - Si II 1021 [1020.699000 A]: : 100%|██████████| 118/118 [00:00<00:00, 3381.37it/s]\n",
      "yt : [INFO     ] 2019-03-20 23:06:55,745 118 out of 118 line components will be deposited as unresolved lines.\n",
      "Adding line - Si II* 993 [992.683000 A]: : 100%|██████████| 118/118 [00:00<00:00, 3331.91it/s]\n",
      "yt : [INFO     ] 2019-03-20 23:06:55,786 118 out of 118 line components will be deposited as unresolved lines.\n",
      "Adding line - Si II 990 [989.873000 A]: : 100%|██████████| 118/118 [00:00<00:00, 3540.56it/s]\n",
      "yt : [INFO     ] 2019-03-20 23:06:55,840 105 out of 118 line components will be deposited as unresolved lines.\n",
      "Adding line - Si III 1207 [1206.500000 A]: : 100%|██████████| 118/118 [00:00<00:00, 2841.95it/s]\n",
      "yt : [INFO     ] 2019-03-20 23:06:55,909 8 out of 118 line components will be deposited as unresolved lines.\n",
      "Adding line - Si IV 1403 [1402.770000 A]: : 100%|██████████| 118/118 [00:00<00:00, 2018.57it/s]\n",
      "yt : [INFO     ] 2019-03-20 23:06:55,991 118 out of 118 line components will be deposited as unresolved lines.\n",
      "Adding line - Si XII 521 [520.665000 A]: : 100%|██████████| 118/118 [00:00<00:00, 1907.28it/s]\n",
      "yt : [INFO     ] 2019-03-20 23:06:56,058 118 out of 118 line components will be deposited as unresolved lines.\n",
      "Adding line - Si XII 499 [499.406000 A]: : 100%|██████████| 118/118 [00:00<00:00, 2206.06it/s]\n",
      "yt : [INFO     ] 2019-03-20 23:06:56,134 26 out of 118 line components will be deposited as unresolved lines.\n"
     ]
    },
    {
     "name": "stderr",
     "output_type": "stream",
     "text": [
      "Adding line - Mg II 1240 [1240.394700 A]: : 100%|██████████| 118/118 [00:00<00:00, 4406.13it/s]\n",
      "yt : [INFO     ] 2019-03-20 23:06:56,168 27 out of 118 line components will be deposited as unresolved lines.\n",
      "Adding line - Mg II 1240 [1239.925300 A]: : 100%|██████████| 118/118 [00:00<00:00, 4394.63it/s]\n",
      "Adding line - C II 1335 [1334.532000 A]: : 100%|██████████| 118/118 [00:00<00:00, 3413.86it/s]\n",
      "yt : [INFO     ] 2019-03-20 23:06:56,257 Not adding continuum Ly C: insufficient column density or out of range\n",
      "yt : [INFO     ] 2019-03-20 23:06:56,272 Writing spectrum plot to png file: spec_raw.png\n"
     ]
    }
   ],
   "source": [
    "sg = tri.SpectrumGenerator('COS-G130M')\n",
    "sg.make_spectrum(tri_ray, lines=line_list)\n",
    "sg.plot_spectrum('spec_raw.png')"
   ]
  },
  {
   "cell_type": "code",
   "execution_count": null,
   "metadata": {},
   "outputs": [],
   "source": []
  },
  {
   "cell_type": "code",
   "execution_count": null,
   "metadata": {},
   "outputs": [],
   "source": []
  }
 ],
 "metadata": {
  "kernelspec": {
   "display_name": "Python 3",
   "language": "python",
   "name": "python3"
  },
  "language_info": {
   "codemirror_mode": {
    "name": "ipython",
    "version": 2
   },
   "file_extension": ".py",
   "mimetype": "text/x-python",
   "name": "python",
   "nbconvert_exporter": "python",
   "pygments_lexer": "ipython2",
   "version": "2.7.15rc1"
  }
 },
 "nbformat": 4,
 "nbformat_minor": 2
}
