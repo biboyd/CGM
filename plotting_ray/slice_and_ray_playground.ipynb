{
 "cells": [
  {
   "cell_type": "code",
   "execution_count": 4,
   "metadata": {
    "scrolled": true
   },
   "outputs": [],
   "source": [
    "import yt\n",
    "import numpy as np\n",
    "import trident as tri"
   ]
  },
  {
   "cell_type": "code",
   "execution_count": 5,
   "metadata": {},
   "outputs": [],
   "source": [
    "filename = \"~/Repo/yt/doc/source/quickstart/IsolatedGalaxy/galaxy0030/galaxy0030\""
   ]
  },
  {
   "cell_type": "code",
   "execution_count": 41,
   "metadata": {},
   "outputs": [
    {
     "name": "stderr",
     "output_type": "stream",
     "text": [
      "yt : [INFO     ] 2019-03-28 00:27:00,137 Parameters: current_time              = 0.00600002000283\n",
      "yt : [INFO     ] 2019-03-28 00:27:00,139 Parameters: domain_dimensions         = [32 32 32]\n",
      "yt : [INFO     ] 2019-03-28 00:27:00,140 Parameters: domain_left_edge          = [0. 0. 0.]\n",
      "yt : [INFO     ] 2019-03-28 00:27:00,142 Parameters: domain_right_edge         = [1. 1. 1.]\n",
      "yt : [INFO     ] 2019-03-28 00:27:00,143 Parameters: cosmological_simulation   = 0.0\n"
     ]
    }
   ],
   "source": [
    "ds = yt.load(filename)\n",
    "\n",
    "ray_start= np.array([0.4, 0, 0.45], dtype=float)\n",
    "ray_end = np.array([0.4, 1, 0.45], dtype=float)\n",
    "\n",
    "ray = ray_end - ray_start\n",
    "line_list = ['O VI', 'H I', 'C IV']\n",
    "norm_vec = [ray[1], -1*ray[0], 0]"
   ]
  },
  {
   "cell_type": "markdown",
   "metadata": {},
   "source": [
    "## coding up ray"
   ]
  },
  {
   "cell_type": "code",
   "execution_count": 42,
   "metadata": {},
   "outputs": [
    {
     "name": "stderr",
     "output_type": "stream",
     "text": [
      "Parsing Hierarchy : 100%|██████████| 173/173 [00:00<00:00, 5737.76it/s]\n",
      "yt : [INFO     ] 2019-03-28 00:27:00,948 Gathering a field list (this may take a moment.)\n",
      "yt : [INFO     ] 2019-03-28 00:27:02,416 Getting segment at z = 0.0: [0.4  0.   0.45] unitary to [0.4  1.   0.45] unitary.\n",
      "yt : [INFO     ] 2019-03-28 00:27:02,420 Getting subsegment: [0.4 unitary, 0.0 unitary, 0.45 unitary] to [0.4 unitary, 1.0 unitary, 0.45 unitary].\n",
      "yt : [INFO     ] 2019-03-28 00:27:02,507 Saving field data to yt dataset: ray.h5.\n",
      "yt : [INFO     ] 2019-03-28 00:27:02,760 Parameters: current_time              = 0.0060000200028298 code_time\n",
      "yt : [INFO     ] 2019-03-28 00:27:02,762 Parameters: domain_dimensions         = [2 2 2]\n",
      "yt : [INFO     ] 2019-03-28 00:27:02,763 Parameters: domain_left_edge          = [0. 0. 0.] code_length\n",
      "yt : [INFO     ] 2019-03-28 00:27:02,765 Parameters: domain_right_edge         = [1. 1. 1.] code_length\n",
      "yt : [INFO     ] 2019-03-28 00:27:02,767 Parameters: cosmological_simulation   = 0.0\n"
     ]
    }
   ],
   "source": [
    "ray_start =ds.arr(ray_start, \"code_length\")\n",
    "ray_end = ds.arr(ray_end, \"code_length\")\n",
    "tri_ray = tri.make_simple_ray(ds,\n",
    "                              start_position = ray_start,\n",
    "                              end_position = ray_end,\n",
    "                              lines = line_list,\n",
    "\t\t\t      ftype = 'gas')\n"
   ]
  },
  {
   "cell_type": "code",
   "execution_count": 43,
   "metadata": {
    "scrolled": false
   },
   "outputs": [
    {
     "name": "stderr",
     "output_type": "stream",
     "text": [
      "yt : [INFO     ] 2019-03-28 00:27:02,813 xlim = 0.000000 1.000000\n",
      "yt : [INFO     ] 2019-03-28 00:27:02,815 ylim = 0.000000 1.000000\n",
      "yt : [INFO     ] 2019-03-28 00:27:02,817 xlim = 0.000000 1.000000\n",
      "yt : [INFO     ] 2019-03-28 00:27:02,819 ylim = 0.000000 1.000000\n",
      "yt : [INFO     ] 2019-03-28 00:27:02,821 Making a fixed resolution buffer of (('gas', 'density')) 800 by 800\n",
      "yt : [INFO     ] 2019-03-28 00:27:03,301 Saving plot xSlice.png\n"
     ]
    },
    {
     "data": {
      "text/plain": [
       "['xSlice.png']"
      ]
     },
     "execution_count": 43,
     "metadata": {},
     "output_type": "execute_result"
    }
   ],
   "source": [
    "spx = yt.SlicePlot(ds, 'x', \n",
    "                   'density', \n",
    "                   center = [0.5, 0.5, 0.5],\n",
    "                   width= (1))\n",
    "spx.annotate_ray(tri_ray)\n",
    "spx.save(\"xSlice.png\")"
   ]
  },
  {
   "cell_type": "code",
   "execution_count": 44,
   "metadata": {},
   "outputs": [
    {
     "name": "stderr",
     "output_type": "stream",
     "text": [
      "yt : [WARNING  ] 2019-03-28 00:27:03,764 Ignoring 'north_vector' keyword as it is ill-defined for an AxisAlignedSlicePlot object.\n",
      "yt : [INFO     ] 2019-03-28 00:27:03,781 xlim = 0.000000 1.000000\n",
      "yt : [INFO     ] 2019-03-28 00:27:03,782 ylim = 0.000000 1.000000\n",
      "yt : [INFO     ] 2019-03-28 00:27:03,785 xlim = 0.000000 1.000000\n",
      "yt : [INFO     ] 2019-03-28 00:27:03,786 ylim = 0.000000 1.000000\n",
      "yt : [INFO     ] 2019-03-28 00:27:03,789 Making a fixed resolution buffer of (('gas', 'density')) 800 by 800\n",
      "yt : [INFO     ] 2019-03-28 00:27:04,080 Saving plot slice.png\n"
     ]
    },
    {
     "data": {
      "text/plain": [
       "['slice.png']"
      ]
     },
     "execution_count": 44,
     "metadata": {},
     "output_type": "execute_result"
    }
   ],
   "source": [
    "#want norm vector that would give same result as x-axis slice\n",
    "center = (ray_end + ray_start)/2\n",
    "center[2]=0.5\n",
    "sp_me= yt.SlicePlot(ds, norm_vec, 'density', \n",
    "                    center = center, \n",
    "                    north_vector=[0,0,1],\n",
    "                    width= (1))\n",
    "sp_me.annotate_ray(tri_ray)\n",
    "sp_me.save(\"slice.png\")"
   ]
  },
  {
   "cell_type": "code",
   "execution_count": 45,
   "metadata": {},
   "outputs": [
    {
     "data": {
      "text/plain": [
       "[1.0, -0.0, 0]"
      ]
     },
     "execution_count": 45,
     "metadata": {},
     "output_type": "execute_result"
    }
   ],
   "source": [
    "norm_vec"
   ]
  },
  {
   "cell_type": "code",
   "execution_count": 46,
   "metadata": {},
   "outputs": [
    {
     "data": {
      "text/plain": [
       "YTArray([0.4, 0.5, 0.5]) unitary"
      ]
     },
     "execution_count": 46,
     "metadata": {},
     "output_type": "execute_result"
    }
   ],
   "source": [
    "center"
   ]
  },
  {
   "cell_type": "code",
   "execution_count": 47,
   "metadata": {
    "scrolled": true
   },
   "outputs": [
    {
     "name": "stderr",
     "output_type": "stream",
     "text": [
      "yt : [INFO     ] 2019-03-28 00:27:04,459 Setting instrument to COS-G130M\n",
      "yt : [INFO     ] 2019-03-28 00:27:04,513 Allocating for 1.180e+02 particles (index particle type 'all')\n",
      "yt : [INFO     ] 2019-03-28 00:27:04,522 Identified 7.300e+01 octs\n",
      "yt : [INFO     ] 2019-03-28 00:27:04,845 Creating O_p5_number_density from ray's density, temperature, metallicity.\n",
      "yt : [INFO     ] 2019-03-28 00:27:04,955 Creating C_p3_number_density from ray's density, temperature, metallicity.\n",
      "yt : [INFO     ] 2019-03-28 00:27:04,993 Creating spectrum\n",
      "yt : [INFO     ] 2019-03-28 00:27:05,040 12 out of 118 line components will be deposited as unresolved lines.\n",
      "Adding line - O VI 1038 [1037.613000 A]: : 100%|██████████| 118/118 [00:00<00:00, 1813.85it/s]\n",
      "yt : [INFO     ] 2019-03-28 00:27:05,111 13 out of 118 line components will be deposited as unresolved lines.\n",
      "Adding line - O VI 1032 [1031.912000 A]: : 100%|██████████| 118/118 [00:00<00:00, 1580.08it/s]\n",
      "Adding line - Ly a [1215.670000 A]: : 100%|██████████| 118/118 [00:00<00:00, 805.11it/s]\n",
      "Adding line - Ly b [1025.722200 A]: : 100%|██████████| 118/118 [00:00<00:00, 963.19it/s]\n",
      "Adding line - Ly c [972.536740 A]: : 100%|██████████| 118/118 [00:00<00:00, 1347.96it/s]\n",
      "Adding line - Ly d [949.742980 A]: : 100%|██████████| 118/118 [00:00<00:00, 1459.73it/s]\n",
      "Adding line - Ly e [937.803400 A]: : 100%|██████████| 118/118 [00:00<00:00, 1647.98it/s]\n",
      "Adding line - Ly 6 [930.748200 A]: : 100%|██████████| 118/118 [00:00<00:00, 1747.58it/s]\n",
      "Adding line - Ly 7 [926.225640 A]: : 100%|██████████| 118/118 [00:00<00:00, 1964.70it/s]\n",
      "Adding line - Ly 8 [923.150300 A]: : 100%|██████████| 118/118 [00:00<00:00, 2117.66it/s]\n",
      "Adding line - Ly 9 [920.963026 A]: : 100%|██████████| 118/118 [00:00<00:00, 2249.98it/s]\n",
      "Adding line - Ly 10 [919.351351 A]: : 100%|██████████| 118/118 [00:00<00:00, 2574.85it/s]\n",
      "Adding line - Ly 11 [918.129312 A]: : 100%|██████████| 118/118 [00:00<00:00, 2386.63it/s]\n",
      "Adding line - Ly 12 [917.180525 A]: : 100%|██████████| 118/118 [00:00<00:00, 2519.26it/s]\n",
      "Adding line - Ly 13 [916.429085 A]: : 100%|██████████| 118/118 [00:00<00:00, 2434.75it/s]\n",
      "Adding line - Ly 14 [915.823759 A]: : 100%|██████████| 118/118 [00:00<00:00, 2600.22it/s]\n",
      "Adding line - Ly 15 [915.328939 A]: : 100%|██████████| 118/118 [00:00<00:00, 2739.08it/s]\n",
      "Adding line - Ly 16 [914.919249 A]: : 100%|██████████| 118/118 [00:00<00:00, 2836.13it/s]\n",
      "Adding line - Ly 17 [914.576207 A]: : 100%|██████████| 118/118 [00:00<00:00, 2813.61it/s]\n",
      "Adding line - Ly 18 [914.286092 A]: : 100%|██████████| 118/118 [00:00<00:00, 2826.29it/s]\n",
      "Adding line - Ly 19 [914.038542 A]: : 100%|██████████| 118/118 [00:00<00:00, 2476.24it/s]\n",
      "Adding line - Ly 20 [913.825614 A]: : 100%|██████████| 118/118 [00:00<00:00, 2814.89it/s]\n",
      "Adding line - Ly 21 [913.641137 A]: : 100%|██████████| 118/118 [00:00<00:00, 2670.28it/s]\n",
      "Adding line - Ly 22 [913.480256 A]: : 100%|██████████| 118/118 [00:00<00:00, 2787.95it/s]\n",
      "Adding line - Ly 23 [913.339110 A]: : 100%|██████████| 118/118 [00:00<00:00, 2807.59it/s]\n",
      "Adding line - Ly 24 [913.214596 A]: : 100%|██████████| 118/118 [00:00<00:00, 2761.13it/s]\n",
      "Adding line - Ly 25 [913.104199 A]: : 100%|██████████| 118/118 [00:00<00:00, 2533.32it/s]\n",
      "Adding line - Ly 26 [913.005863 A]: : 100%|██████████| 118/118 [00:00<00:00, 2761.20it/s]\n",
      "Adding line - Ly 27 [912.917891 A]: : 100%|██████████| 118/118 [00:00<00:00, 2821.55it/s]\n",
      "Adding line - Ly 28 [912.838877 A]: : 100%|██████████| 118/118 [00:00<00:00, 2653.90it/s]\n",
      "Adding line - Ly 29 [912.767643 A]: : 100%|██████████| 118/118 [00:00<00:00, 2381.96it/s]\n",
      "Adding line - Ly 30 [912.703200 A]: : 100%|██████████| 118/118 [00:00<00:00, 2872.93it/s]\n",
      "Adding line - Ly 31 [912.644712 A]: : 100%|██████████| 118/118 [00:00<00:00, 2574.50it/s]\n",
      "Adding line - Ly 32 [912.591467 A]: : 100%|██████████| 118/118 [00:00<00:00, 2666.55it/s]\n",
      "Adding line - Ly 33 [912.542856 A]: : 100%|██████████| 118/118 [00:00<00:00, 2845.98it/s]\n",
      "Adding line - Ly 34 [912.498356 A]: : 100%|██████████| 118/118 [00:00<00:00, 2794.15it/s]\n",
      "Adding line - Ly 35 [912.457516 A]: : 100%|██████████| 118/118 [00:00<00:00, 2784.66it/s]\n",
      "Adding line - Ly 36 [912.419946 A]: : 100%|██████████| 118/118 [00:00<00:00, 2788.15it/s]\n",
      "Adding line - Ly 37 [912.385306 A]: : 100%|██████████| 118/118 [00:00<00:00, 2705.62it/s]\n",
      "Adding line - Ly 38 [912.353298 A]: : 100%|██████████| 118/118 [00:00<00:00, 2616.53it/s]\n",
      "Adding line - Ly 39 [912.323663 A]: : 100%|██████████| 118/118 [00:00<00:00, 2457.86it/s]\n",
      "Adding line - C IV 1551 [1550.772000 A]: : 100%|██████████| 118/118 [00:00<00:00, 1899.64it/s]\n",
      "Adding line - C IV 1548 [1548.187000 A]: : 100%|██████████| 118/118 [00:00<00:00, 1664.15it/s]\n",
      "yt : [INFO     ] 2019-03-28 00:27:07,611 Not adding continuum Ly C: insufficient column density or out of range\n",
      "yt : [INFO     ] 2019-03-28 00:27:07,628 Writing spectrum plot to png file: spec_raw.png\n"
     ]
    }
   ],
   "source": [
    "sg = tri.SpectrumGenerator('COS-G130M')\n",
    "spect = sg.make_spectrum(tri_ray, lines=line_list)\n",
    "s =sg.plot_spectrum('spec_raw.png')"
   ]
  },
  {
   "cell_type": "code",
   "execution_count": 56,
   "metadata": {},
   "outputs": [
    {
     "data": {
      "text/plain": [
       "'C_p3'"
      ]
     },
     "execution_count": 56,
     "metadata": {},
     "output_type": "execute_result"
    }
   ],
   "source": [
    "def ion_p_name(ion):\n",
    "    return ion.split()[0]+'_p'+str(tri.from_roman(ion.split()[1])-1)\n",
    "\n",
    "i = 'C IV'\n",
    "ion_p_name(i)"
   ]
  },
  {
   "cell_type": "code",
   "execution_count": 49,
   "metadata": {},
   "outputs": [],
   "source": [
    "import h5py"
   ]
  },
  {
   "cell_type": "code",
   "execution_count": 57,
   "metadata": {},
   "outputs": [],
   "source": [
    "ray = h5py.File(\"ray.h5\")\n",
    "i.split?"
   ]
  },
  {
   "cell_type": "code",
   "execution_count": 51,
   "metadata": {},
   "outputs": [
    {
     "data": {
      "text/plain": [
       "<HDF5 dataset \"dl\": shape (118,), type \"<f8\">"
      ]
     },
     "execution_count": 51,
     "metadata": {},
     "output_type": "execute_result"
    }
   ],
   "source": [
    "ray[\"grid\"]['dl']"
   ]
  },
  {
   "cell_type": "code",
   "execution_count": 52,
   "metadata": {},
   "outputs": [
    {
     "ename": "ValueError",
     "evalue": "No name (no name)",
     "output_type": "error",
     "traceback": [
      "\u001b[0;31m---------------------------------------------------------------------------\u001b[0m",
      "\u001b[0;31mValueError\u001b[0m                                Traceback (most recent call last)",
      "\u001b[0;32m<ipython-input-52-304c6354683b>\u001b[0m in \u001b[0;36m<module>\u001b[0;34m()\u001b[0m\n\u001b[0;32m----> 1\u001b[0;31m \u001b[0mray\u001b[0m\u001b[0;34m[\u001b[0m\u001b[0;34m'grid'\u001b[0m\u001b[0;34m]\u001b[0m\u001b[0;34m[\u001b[0m\u001b[0;34m''\u001b[0m\u001b[0;34m]\u001b[0m\u001b[0;34m\u001b[0m\u001b[0m\n\u001b[0m",
      "\u001b[0;32mh5py/_objects.pyx\u001b[0m in \u001b[0;36mh5py._objects.with_phil.wrapper\u001b[0;34m()\u001b[0m\n",
      "\u001b[0;32mh5py/_objects.pyx\u001b[0m in \u001b[0;36mh5py._objects.with_phil.wrapper\u001b[0;34m()\u001b[0m\n",
      "\u001b[0;32m/home/bb/.local/lib/python2.7/site-packages/h5py/_hl/group.pyc\u001b[0m in \u001b[0;36m__getitem__\u001b[0;34m(self, name)\u001b[0m\n\u001b[1;32m    260\u001b[0m                 \u001b[0;32mraise\u001b[0m \u001b[0mValueError\u001b[0m\u001b[0;34m(\u001b[0m\u001b[0;34m\"Invalid HDF5 object reference\"\u001b[0m\u001b[0;34m)\u001b[0m\u001b[0;34m\u001b[0m\u001b[0m\n\u001b[1;32m    261\u001b[0m         \u001b[0;32melse\u001b[0m\u001b[0;34m:\u001b[0m\u001b[0;34m\u001b[0m\u001b[0m\n\u001b[0;32m--> 262\u001b[0;31m             \u001b[0moid\u001b[0m \u001b[0;34m=\u001b[0m \u001b[0mh5o\u001b[0m\u001b[0;34m.\u001b[0m\u001b[0mopen\u001b[0m\u001b[0;34m(\u001b[0m\u001b[0mself\u001b[0m\u001b[0;34m.\u001b[0m\u001b[0mid\u001b[0m\u001b[0;34m,\u001b[0m \u001b[0mself\u001b[0m\u001b[0;34m.\u001b[0m\u001b[0m_e\u001b[0m\u001b[0;34m(\u001b[0m\u001b[0mname\u001b[0m\u001b[0;34m)\u001b[0m\u001b[0;34m,\u001b[0m \u001b[0mlapl\u001b[0m\u001b[0;34m=\u001b[0m\u001b[0mself\u001b[0m\u001b[0;34m.\u001b[0m\u001b[0m_lapl\u001b[0m\u001b[0;34m)\u001b[0m\u001b[0;34m\u001b[0m\u001b[0m\n\u001b[0m\u001b[1;32m    263\u001b[0m \u001b[0;34m\u001b[0m\u001b[0m\n\u001b[1;32m    264\u001b[0m         \u001b[0motype\u001b[0m \u001b[0;34m=\u001b[0m \u001b[0mh5i\u001b[0m\u001b[0;34m.\u001b[0m\u001b[0mget_type\u001b[0m\u001b[0;34m(\u001b[0m\u001b[0moid\u001b[0m\u001b[0;34m)\u001b[0m\u001b[0;34m\u001b[0m\u001b[0m\n",
      "\u001b[0;32mh5py/_objects.pyx\u001b[0m in \u001b[0;36mh5py._objects.with_phil.wrapper\u001b[0;34m()\u001b[0m\n",
      "\u001b[0;32mh5py/_objects.pyx\u001b[0m in \u001b[0;36mh5py._objects.with_phil.wrapper\u001b[0;34m()\u001b[0m\n",
      "\u001b[0;32mh5py/h5o.pyx\u001b[0m in \u001b[0;36mh5py.h5o.open\u001b[0;34m()\u001b[0m\n",
      "\u001b[0;31mValueError\u001b[0m: No name (no name)"
     ]
    }
   ],
   "source": [
    "ray['grid']['']"
   ]
  },
  {
   "cell_type": "code",
   "execution_count": 53,
   "metadata": {},
   "outputs": [
    {
     "ename": "KeyError",
     "evalue": "\"Unable to open object (object 'Cp4_number_density' doesn't exist)\"",
     "output_type": "error",
     "traceback": [
      "\u001b[0;31m---------------------------------------------------------------------------\u001b[0m",
      "\u001b[0;31mKeyError\u001b[0m                                  Traceback (most recent call last)",
      "\u001b[0;32m<ipython-input-53-2b492147d1da>\u001b[0m in \u001b[0;36m<module>\u001b[0;34m()\u001b[0m\n\u001b[1;32m      1\u001b[0m \u001b[0mion\u001b[0m\u001b[0;34m=\u001b[0m\u001b[0;34m'H I'\u001b[0m\u001b[0;34m\u001b[0m\u001b[0m\n\u001b[0;32m----> 2\u001b[0;31m \u001b[0mray\u001b[0m\u001b[0;34m[\u001b[0m\u001b[0;34m'grid'\u001b[0m\u001b[0;34m]\u001b[0m\u001b[0;34m[\u001b[0m\u001b[0;34m'Cp4_number_density'\u001b[0m\u001b[0;34m]\u001b[0m\u001b[0;34m\u001b[0m\u001b[0m\n\u001b[0m",
      "\u001b[0;32mh5py/_objects.pyx\u001b[0m in \u001b[0;36mh5py._objects.with_phil.wrapper\u001b[0;34m()\u001b[0m\n",
      "\u001b[0;32mh5py/_objects.pyx\u001b[0m in \u001b[0;36mh5py._objects.with_phil.wrapper\u001b[0;34m()\u001b[0m\n",
      "\u001b[0;32m/home/bb/.local/lib/python2.7/site-packages/h5py/_hl/group.pyc\u001b[0m in \u001b[0;36m__getitem__\u001b[0;34m(self, name)\u001b[0m\n\u001b[1;32m    260\u001b[0m                 \u001b[0;32mraise\u001b[0m \u001b[0mValueError\u001b[0m\u001b[0;34m(\u001b[0m\u001b[0;34m\"Invalid HDF5 object reference\"\u001b[0m\u001b[0;34m)\u001b[0m\u001b[0;34m\u001b[0m\u001b[0m\n\u001b[1;32m    261\u001b[0m         \u001b[0;32melse\u001b[0m\u001b[0;34m:\u001b[0m\u001b[0;34m\u001b[0m\u001b[0m\n\u001b[0;32m--> 262\u001b[0;31m             \u001b[0moid\u001b[0m \u001b[0;34m=\u001b[0m \u001b[0mh5o\u001b[0m\u001b[0;34m.\u001b[0m\u001b[0mopen\u001b[0m\u001b[0;34m(\u001b[0m\u001b[0mself\u001b[0m\u001b[0;34m.\u001b[0m\u001b[0mid\u001b[0m\u001b[0;34m,\u001b[0m \u001b[0mself\u001b[0m\u001b[0;34m.\u001b[0m\u001b[0m_e\u001b[0m\u001b[0;34m(\u001b[0m\u001b[0mname\u001b[0m\u001b[0;34m)\u001b[0m\u001b[0;34m,\u001b[0m \u001b[0mlapl\u001b[0m\u001b[0;34m=\u001b[0m\u001b[0mself\u001b[0m\u001b[0;34m.\u001b[0m\u001b[0m_lapl\u001b[0m\u001b[0;34m)\u001b[0m\u001b[0;34m\u001b[0m\u001b[0m\n\u001b[0m\u001b[1;32m    263\u001b[0m \u001b[0;34m\u001b[0m\u001b[0m\n\u001b[1;32m    264\u001b[0m         \u001b[0motype\u001b[0m \u001b[0;34m=\u001b[0m \u001b[0mh5i\u001b[0m\u001b[0;34m.\u001b[0m\u001b[0mget_type\u001b[0m\u001b[0;34m(\u001b[0m\u001b[0moid\u001b[0m\u001b[0;34m)\u001b[0m\u001b[0;34m\u001b[0m\u001b[0m\n",
      "\u001b[0;32mh5py/_objects.pyx\u001b[0m in \u001b[0;36mh5py._objects.with_phil.wrapper\u001b[0;34m()\u001b[0m\n",
      "\u001b[0;32mh5py/_objects.pyx\u001b[0m in \u001b[0;36mh5py._objects.with_phil.wrapper\u001b[0;34m()\u001b[0m\n",
      "\u001b[0;32mh5py/h5o.pyx\u001b[0m in \u001b[0;36mh5py.h5o.open\u001b[0;34m()\u001b[0m\n",
      "\u001b[0;31mKeyError\u001b[0m: \"Unable to open object (object 'Cp4_number_density' doesn't exist)\""
     ]
    }
   ],
   "source": [
    "ion='H I'\n",
    "ray['grid']['Cp4_number_density']"
   ]
  },
  {
   "cell_type": "code",
   "execution_count": 54,
   "metadata": {},
   "outputs": [],
   "source": [
    "ray.close()"
   ]
  },
  {
   "cell_type": "code",
   "execution_count": 62,
   "metadata": {},
   "outputs": [],
   "source": [
    "import matplotlib.pyplot as plt"
   ]
  },
  {
   "cell_type": "code",
   "execution_count": 58,
   "metadata": {},
   "outputs": [],
   "source": [
    "x = np.arange(0, 5)"
   ]
  },
  {
   "cell_type": "code",
   "execution_count": 60,
   "metadata": {},
   "outputs": [],
   "source": [
    "y = np.array([2, 4, 6, 8, 10])"
   ]
  },
  {
   "cell_type": "code",
   "execution_count": 68,
   "metadata": {},
   "outputs": [
    {
     "data": {
      "image/png": "[encoded data removed]",
      "text/plain": [
       "<Figure size 432x288 with 1 Axes>"
      ]
     },
     "metadata": {
      "needs_background": "light"
     },
     "output_type": "display_data"
    }
   ],
   "source": [
    "fig = plt.figure()\n",
    "plot = plt.plot(x,y)"
   ]
  },
  {
   "cell_type": "code",
   "execution_count": 69,
   "metadata": {
    "scrolled": true
   },
   "outputs": [
    {
     "data": {
      "image/png": "[encoded data removed]",
      "text/plain": [
       "<Figure size 432x288 with 1 Axes>"
      ]
     },
     "execution_count": 69,
     "metadata": {},
     "output_type": "execute_result"
    }
   ],
   "source": [
    "fig"
   ]
  },
  {
   "cell_type": "code",
   "execution_count": null,
   "metadata": {},
   "outputs": [],
   "source": []
  }
 ],
 "metadata": {
  "kernelspec": {
   "display_name": "Python 3",
   "language": "python",
   "name": "python3"
  },
  "language_info": {
   "codemirror_mode": {
    "name": "ipython",
    "version": 2
   },
   "file_extension": ".py",
   "mimetype": "text/x-python",
   "name": "python",
   "nbconvert_exporter": "python",
   "pygments_lexer": "ipython2",
   "version": "2.7.15rc1"
  }
 },
 "nbformat": 4,
 "nbformat_minor": 2
}
