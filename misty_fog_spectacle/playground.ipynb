{
 "cells": [
  {
   "cell_type": "code",
   "execution_count": 1,
   "metadata": {},
   "outputs": [],
   "source": [
    "import yt\n",
    "import trident\n",
    "import numpy as np\n",
    "import matplotlib.pyplot as plt\n",
    "from IPython.display import Image\n",
    "import h5py\n",
    "from importlib import reload\n",
    "from astropy.io import fits\n",
    "import astropy.units as u\n",
    "import MISTY\n",
    "\n",
    "from os import listdir"
   ]
  },
  {
   "cell_type": "code",
   "execution_count": 2,
   "metadata": {},
   "outputs": [],
   "source": [
    "filename = \"~/Repo/yt/doc/source/quickstart/IsolatedGalaxy/galaxy0030/galaxy0030\"\n",
    "rfname = \"/home/bb/Repo/CGM/plotting_ray/ray.h5\"\n",
    "rfname = \"ray0220.h5\""
   ]
  },
  {
   "cell_type": "code",
   "execution_count": 3,
   "metadata": {
    "scrolled": false
   },
   "outputs": [
    {
     "name": "stderr",
     "output_type": "stream",
     "text": [
      "yt : [INFO     ] 2019-05-29 10:00:22,640 Parameters: current_time              = 0.0060000200028298\n",
      "yt : [INFO     ] 2019-05-29 10:00:22,641 Parameters: domain_dimensions         = [32 32 32]\n",
      "yt : [INFO     ] 2019-05-29 10:00:22,642 Parameters: domain_left_edge          = [0. 0. 0.]\n",
      "yt : [INFO     ] 2019-05-29 10:00:22,642 Parameters: domain_right_edge         = [1. 1. 1.]\n",
      "yt : [INFO     ] 2019-05-29 10:00:22,643 Parameters: cosmological_simulation   = 0.0\n"
     ]
    }
   ],
   "source": [
    "ds = yt.load(filename)"
   ]
  },
  {
   "cell_type": "code",
   "execution_count": 4,
   "metadata": {
    "scrolled": false
   },
   "outputs": [
    {
     "name": "stderr",
     "output_type": "stream",
     "text": [
      "yt : [INFO     ] 2019-05-29 10:00:22,841 Parameters: current_time              = 1120.0000898117 code_time\n",
      "yt : [INFO     ] 2019-05-29 10:00:22,841 Parameters: domain_dimensions         = [2 2 2]\n",
      "yt : [INFO     ] 2019-05-29 10:00:22,842 Parameters: domain_left_edge          = [0. 0. 0.] code_length\n",
      "yt : [INFO     ] 2019-05-29 10:00:22,843 Parameters: domain_right_edge         = [1. 1. 1.] code_length\n",
      "yt : [INFO     ] 2019-05-29 10:00:22,845 Parameters: cosmological_simulation   = 0.0\n"
     ]
    }
   ],
   "source": [
    "tri_ray = yt.load(rfname)\n",
    "hdu =MISTY.write_header(tri_ray, lines=['H I', 'C IV', 'O VI'],\n",
    "                  impact=0,\n",
    "                  angle=0)"
   ]
  },
  {
   "cell_type": "code",
   "execution_count": 5,
   "metadata": {},
   "outputs": [
    {
     "name": "stdout",
     "output_type": "stream",
     "text": [
      "---> SIM_CODE set to  None if you don't like this, change it!\n",
      "---> ASSUMING PLEIADES FOR NOW BUT SHOULD BE PASSED IN\n"
     ]
    }
   ],
   "source": [
    "nhdu = MISTY.write_parameter_file(ds, hdulist=hdu)"
   ]
  },
  {
   "cell_type": "code",
   "execution_count": 6,
   "metadata": {},
   "outputs": [
    {
     "name": "stdout",
     "output_type": "stream",
     "text": [
      "Filename: (No file associated with this HDUList)\n",
      "No.    Name      Ver    Type      Cards   Dimensions   Format\n",
      "  0  PRIMARY       1 PrimaryHDU      60   ()      \n",
      "  1                1 BinTableHDU     14   402R x 2C   ['50A', '50A']   \n"
     ]
    }
   ],
   "source": [
    "hdu.info()"
   ]
  },
  {
   "cell_type": "code",
   "execution_count": 7,
   "metadata": {
    "scrolled": false
   },
   "outputs": [
    {
     "data": {
      "text/plain": [
       "<module 'MISTY' from '/home/bb/Repo/CGM/misty_fog_spectacle/MISTY.py'>"
      ]
     },
     "execution_count": 7,
     "metadata": {},
     "output_type": "execute_result"
    }
   ],
   "source": [
    "reload(MISTY)"
   ]
  },
  {
   "cell_type": "code",
   "execution_count": 8,
   "metadata": {
    "scrolled": false
   },
   "outputs": [
    {
     "name": "stdout",
     "output_type": "stream",
     "text": [
      "H I [Ly a, Ly b, Ly c, Ly d, Ly e, Ly 6, Ly 7, Ly 8, Ly 9, Ly 10, Ly 11, Ly 12, Ly 13, Ly 14, Ly 15, Ly 16, Ly 17, Ly 18, Ly 19, Ly 20, Ly 21, Ly 22, Ly 23, Ly 24, Ly 25, Ly 26, Ly 27, Ly 28, Ly 29, Ly 30, Ly 31, Ly 32, Ly 33, Ly 34, Ly 35, Ly 36, Ly 37, Ly 38, Ly 39]\n"
     ]
    },
    {
     "name": "stderr",
     "output_type": "stream",
     "text": [
      "yt : [INFO     ] 2019-05-29 10:00:23,098 Allocating for 2.750e+02 particles (index particle type 'all')\n",
      "yt : [INFO     ] 2019-05-29 10:00:23,103 Identified 1.770e+02 octs\n",
      "yt : [INFO     ] 2019-05-29 10:00:23,376 Setting instrument to Custom\n",
      "yt : [INFO     ] 2019-05-29 10:00:23,381 Creating spectrum\n",
      "Adding line - Ly a [1215.670000 A]: : 100%|██████████| 275/275 [00:00<00:00, 310.44it/s]\n",
      "yt : [INFO     ] 2019-05-29 10:00:24,309 Not adding continuum Ly C: insufficient column density or out of range\n"
     ]
    },
    {
     "name": "stdout",
     "output_type": "stream",
     "text": [
      "[name = 'redshift'; format = 'E'\n",
      " name = 'wavelength'; format = 'E'; unit = 'Angstrom'\n",
      " name = 'tau'; format = 'E' name = 'flux'; format = 'E'\n",
      " name = 'sim_column_density'; format = 'E'\n",
      " name = 'sim_tau_ray'; format = 'E' name = 'sim_EW'; format = 'E'\n",
      " name = 'sim_delta_lambda'; format = 'E'\n",
      " name = 'sim_lambda_obs'; format = 'E'\n",
      " name = 'sim_thermal_b'; format = 'E'\n",
      " name = 'sim_thermal_width'; format = 'E']\n",
      "----->>>>using  H I 1216 as LINENAME, whereas  H I  was passed. Change?\n",
      "f =  0.416\n"
     ]
    },
    {
     "name": "stderr",
     "output_type": "stream",
     "text": [
      "WARNING: VerifyWarning: Keyword name 'SIM_TAU_HDENS' is greater than 8 characters or contains characters not allowed by the FITS standard; a HIERARCH card will be created. [astropy.io.fits.card]\n",
      "WARNING: VerifyWarning: Keyword name 'SIM_TAU_TEMP' is greater than 8 characters or contains characters not allowed by the FITS standard; a HIERARCH card will be created. [astropy.io.fits.card]\n",
      "WARNING: VerifyWarning: Keyword name 'SIM_TAU_METAL' is greater than 8 characters or contains characters not allowed by the FITS standard; a HIERARCH card will be created. [astropy.io.fits.card]\n",
      "WARNING: VerifyWarning: Keyword name 'TOT_COLUMN' is greater than 8 characters or contains characters not allowed by the FITS standard; a HIERARCH card will be created. [astropy.io.fits.card]\n"
     ]
    }
   ],
   "source": [
    "sg = MISTY.generate_line(tri_ray, 'H I', write=True, use_spectacle=False, hdulist=hdu)"
   ]
  },
  {
   "cell_type": "code",
   "execution_count": 9,
   "metadata": {},
   "outputs": [
    {
     "name": "stdout",
     "output_type": "stream",
     "text": [
      "Filename: (No file associated with this HDUList)\n",
      "No.    Name      Ver    Type      Cards   Dimensions   Format\n",
      "  0  PRIMARY       1 PrimaryHDU      60   ()      \n",
      "  1                1 BinTableHDU     14   402R x 2C   ['50A', '50A']   \n",
      "  2  H I 1216      1 BinTableHDU     40   1486R x 11C   ['E', 'E', 'E', 'E', 'E', 'E', 'E', 'E', 'E', 'E', 'E']   \n"
     ]
    }
   ],
   "source": [
    "hdu.info()"
   ]
  },
  {
   "cell_type": "code",
   "execution_count": 10,
   "metadata": {},
   "outputs": [
    {
     "name": "stderr",
     "output_type": "stream",
     "text": [
      "yt : [INFO     ] 2019-05-29 10:00:24,455 Writing spectrum plot to png file: spectrum.png\n"
     ]
    },
    {
     "data": {
      "image/png": "[encoded data removed]",
      "text/plain": [
       "<IPython.core.display.Image object>"
      ]
     },
     "execution_count": 10,
     "metadata": {},
     "output_type": "execute_result"
    }
   ],
   "source": [
    "sg.plot_spectrum()\n",
    "Image('spectrum.png')"
   ]
  },
  {
   "cell_type": "code",
   "execution_count": 11,
   "metadata": {},
   "outputs": [
    {
     "data": {
      "text/plain": [
       "[<matplotlib.lines.Line2D at 0x7f2beba7c128>]"
      ]
     },
     "execution_count": 11,
     "metadata": {},
     "output_type": "execute_result"
    },
    {
     "data": {
      "image/png": "[encoded data removed]",
      "text/plain": [
       "<Figure size 432x288 with 1 Axes>"
      ]
     },
     "metadata": {
      "needs_background": "light"
     },
     "output_type": "display_data"
    }
   ],
   "source": [
    "dd = tri_ray.all_data()\n",
    "rs = [dd['x'][0],dd['y'][0],dd['z'][0] ]\n",
    "re = [dd['x'][-1],dd['y'][-1],dd['z'][-1] ]\n",
    "lam0=1216\n",
    "rayray = ds.ray(rs, re)\n",
    "\n",
    "rshift = sg.lambda_field.value/lam0 -1\n",
    "\n",
    "\"\"\"plt.plot(sg.lambda_field.value, rshift)\n",
    "plt.vlines(1216, .005, -.005)\n",
    "plt.hlines(0, 1209, 1223)\n",
    "plt.show()\"\"\"\n",
    "\n",
    "z =np.median(rshift)\n",
    "\n",
    "lam0 = lam0\n",
    "lams = sg.lambda_field.value *u.Unit('Angstrom')\n",
    "dequiv = u.equivalencies.doppler_relativistic(lam0*u.Unit('Angstrom')*(z+1))\n",
    "\n",
    "vel = lams.to('km/s', equivalencies=dequiv)\n",
    "plt.plot(vel, sg.flux_field)"
   ]
  },
  {
   "cell_type": "code",
   "execution_count": 12,
   "metadata": {},
   "outputs": [
    {
     "data": {
      "text/plain": [
       "-0.0002071218858949453"
      ]
     },
     "execution_count": 12,
     "metadata": {},
     "output_type": "execute_result"
    }
   ],
   "source": [
    "z"
   ]
  },
  {
   "cell_type": "code",
   "execution_count": 13,
   "metadata": {},
   "outputs": [
    {
     "data": {
      "text/latex": [
       "$0.00020716479 \\; \\mathrm{}$"
      ],
      "text/plain": [
       "<Quantity 0.00020716>"
      ]
     },
     "execution_count": 13,
     "metadata": {},
     "output_type": "execute_result"
    }
   ],
   "source": [
    "lam0 *u.Unit('Angstrom')*1/np.median(lams)-1"
   ]
  },
  {
   "cell_type": "code",
   "execution_count": 14,
   "metadata": {
    "scrolled": true
   },
   "outputs": [
    {
     "data": {
      "text/plain": [
       "YTArray([-2.56852016e-04, -2.57923614e-04, -2.58931862e-04,\n",
       "         -2.59989597e-04, -2.60987072e-04, -2.62025893e-04,\n",
       "         -2.63007349e-04, -2.64034655e-04, -2.64997173e-04,\n",
       "         -2.66002207e-04, -2.66946603e-04, -2.67927364e-04,\n",
       "         -2.68851292e-04, -2.69812052e-04, -2.70706167e-04,\n",
       "         -2.71640946e-04, -2.72512168e-04, -2.73413434e-04,\n",
       "         -2.74252704e-04, -2.75120008e-04, -2.75920581e-04,\n",
       "         -2.76758003e-04, -2.77528704e-04, -2.78319031e-04,\n",
       "         -2.79063995e-04, -2.79800840e-04, -2.80513263e-04,\n",
       "         -2.81211970e-04, -2.81862788e-04, -2.82518993e-04,\n",
       "         -2.83104577e-04, -2.83703394e-04, -2.84232420e-04,\n",
       "         -2.84764162e-04, -2.85238431e-04, -2.85696716e-04,\n",
       "         -2.86083105e-04, -2.86532581e-04, -2.86961322e-04,\n",
       "         -2.86400908e-04, -2.72910889e-04, -1.75263945e-04,\n",
       "         -8.51929945e-05, -9.56852654e-05, -1.04210838e-04,\n",
       "         -9.43758586e-05, -8.74329384e-05, -8.76044621e-05,\n",
       "         -8.76946120e-05, -8.03507835e-05, -7.61654253e-05,\n",
       "         -7.73186426e-05, -7.80927282e-05, -7.81980223e-05,\n",
       "         -7.89645167e-05, -7.89317704e-05, -7.66111116e-05,\n",
       "         -7.29849978e-05, -7.18493016e-05, -7.26597958e-05,\n",
       "         -7.24455621e-05, -7.25265347e-05, -7.37899120e-05,\n",
       "         -7.53884367e-05, -7.80467433e-05, -8.10861768e-05,\n",
       "         -8.41817033e-05, -8.45179424e-05, -8.52658670e-05,\n",
       "         -8.51175515e-05, -8.50253205e-05, -8.45254325e-05,\n",
       "         -8.41130361e-05, -8.40026571e-05, -8.44241953e-05,\n",
       "         -8.49162900e-05, -8.46883168e-05, -8.37054393e-05,\n",
       "         -8.16904151e-05, -8.01540061e-05, -7.76306116e-05,\n",
       "         -7.59327629e-05, -7.45380028e-05, -7.39758964e-05,\n",
       "         -7.17683358e-05, -6.64751121e-05, -5.75568630e-05,\n",
       "         -4.54954581e-05, -2.47574143e-05,  2.63404810e-06,\n",
       "         -3.36926114e-07,  7.31516044e-05,  1.46283597e-04,\n",
       "          2.26811764e-04,  2.64689670e-04,  3.32265140e-04,\n",
       "          3.60092610e-04,  3.70703825e-04,  3.40096885e-04,\n",
       "          2.93683917e-04,  2.46134836e-04,  1.79072462e-04,\n",
       "          1.16607195e-04,  9.85720462e-05,  8.50452055e-05,\n",
       "          9.24966380e-05,  8.69145686e-05,  7.32275417e-05,\n",
       "          1.48846454e-04,  2.40759594e-04,  2.93507496e-04,\n",
       "          3.45220343e-04,  4.10014433e-04,  4.15515595e-04,\n",
       "          3.23900006e-04,  3.14118270e-04,  3.13769819e-04,\n",
       "          3.34496671e-04,  3.38196942e-04,  3.11171493e-04,\n",
       "          2.59360506e-04,  2.35723318e-04,  1.74368905e-04,\n",
       "          1.30440668e-04,  8.00136038e-05,  4.90633869e-05,\n",
       "          5.49802477e-05,  9.11245261e-05,  1.32667229e-04,\n",
       "          1.36695662e-04,  1.04375387e-04,  6.07207981e-05,\n",
       "          1.49709804e-05, -1.25123990e-05,  1.85970305e-07,\n",
       "          2.96966309e-05, -6.73745860e-05, -1.56783833e-04,\n",
       "         -1.38322997e-04, -7.13679873e-05, -1.05444074e-05,\n",
       "          1.89148423e-05,  6.98663847e-05,  7.03826464e-05,\n",
       "          3.36309523e-05,  8.46632045e-06, -1.93930889e-05,\n",
       "         -5.25173457e-05, -6.27271555e-05, -6.10539434e-05,\n",
       "         -5.15951084e-05, -4.58944145e-05, -4.03436484e-05,\n",
       "         -3.53939866e-05, -2.94377350e-05, -2.77887622e-05,\n",
       "         -2.28440645e-05, -1.97989245e-05, -1.16258529e-05,\n",
       "         -1.08121267e-05, -6.05311956e-07,  1.31757266e-05,\n",
       "          2.52900016e-05,  3.77121546e-05,  4.72197799e-05,\n",
       "          5.35600440e-05,  5.53425022e-05,  5.52743705e-05,\n",
       "          5.33234200e-05,  5.15585545e-05,  4.55189781e-05,\n",
       "          4.47282763e-05,  4.75208496e-05,  5.27617254e-05,\n",
       "          5.81205227e-05,  6.12020056e-05,  6.34828091e-05,\n",
       "          6.38188987e-05,  6.34778427e-05,  6.37326278e-05,\n",
       "          6.40161554e-05,  6.46590650e-05,  6.51552366e-05,\n",
       "          6.49540540e-05,  6.46576134e-05,  6.33112023e-05,\n",
       "          6.19145696e-05,  5.99414436e-05,  5.96784668e-05,\n",
       "          5.97698151e-05,  5.97973380e-05,  5.96575505e-05,\n",
       "          6.10336998e-05,  6.32442725e-05,  6.42201670e-05,\n",
       "          6.55683801e-05,  6.85040992e-05,  7.21501660e-05,\n",
       "          7.47517747e-05,  8.23101135e-05,  8.67774856e-05,\n",
       "          8.98793149e-05,  9.09418843e-05,  9.10797206e-05,\n",
       "          9.05415973e-05,  9.04401104e-05,  9.16629256e-05,\n",
       "          9.19314078e-05,  9.39447846e-05,  9.53106901e-05,\n",
       "          9.71875404e-05,  9.77512645e-05,  9.77341300e-05,\n",
       "          9.71399277e-05,  9.63169784e-05,  9.59583921e-05,\n",
       "          9.46101122e-05,  9.31259045e-05,  9.14717449e-05,\n",
       "          9.01565021e-05,  8.85848791e-05,  8.64267494e-05,\n",
       "          8.42481456e-05,  8.34609293e-05,  8.17123638e-05,\n",
       "          7.74914603e-05,  7.47966845e-05,  7.67406430e-05,\n",
       "          7.53912592e-05,  6.90229489e-05,  6.51737572e-05,\n",
       "          6.63333378e-05,  1.11435989e-04,  2.52821974e-04,\n",
       "          2.83381495e-04,  2.85030670e-04,  2.84596198e-04,\n",
       "          2.84288271e-04,  2.83895284e-04,  2.83498923e-04,\n",
       "          2.83048220e-04,  2.82582587e-04,  2.82054845e-04,\n",
       "          2.81531105e-04,  2.80937805e-04,  2.80347110e-04,\n",
       "          2.79702809e-04,  2.79045412e-04,  2.78358512e-04,\n",
       "          2.77643582e-04,  2.76909649e-04,  2.76169765e-04,\n",
       "          2.75376890e-04,  2.74611918e-04,  2.73774545e-04,\n",
       "          2.72974004e-04,  2.72110387e-04,  2.71271596e-04,\n",
       "          2.70371867e-04,  2.69502885e-04,  2.68567426e-04,\n",
       "          2.67674626e-04,  2.66714364e-04,  2.65791488e-04,\n",
       "          2.64809801e-04,  2.63866431e-04,  2.62861286e-04,\n",
       "          2.61898212e-04,  2.60872166e-04,  2.59888571e-04,\n",
       "          2.58850189e-04,  2.57852137e-04,  2.56794128e-04,\n",
       "          2.55784530e-04,  2.54712281e-04]) dimensionless"
      ]
     },
     "execution_count": 14,
     "metadata": {},
     "output_type": "execute_result"
    }
   ],
   "source": [
    "tri_ray.all_data()['redshift_eff']"
   ]
  },
  {
   "cell_type": "code",
   "execution_count": 15,
   "metadata": {
    "scrolled": true
   },
   "outputs": [
    {
     "name": "stderr",
     "output_type": "stream",
     "text": [
      "yt : [INFO     ] 2019-05-29 10:00:26,291 Parameters: current_time              = 1120.0000898117 code_time\n",
      "yt : [INFO     ] 2019-05-29 10:00:26,292 Parameters: domain_dimensions         = [2 2 2]\n",
      "yt : [INFO     ] 2019-05-29 10:00:26,293 Parameters: domain_left_edge          = [0. 0. 0.] code_length\n",
      "yt : [INFO     ] 2019-05-29 10:00:26,294 Parameters: domain_right_edge         = [1. 1. 1.] code_length\n",
      "yt : [INFO     ] 2019-05-29 10:00:26,294 Parameters: cosmological_simulation   = 0.0\n"
     ]
    }
   ],
   "source": [
    "r2name=\"ray0200.h5\"\n",
    "ray2 = yt.load(r2name)\n"
   ]
  },
  {
   "cell_type": "code",
   "execution_count": 16,
   "metadata": {
    "scrolled": true
   },
   "outputs": [
    {
     "name": "stderr",
     "output_type": "stream",
     "text": [
      "yt : [INFO     ] 2019-05-29 10:00:26,870 Allocating for 2.700e+02 particles (index particle type 'all')\n",
      "yt : [INFO     ] 2019-05-29 10:00:26,874 Identified 1.770e+02 octs\n"
     ]
    },
    {
     "data": {
      "text/plain": [
       "0.0004448329893160796 dimensionless"
      ]
     },
     "execution_count": 16,
     "metadata": {},
     "output_type": "execute_result"
    }
   ],
   "source": [
    "max(ray2.all_data()['redshift_eff'])"
   ]
  },
  {
   "cell_type": "code",
   "execution_count": null,
   "metadata": {},
   "outputs": [],
   "source": []
  },
  {
   "cell_type": "code",
   "execution_count": 19,
   "metadata": {},
   "outputs": [
    {
     "data": {
      "text/plain": [
       "(array([41.,  0.,  0.,  2.,  1., 31., 22., 12.,  9., 33., 51.,  5.,  3.,\n",
       "         2.,  2., 27., 21.,  9.,  2.,  2.]),\n",
       " YTArray([-2.86961322e-04, -2.51837476e-04, -2.16713630e-04,\n",
       "          -1.81589784e-04, -1.46465938e-04, -1.11342093e-04,\n",
       "          -7.62182467e-05, -4.10944009e-05, -5.97055501e-06,\n",
       "           2.91532908e-05,  6.42771367e-05,  9.94009825e-05,\n",
       "           1.34524828e-04,  1.69648674e-04,  2.04772520e-04,\n",
       "           2.39896366e-04,  2.75020212e-04,  3.10144058e-04,\n",
       "           3.45267903e-04,  3.80391749e-04,  4.15515595e-04]) dimensionless,\n",
       " <a list of 20 Patch objects>)"
      ]
     },
     "execution_count": 19,
     "metadata": {},
     "output_type": "execute_result"
    },
    {
     "data": {
      "image/png": "[encoded data removed]",
      "text/plain": [
       "<Figure size 432x288 with 1 Axes>"
      ]
     },
     "metadata": {
      "needs_background": "light"
     },
     "output_type": "display_data"
    }
   ],
   "source": [
    "plt.hist(tri_ray.all_data()['redshift_eff'], bins=20)"
   ]
  },
  {
   "cell_type": "code",
   "execution_count": null,
   "metadata": {},
   "outputs": [],
   "source": []
  }
 ],
 "metadata": {
  "kernelspec": {
   "display_name": "Python 3",
   "language": "python",
   "name": "python3"
  },
  "language_info": {
   "codemirror_mode": {
    "name": "ipython",
    "version": 3
   },
   "file_extension": ".py",
   "mimetype": "text/x-python",
   "name": "python",
   "nbconvert_exporter": "python",
   "pygments_lexer": "ipython3",
   "version": "3.7.3"
  }
 },
 "nbformat": 4,
 "nbformat_minor": 2
}
