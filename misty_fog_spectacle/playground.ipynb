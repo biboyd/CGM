{
 "cells": [
  {
   "cell_type": "code",
   "execution_count": 1,
   "metadata": {},
   "outputs": [],
   "source": [
    "import yt\n",
    "import trident\n",
    "import numpy as np\n",
    "import matplotlib.pyplot as plt\n",
    "from IPython.display import Image\n",
    "import h5py\n",
    "from importlib import reload\n",
    "from astropy.io import fits\n",
    "\n",
    "import MISTY\n",
    "\n",
    "from os import listdir"
   ]
  },
  {
   "cell_type": "code",
   "execution_count": 2,
   "metadata": {},
   "outputs": [],
   "source": [
    "filename = \"~/Repo/yt/doc/source/quickstart/IsolatedGalaxy/galaxy0030/galaxy0030\"\n",
    "rfname = \"/home/bb/Repo/CGM/plotting_ray/ray.h5\"\n"
   ]
  },
  {
   "cell_type": "code",
   "execution_count": 3,
   "metadata": {
    "scrolled": false
   },
   "outputs": [
    {
     "name": "stderr",
     "output_type": "stream",
     "text": [
      "yt : [INFO     ] 2019-05-24 11:08:42,228 Parameters: current_time              = 0.0060000200028298\n",
      "yt : [INFO     ] 2019-05-24 11:08:42,229 Parameters: domain_dimensions         = [32 32 32]\n",
      "yt : [INFO     ] 2019-05-24 11:08:42,230 Parameters: domain_left_edge          = [0. 0. 0.]\n",
      "yt : [INFO     ] 2019-05-24 11:08:42,231 Parameters: domain_right_edge         = [1. 1. 1.]\n",
      "yt : [INFO     ] 2019-05-24 11:08:42,232 Parameters: cosmological_simulation   = 0.0\n"
     ]
    }
   ],
   "source": [
    "ds = yt.load(filename)"
   ]
  },
  {
   "cell_type": "code",
   "execution_count": 4,
   "metadata": {
    "scrolled": false
   },
   "outputs": [
    {
     "name": "stderr",
     "output_type": "stream",
     "text": [
      "yt : [INFO     ] 2019-05-24 11:08:42,403 Parameters: current_time              = 0.0060000200028298 code_time\n",
      "yt : [INFO     ] 2019-05-24 11:08:42,404 Parameters: domain_dimensions         = [2 2 2]\n",
      "yt : [INFO     ] 2019-05-24 11:08:42,405 Parameters: domain_left_edge          = [0. 0. 0.] code_length\n",
      "yt : [INFO     ] 2019-05-24 11:08:42,406 Parameters: domain_right_edge         = [1. 1. 1.] code_length\n",
      "yt : [INFO     ] 2019-05-24 11:08:42,406 Parameters: cosmological_simulation   = 0.0\n"
     ]
    }
   ],
   "source": [
    "tri_ray = yt.load(rfname)\n",
    "hdu =MISTY.write_header(tri_ray, lines=['H I', 'C IV', 'O VI'],\n",
    "                  impact=0,\n",
    "                  angle=0)"
   ]
  },
  {
   "cell_type": "code",
   "execution_count": 5,
   "metadata": {},
   "outputs": [
    {
     "name": "stdout",
     "output_type": "stream",
     "text": [
      "---> SIM_CODE set to  None if you don't like this, change it!\n",
      "---> ASSUMING PLEIADES FOR NOW BUT SHOULD BE PASSED IN\n"
     ]
    }
   ],
   "source": [
    "nhdu = MISTY.write_parameter_file(ds, hdulist=hdu)"
   ]
  },
  {
   "cell_type": "code",
   "execution_count": 6,
   "metadata": {},
   "outputs": [
    {
     "name": "stdout",
     "output_type": "stream",
     "text": [
      "Filename: (No file associated with this HDUList)\n",
      "No.    Name      Ver    Type      Cards   Dimensions   Format\n",
      "  0  PRIMARY       1 PrimaryHDU      60   ()      \n",
      "  1                1 BinTableHDU     14   402R x 2C   ['50A', '50A']   \n"
     ]
    }
   ],
   "source": [
    "hdu.info()"
   ]
  },
  {
   "cell_type": "code",
   "execution_count": 8,
   "metadata": {
    "scrolled": false
   },
   "outputs": [
    {
     "data": {
      "text/plain": [
       "<module 'MISTY' from '/home/bb/Repo/CGM/misty_fog_spectacle/MISTY.py'>"
      ]
     },
     "execution_count": 8,
     "metadata": {},
     "output_type": "execute_result"
    }
   ],
   "source": [
    "reload(MISTY)"
   ]
  },
  {
   "cell_type": "code",
   "execution_count": 15,
   "metadata": {
    "scrolled": false
   },
   "outputs": [
    {
     "name": "stdout",
     "output_type": "stream",
     "text": [
      "H I [Ly a, Ly b, Ly c, Ly d, Ly e, Ly 6, Ly 7, Ly 8, Ly 9, Ly 10, Ly 11, Ly 12, Ly 13, Ly 14, Ly 15, Ly 16, Ly 17, Ly 18, Ly 19, Ly 20, Ly 21, Ly 22, Ly 23, Ly 24, Ly 25, Ly 26, Ly 27, Ly 28, Ly 29, Ly 30, Ly 31, Ly 32, Ly 33, Ly 34, Ly 35, Ly 36, Ly 37, Ly 38, Ly 39]\n"
     ]
    },
    {
     "name": "stderr",
     "output_type": "stream",
     "text": [
      "yt : [INFO     ] 2019-05-24 11:13:46,577 Setting instrument to Custom\n",
      "yt : [INFO     ] 2019-05-24 11:13:46,584 Creating spectrum\n",
      "Adding line - Ly a [1215.670000 A]: : 100%|██████████| 112/112 [00:00<00:00, 1001.42it/s]\n",
      "yt : [INFO     ] 2019-05-24 11:13:46,739 Not adding continuum Ly C: insufficient column density or out of range\n"
     ]
    },
    {
     "name": "stdout",
     "output_type": "stream",
     "text": [
      "[name = 'redshift'; format = 'E'\n",
      " name = 'wavelength'; format = 'E'; unit = 'Angstrom'\n",
      " name = 'tau'; format = 'E' name = 'flux'; format = 'E'\n",
      " name = 'sim_column_density'; format = 'E'\n",
      " name = 'sim_tau_ray'; format = 'E' name = 'sim_EW'; format = 'E'\n",
      " name = 'sim_delta_lambda'; format = 'E'\n",
      " name = 'sim_lambda_obs'; format = 'E'\n",
      " name = 'sim_thermal_b'; format = 'E'\n",
      " name = 'sim_thermal_width'; format = 'E']\n",
      "----->>>>using  H I 1216 as LINENAME, whereas  H I  was passed. Change?\n",
      "f =  0.416\n"
     ]
    },
    {
     "name": "stderr",
     "output_type": "stream",
     "text": [
      "WARNING: VerifyWarning: Keyword name 'SIM_TAU_HDENS' is greater than 8 characters or contains characters not allowed by the FITS standard; a HIERARCH card will be created. [astropy.io.fits.card]\n",
      "WARNING: VerifyWarning: Keyword name 'SIM_TAU_TEMP' is greater than 8 characters or contains characters not allowed by the FITS standard; a HIERARCH card will be created. [astropy.io.fits.card]\n",
      "WARNING: VerifyWarning: Keyword name 'SIM_TAU_METAL' is greater than 8 characters or contains characters not allowed by the FITS standard; a HIERARCH card will be created. [astropy.io.fits.card]\n",
      "WARNING: VerifyWarning: Keyword name 'TOT_COLUMN' is greater than 8 characters or contains characters not allowed by the FITS standard; a HIERARCH card will be created. [astropy.io.fits.card]\n"
     ]
    }
   ],
   "source": [
    "sg = MISTY.generate_line(tri_ray, 'H I', write=True, use_spectacle=False, hdulist=hdu)"
   ]
  },
  {
   "cell_type": "code",
   "execution_count": 16,
   "metadata": {},
   "outputs": [
    {
     "name": "stdout",
     "output_type": "stream",
     "text": [
      "Filename: (No file associated with this HDUList)\n",
      "No.    Name      Ver    Type      Cards   Dimensions   Format\n",
      "  0  PRIMARY       1 PrimaryHDU      60   ()      \n",
      "  1                1 BinTableHDU     14   402R x 2C   ['50A', '50A']   \n",
      "  2  H I 1216      1 BinTableHDU     40   1421R x 11C   ['E', 'E', 'E', 'E', 'E', 'E', 'E', 'E', 'E', 'E', 'E']   \n",
      "  3  H I 1216      1 BinTableHDU     40   1421R x 11C   ['E', 'E', 'E', 'E', 'E', 'E', 'E', 'E', 'E', 'E', 'E']   \n"
     ]
    }
   ],
   "source": [
    "hdu.info()"
   ]
  },
  {
   "cell_type": "code",
   "execution_count": 11,
   "metadata": {},
   "outputs": [
    {
     "data": {
      "text/plain": [
       "1.2054687499999999e+24 cm"
      ]
     },
     "execution_count": 11,
     "metadata": {},
     "output_type": "execute_result"
    }
   ],
   "source": [
    "dd = tri_ray.all_data()\n",
    "dd['x'][0]"
   ]
  },
  {
   "cell_type": "code",
   "execution_count": 12,
   "metadata": {},
   "outputs": [],
   "source": [
    "rs = [dd['x'][0],dd['y'][0],dd['z'][0] ]\n",
    "re = [dd['x'][-1],dd['y'][-1],dd['z'][-1] ]\n",
    "\n",
    "rayray = ds.ray(rs, re)"
   ]
  },
  {
   "cell_type": "code",
   "execution_count": 13,
   "metadata": {},
   "outputs": [
    {
     "data": {
      "text/html": [
       "<div>\n",
       "<style scoped>\n",
       "    .dataframe tbody tr th:only-of-type {\n",
       "        vertical-align: middle;\n",
       "    }\n",
       "\n",
       "    .dataframe tbody tr th {\n",
       "        vertical-align: top;\n",
       "    }\n",
       "\n",
       "    .dataframe thead th {\n",
       "        text-align: right;\n",
       "    }\n",
       "</style>\n",
       "<table border=\"1\" class=\"dataframe\">\n",
       "  <thead>\n",
       "    <tr style=\"text-align: right;\">\n",
       "      <th></th>\n",
       "    </tr>\n",
       "  </thead>\n",
       "  <tbody>\n",
       "  </tbody>\n",
       "</table>\n",
       "</div>"
      ],
      "text/plain": [
       "Empty DataFrame\n",
       "Columns: []\n",
       "Index: []"
      ]
     },
     "execution_count": 13,
     "metadata": {},
     "output_type": "execute_result"
    }
   ],
   "source": [
    "rayray.to_dataframe()"
   ]
  },
  {
   "cell_type": "code",
   "execution_count": 28,
   "metadata": {},
   "outputs": [
    {
     "data": {
      "text/plain": [
       "YTArray([1208.62414017, 1208.63414316, 1208.64414615, ..., 1222.80838378,\n",
       "         1222.81838677, 1222.82838977]) angstrom"
      ]
     },
     "execution_count": 28,
     "metadata": {},
     "output_type": "execute_result"
    }
   ],
   "source": [
    "sg.lambda_field"
   ]
  },
  {
   "cell_type": "code",
   "execution_count": 19,
   "metadata": {},
   "outputs": [],
   "source": [
    "import matplotlib.pyplot as plt\n"
   ]
  },
  {
   "cell_type": "code",
   "execution_count": 52,
   "metadata": {},
   "outputs": [
    {
     "data": {
      "text/plain": [
       "<matplotlib.collections.LineCollection at 0x7fe4815d3ac8>"
      ]
     },
     "execution_count": 52,
     "metadata": {},
     "output_type": "execute_result"
    },
    {
     "data": {
      "image/png": "[encoded data removed]",
      "text/plain": [
       "<Figure size 432x288 with 1 Axes>"
      ]
     },
     "metadata": {
      "needs_background": "light"
     },
     "output_type": "display_data"
    }
   ],
   "source": [
    "rshift = sg.lambda_field.value/1216 -1\n",
    "plt.plot(sg.lambda_field.value, rshift)\n",
    "plt.vlines(1216, .005, -.005)\n",
    "plt.hlines(0, 1209, 1223)"
   ]
  },
  {
   "cell_type": "code",
   "execution_count": 23,
   "metadata": {},
   "outputs": [],
   "source": [
    "z =np.median(rshift)"
   ]
  },
  {
   "cell_type": "code",
   "execution_count": 24,
   "metadata": {},
   "outputs": [],
   "source": [
    "from astropy import units as u"
   ]
  },
  {
   "cell_type": "code",
   "execution_count": 33,
   "metadata": {},
   "outputs": [],
   "source": [
    "lam0 = 1216\n",
    "lams = sg.lambda_field.value *u.Unit('Angstrom')\n",
    "dequiv = u.equivalencies.doppler_relativistic(lam0*u.Unit('Angstrom')*(z+1))"
   ]
  },
  {
   "cell_type": "code",
   "execution_count": 35,
   "metadata": {},
   "outputs": [
    {
     "data": {
      "text/latex": [
       "$[1208.6241,~1208.6341,~1208.6441,~\\dots,~1222.8084,~1222.8184,~1222.8284] \\; \\mathrm{\\mathring{A}}$"
      ],
      "text/plain": [
       "<Quantity [1208.62414017, 1208.63414316, 1208.64414615, ..., 1222.80838378,\n",
       "           1222.81838677, 1222.82838977] Angstrom>"
      ]
     },
     "execution_count": 35,
     "metadata": {},
     "output_type": "execute_result"
    }
   ],
   "source": [
    "lams"
   ]
  },
  {
   "cell_type": "code",
   "execution_count": 38,
   "metadata": {},
   "outputs": [],
   "source": [
    "vel = lams.to('km/s', equivalencies=dequiv)"
   ]
  },
  {
   "cell_type": "code",
   "execution_count": 39,
   "metadata": {},
   "outputs": [
    {
     "data": {
      "text/plain": [
       "[<matplotlib.lines.Line2D at 0x7fe481705a20>]"
      ]
     },
     "execution_count": 39,
     "metadata": {},
     "output_type": "execute_result"
    },
    {
     "data": {
      "image/png": "[encoded data removed]",
      "text/plain": [
       "<Figure size 432x288 with 1 Axes>"
      ]
     },
     "metadata": {
      "needs_background": "light"
     },
     "output_type": "display_data"
    }
   ],
   "source": [
    "plt.plot(vel, sg.flux_field)"
   ]
  },
  {
   "cell_type": "code",
   "execution_count": 40,
   "metadata": {},
   "outputs": [
    {
     "data": {
      "text/plain": [
       "-0.0002251110468991513"
      ]
     },
     "execution_count": 40,
     "metadata": {},
     "output_type": "execute_result"
    }
   ],
   "source": [
    "z"
   ]
  },
  {
   "cell_type": "code",
   "execution_count": 45,
   "metadata": {},
   "outputs": [
    {
     "data": {
      "text/latex": [
       "$0.00022516173 \\; \\mathrm{}$"
      ],
      "text/plain": [
       "<Quantity 0.00022516>"
      ]
     },
     "execution_count": 45,
     "metadata": {},
     "output_type": "execute_result"
    }
   ],
   "source": [
    "lam0 *u.Unit('Angstrom')*1/np.median(lams)-1"
   ]
  },
  {
   "cell_type": "code",
   "execution_count": 54,
   "metadata": {},
   "outputs": [
    {
     "data": {
      "text/plain": [
       "YTArray([ 7.20460358e-10, -6.24800880e-06, -7.11835544e-06,\n",
       "         -8.09164741e-06, -9.27758515e-06, -1.07315477e-05,\n",
       "         -1.25287927e-05, -1.49386039e-05, -1.64405085e-05,\n",
       "         -1.80588595e-05, -1.99458296e-05, -2.37464641e-05,\n",
       "         -2.42010279e-05, -2.48219655e-05, -2.59513300e-05,\n",
       "         -2.72635006e-05, -2.86605133e-05, -3.04197775e-05,\n",
       "         -3.20411013e-05, -3.28505269e-05, -3.29934016e-05,\n",
       "         -3.29289266e-05, -3.35722703e-05, -3.77239149e-05,\n",
       "         -3.63796538e-05, -2.51517803e-05, -1.01152521e-05,\n",
       "          2.40624668e-06,  1.48797471e-05,  9.74531168e-06,\n",
       "         -9.40010735e-06, -1.69931806e-05, -6.56542263e-06,\n",
       "          9.92724665e-06, -2.91977854e-06, -5.25758356e-06,\n",
       "          1.66548694e-05,  1.96929847e-05,  1.94205513e-05,\n",
       "          2.00458716e-05,  1.15609520e-05,  1.61564049e-06,\n",
       "         -9.86524734e-06, -2.01189858e-05, -1.91551937e-05,\n",
       "         -1.37817608e-05, -4.12399016e-06,  7.09668128e-06,\n",
       "          8.14700257e-06,  3.50694634e-06,  1.59204371e-05,\n",
       "          1.72099734e-05,  5.82025511e-06,  1.56940477e-05,\n",
       "          2.78206349e-05,  3.10434842e-05,  3.54148740e-05,\n",
       "          4.29379459e-05,  4.43318422e-05,  4.53637188e-05,\n",
       "          4.98312793e-05,  5.51396900e-05,  6.41068799e-05,\n",
       "          7.05402268e-05,  7.05931327e-05,  7.19806996e-05,\n",
       "          7.79841866e-05,  7.50168862e-05,  7.49051089e-05,\n",
       "          8.17900808e-05,  8.57949944e-05,  8.53596576e-05,\n",
       "          8.68553623e-05,  9.29918722e-05,  1.07026984e-04,\n",
       "          1.22837358e-04,  1.30290100e-04,  1.29850424e-04,\n",
       "          1.14763781e-04,  9.44884432e-05,  8.11268940e-05,\n",
       "          8.03514993e-05,  9.29588906e-05,  1.07622896e-04,\n",
       "          1.14975158e-04,  1.14249683e-04,  1.11147614e-04,\n",
       "          1.05593963e-04,  8.33972285e-05,  6.21271197e-05,\n",
       "          3.69731834e-05,  1.71378847e-05,  7.31818584e-06,\n",
       "          4.70507794e-06,  2.52453125e-06,  1.83866757e-05,\n",
       "          3.40645202e-05,  4.04153596e-05,  3.87128062e-05,\n",
       "          2.87159452e-05,  1.98282265e-05,  2.76425786e-05,\n",
       "          2.98425868e-05,  2.86408478e-05,  2.72842956e-05,\n",
       "          2.59676701e-05,  2.47134407e-05,  2.34915186e-05,\n",
       "          2.16371347e-05,  1.96838477e-05,  1.75580280e-05,\n",
       "          1.47681681e-05]) dimensionless"
      ]
     },
     "execution_count": 54,
     "metadata": {},
     "output_type": "execute_result"
    }
   ],
   "source": [
    "tri_ray.all_data()['redshift_eff']"
   ]
  },
  {
   "cell_type": "code",
   "execution_count": null,
   "metadata": {},
   "outputs": [],
   "source": []
  }
 ],
 "metadata": {
  "kernelspec": {
   "display_name": "Python 3",
   "language": "python",
   "name": "python3"
  },
  "language_info": {
   "codemirror_mode": {
    "name": "ipython",
    "version": 3
   },
   "file_extension": ".py",
   "mimetype": "text/x-python",
   "name": "python",
   "nbconvert_exporter": "python",
   "pygments_lexer": "ipython3",
   "version": "3.7.3"
  }
 },
 "nbformat": 4,
 "nbformat_minor": 2
}
